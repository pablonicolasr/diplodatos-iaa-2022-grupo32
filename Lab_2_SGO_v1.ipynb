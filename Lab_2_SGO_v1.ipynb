{
  "cells": [
    {
      "cell_type": "markdown",
      "metadata": {
        "id": "view-in-github",
        "colab_type": "text"
      },
      "source": [
        "<a href=\"https://colab.research.google.com/github/pablonicolasr/diplodatos-iaa-2022-grupo32/blob/Seba_IntroML/Lab_2_SGO_v1.ipynb\" target=\"_parent\"><img src=\"https://colab.research.google.com/assets/colab-badge.svg\" alt=\"Open In Colab\"/></a>"
      ]
    },
    {
      "cell_type": "markdown",
      "metadata": {
        "id": "7eSqQFWfIAd4"
      },
      "source": [
        "# Laboratorio 2: Armado de un esquema de aprendizaje automático\n",
        "\n",
        "En el laboratorio final se espera que puedan poner en práctica los conocimientos adquiridos en el curso, trabajando con un conjunto de datos de clasificación.\n",
        "\n",
        "El objetivo es que se introduzcan en el desarrollo de un esquema para hacer tareas de aprendizaje automático: selección de un modelo, ajuste de hiperparámetros y evaluación.\n",
        "\n",
        "El conjunto de datos a utilizar está en `./data/loan_data.csv`. Si abren el archivo verán que al principio (las líneas que empiezan con `#`) describen el conjunto de datos y sus atributos (incluyendo el atributo de etiqueta o clase).\n",
        "\n",
        "Se espera que hagan uso de las herramientas vistas en el curso. Se espera que hagan uso especialmente de las herramientas brindadas por `scikit-learn`."
      ]
    },
    {
      "cell_type": "code",
      "execution_count": null,
      "metadata": {
        "id": "YR_QcnmoIAd_"
      },
      "outputs": [],
      "source": [
        "import numpy as np\n",
        "import pandas as pd\n",
        "\n",
        "# TODO: Agregar las librerías que hagan falta\n",
        "from sklearn.model_selection import train_test_split"
      ]
    },
    {
      "cell_type": "markdown",
      "metadata": {
        "id": "YbtkBrqBIAeB"
      },
      "source": [
        "## Carga de datos y división en entrenamiento y evaluación\n",
        "\n",
        "La celda siguiente se encarga de la carga de datos (haciendo uso de pandas). Estos serán los que se trabajarán en el resto del laboratorio."
      ]
    },
    {
      "cell_type": "code",
      "execution_count": null,
      "metadata": {
        "scrolled": true,
        "id": "JVwbRpQVIAeB"
      },
      "outputs": [],
      "source": [
        "dataset = pd.read_csv(\"./data/loan_data.csv\", comment=\"#\")\n",
        "\n",
        "# División entre instancias y etiquetas\n",
        "X, y = dataset.iloc[:, 1:], dataset.TARGET\n",
        "\n",
        "# división entre entrenamiento y evaluación\n",
        "X_train, X_test, y_train, y_test = train_test_split(X, y, test_size=0.2, random_state=0)"
      ]
    },
    {
      "cell_type": "code",
      "execution_count": null,
      "metadata": {
        "scrolled": false,
        "id": "i_NWjaqeIAeC",
        "outputId": "84694f52-49cf-45e1-b7d1-6e81a7e6ae5c"
      },
      "outputs": [
        {
          "data": {
            "text/html": [
              "<div>\n",
              "<style scoped>\n",
              "    .dataframe tbody tr th:only-of-type {\n",
              "        vertical-align: middle;\n",
              "    }\n",
              "\n",
              "    .dataframe tbody tr th {\n",
              "        vertical-align: top;\n",
              "    }\n",
              "\n",
              "    .dataframe thead th {\n",
              "        text-align: right;\n",
              "    }\n",
              "</style>\n",
              "<table border=\"1\" class=\"dataframe\">\n",
              "  <thead>\n",
              "    <tr style=\"text-align: right;\">\n",
              "      <th></th>\n",
              "      <th>TARGET</th>\n",
              "      <th>LOAN</th>\n",
              "      <th>MORTDUE</th>\n",
              "      <th>VALUE</th>\n",
              "      <th>YOJ</th>\n",
              "      <th>DEROG</th>\n",
              "      <th>DELINQ</th>\n",
              "      <th>CLAGE</th>\n",
              "      <th>NINQ</th>\n",
              "      <th>CLNO</th>\n",
              "      <th>DEBTINC</th>\n",
              "    </tr>\n",
              "  </thead>\n",
              "  <tbody>\n",
              "    <tr>\n",
              "      <th>0</th>\n",
              "      <td>0</td>\n",
              "      <td>4700</td>\n",
              "      <td>88026.0</td>\n",
              "      <td>115506.0</td>\n",
              "      <td>6.0</td>\n",
              "      <td>0.0</td>\n",
              "      <td>0.0</td>\n",
              "      <td>182.248332</td>\n",
              "      <td>0.0</td>\n",
              "      <td>27.0</td>\n",
              "      <td>29.209023</td>\n",
              "    </tr>\n",
              "    <tr>\n",
              "      <th>1</th>\n",
              "      <td>0</td>\n",
              "      <td>19300</td>\n",
              "      <td>39926.0</td>\n",
              "      <td>101208.0</td>\n",
              "      <td>4.0</td>\n",
              "      <td>0.0</td>\n",
              "      <td>0.0</td>\n",
              "      <td>140.051638</td>\n",
              "      <td>0.0</td>\n",
              "      <td>14.0</td>\n",
              "      <td>31.545694</td>\n",
              "    </tr>\n",
              "    <tr>\n",
              "      <th>2</th>\n",
              "      <td>0</td>\n",
              "      <td>5700</td>\n",
              "      <td>71556.0</td>\n",
              "      <td>79538.0</td>\n",
              "      <td>2.0</td>\n",
              "      <td>0.0</td>\n",
              "      <td>0.0</td>\n",
              "      <td>92.643085</td>\n",
              "      <td>0.0</td>\n",
              "      <td>15.0</td>\n",
              "      <td>41.210012</td>\n",
              "    </tr>\n",
              "    <tr>\n",
              "      <th>3</th>\n",
              "      <td>0</td>\n",
              "      <td>13000</td>\n",
              "      <td>44875.0</td>\n",
              "      <td>57713.0</td>\n",
              "      <td>0.0</td>\n",
              "      <td>1.0</td>\n",
              "      <td>0.0</td>\n",
              "      <td>184.990324</td>\n",
              "      <td>1.0</td>\n",
              "      <td>12.0</td>\n",
              "      <td>28.602076</td>\n",
              "    </tr>\n",
              "    <tr>\n",
              "      <th>4</th>\n",
              "      <td>0</td>\n",
              "      <td>19300</td>\n",
              "      <td>72752.0</td>\n",
              "      <td>106084.0</td>\n",
              "      <td>11.0</td>\n",
              "      <td>0.0</td>\n",
              "      <td>0.0</td>\n",
              "      <td>193.707100</td>\n",
              "      <td>1.0</td>\n",
              "      <td>13.0</td>\n",
              "      <td>30.686106</td>\n",
              "    </tr>\n",
              "    <tr>\n",
              "      <th>...</th>\n",
              "      <td>...</td>\n",
              "      <td>...</td>\n",
              "      <td>...</td>\n",
              "      <td>...</td>\n",
              "      <td>...</td>\n",
              "      <td>...</td>\n",
              "      <td>...</td>\n",
              "      <td>...</td>\n",
              "      <td>...</td>\n",
              "      <td>...</td>\n",
              "      <td>...</td>\n",
              "    </tr>\n",
              "    <tr>\n",
              "      <th>1849</th>\n",
              "      <td>1</td>\n",
              "      <td>53400</td>\n",
              "      <td>228236.0</td>\n",
              "      <td>305514.0</td>\n",
              "      <td>6.0</td>\n",
              "      <td>0.0</td>\n",
              "      <td>0.0</td>\n",
              "      <td>11.148069</td>\n",
              "      <td>0.0</td>\n",
              "      <td>2.0</td>\n",
              "      <td>34.558417</td>\n",
              "    </tr>\n",
              "    <tr>\n",
              "      <th>1850</th>\n",
              "      <td>1</td>\n",
              "      <td>53600</td>\n",
              "      <td>235895.0</td>\n",
              "      <td>299772.0</td>\n",
              "      <td>5.0</td>\n",
              "      <td>0.0</td>\n",
              "      <td>0.0</td>\n",
              "      <td>112.748282</td>\n",
              "      <td>7.0</td>\n",
              "      <td>22.0</td>\n",
              "      <td>44.945929</td>\n",
              "    </tr>\n",
              "    <tr>\n",
              "      <th>1851</th>\n",
              "      <td>1</td>\n",
              "      <td>53600</td>\n",
              "      <td>208197.0</td>\n",
              "      <td>297280.0</td>\n",
              "      <td>4.0</td>\n",
              "      <td>1.0</td>\n",
              "      <td>1.0</td>\n",
              "      <td>160.485251</td>\n",
              "      <td>2.0</td>\n",
              "      <td>29.0</td>\n",
              "      <td>41.646731</td>\n",
              "    </tr>\n",
              "    <tr>\n",
              "      <th>1852</th>\n",
              "      <td>1</td>\n",
              "      <td>65500</td>\n",
              "      <td>205156.0</td>\n",
              "      <td>290239.0</td>\n",
              "      <td>2.0</td>\n",
              "      <td>0.0</td>\n",
              "      <td>0.0</td>\n",
              "      <td>98.808206</td>\n",
              "      <td>1.0</td>\n",
              "      <td>21.0</td>\n",
              "      <td>144.189001</td>\n",
              "    </tr>\n",
              "    <tr>\n",
              "      <th>1853</th>\n",
              "      <td>1</td>\n",
              "      <td>77400</td>\n",
              "      <td>87651.0</td>\n",
              "      <td>224630.0</td>\n",
              "      <td>9.0</td>\n",
              "      <td>0.0</td>\n",
              "      <td>2.0</td>\n",
              "      <td>73.469630</td>\n",
              "      <td>3.0</td>\n",
              "      <td>13.0</td>\n",
              "      <td>40.929793</td>\n",
              "    </tr>\n",
              "  </tbody>\n",
              "</table>\n",
              "<p>1854 rows × 11 columns</p>\n",
              "</div>"
            ],
            "text/plain": [
              "      TARGET   LOAN   MORTDUE     VALUE   YOJ  DEROG  DELINQ       CLAGE  \\\n",
              "0          0   4700   88026.0  115506.0   6.0    0.0     0.0  182.248332   \n",
              "1          0  19300   39926.0  101208.0   4.0    0.0     0.0  140.051638   \n",
              "2          0   5700   71556.0   79538.0   2.0    0.0     0.0   92.643085   \n",
              "3          0  13000   44875.0   57713.0   0.0    1.0     0.0  184.990324   \n",
              "4          0  19300   72752.0  106084.0  11.0    0.0     0.0  193.707100   \n",
              "...      ...    ...       ...       ...   ...    ...     ...         ...   \n",
              "1849       1  53400  228236.0  305514.0   6.0    0.0     0.0   11.148069   \n",
              "1850       1  53600  235895.0  299772.0   5.0    0.0     0.0  112.748282   \n",
              "1851       1  53600  208197.0  297280.0   4.0    1.0     1.0  160.485251   \n",
              "1852       1  65500  205156.0  290239.0   2.0    0.0     0.0   98.808206   \n",
              "1853       1  77400   87651.0  224630.0   9.0    0.0     2.0   73.469630   \n",
              "\n",
              "      NINQ  CLNO     DEBTINC  \n",
              "0      0.0  27.0   29.209023  \n",
              "1      0.0  14.0   31.545694  \n",
              "2      0.0  15.0   41.210012  \n",
              "3      1.0  12.0   28.602076  \n",
              "4      1.0  13.0   30.686106  \n",
              "...    ...   ...         ...  \n",
              "1849   0.0   2.0   34.558417  \n",
              "1850   7.0  22.0   44.945929  \n",
              "1851   2.0  29.0   41.646731  \n",
              "1852   1.0  21.0  144.189001  \n",
              "1853   3.0  13.0   40.929793  \n",
              "\n",
              "[1854 rows x 11 columns]"
            ]
          },
          "execution_count": 3,
          "metadata": {},
          "output_type": "execute_result"
        }
      ],
      "source": [
        "dataset"
      ]
    },
    {
      "cell_type": "code",
      "execution_count": null,
      "metadata": {
        "id": "OayY_qQNIAeD",
        "outputId": "c9c34d63-52d8-4c57-98b5-77d96614f066"
      },
      "outputs": [
        {
          "data": {
            "text/html": [
              "<div>\n",
              "<style scoped>\n",
              "    .dataframe tbody tr th:only-of-type {\n",
              "        vertical-align: middle;\n",
              "    }\n",
              "\n",
              "    .dataframe tbody tr th {\n",
              "        vertical-align: top;\n",
              "    }\n",
              "\n",
              "    .dataframe thead th {\n",
              "        text-align: right;\n",
              "    }\n",
              "</style>\n",
              "<table border=\"1\" class=\"dataframe\">\n",
              "  <thead>\n",
              "    <tr style=\"text-align: right;\">\n",
              "      <th></th>\n",
              "      <th>LOAN</th>\n",
              "      <th>MORTDUE</th>\n",
              "      <th>VALUE</th>\n",
              "      <th>YOJ</th>\n",
              "      <th>DEROG</th>\n",
              "      <th>DELINQ</th>\n",
              "      <th>CLAGE</th>\n",
              "      <th>NINQ</th>\n",
              "      <th>CLNO</th>\n",
              "      <th>DEBTINC</th>\n",
              "    </tr>\n",
              "  </thead>\n",
              "  <tbody>\n",
              "    <tr>\n",
              "      <th>1240</th>\n",
              "      <td>9400</td>\n",
              "      <td>92340.0</td>\n",
              "      <td>125451.0</td>\n",
              "      <td>7.0</td>\n",
              "      <td>0.0</td>\n",
              "      <td>0.0</td>\n",
              "      <td>129.113725</td>\n",
              "      <td>1.0</td>\n",
              "      <td>22.0</td>\n",
              "      <td>36.349975</td>\n",
              "    </tr>\n",
              "    <tr>\n",
              "      <th>1183</th>\n",
              "      <td>14800</td>\n",
              "      <td>43983.0</td>\n",
              "      <td>60826.0</td>\n",
              "      <td>4.0</td>\n",
              "      <td>1.0</td>\n",
              "      <td>1.0</td>\n",
              "      <td>113.897967</td>\n",
              "      <td>1.0</td>\n",
              "      <td>9.0</td>\n",
              "      <td>27.108082</td>\n",
              "    </tr>\n",
              "    <tr>\n",
              "      <th>692</th>\n",
              "      <td>20100</td>\n",
              "      <td>59726.0</td>\n",
              "      <td>79982.0</td>\n",
              "      <td>8.0</td>\n",
              "      <td>1.0</td>\n",
              "      <td>0.0</td>\n",
              "      <td>74.210759</td>\n",
              "      <td>2.0</td>\n",
              "      <td>28.0</td>\n",
              "      <td>36.846922</td>\n",
              "    </tr>\n",
              "    <tr>\n",
              "      <th>871</th>\n",
              "      <td>25200</td>\n",
              "      <td>73168.0</td>\n",
              "      <td>93608.0</td>\n",
              "      <td>9.0</td>\n",
              "      <td>0.0</td>\n",
              "      <td>0.0</td>\n",
              "      <td>151.121480</td>\n",
              "      <td>0.0</td>\n",
              "      <td>21.0</td>\n",
              "      <td>35.590327</td>\n",
              "    </tr>\n",
              "    <tr>\n",
              "      <th>1353</th>\n",
              "      <td>17000</td>\n",
              "      <td>70039.0</td>\n",
              "      <td>100993.0</td>\n",
              "      <td>7.0</td>\n",
              "      <td>0.0</td>\n",
              "      <td>0.0</td>\n",
              "      <td>261.911317</td>\n",
              "      <td>1.0</td>\n",
              "      <td>11.0</td>\n",
              "      <td>36.564330</td>\n",
              "    </tr>\n",
              "    <tr>\n",
              "      <th>...</th>\n",
              "      <td>...</td>\n",
              "      <td>...</td>\n",
              "      <td>...</td>\n",
              "      <td>...</td>\n",
              "      <td>...</td>\n",
              "      <td>...</td>\n",
              "      <td>...</td>\n",
              "      <td>...</td>\n",
              "      <td>...</td>\n",
              "      <td>...</td>\n",
              "    </tr>\n",
              "    <tr>\n",
              "      <th>835</th>\n",
              "      <td>15900</td>\n",
              "      <td>48563.0</td>\n",
              "      <td>64679.0</td>\n",
              "      <td>4.0</td>\n",
              "      <td>0.0</td>\n",
              "      <td>0.0</td>\n",
              "      <td>156.101381</td>\n",
              "      <td>2.0</td>\n",
              "      <td>12.0</td>\n",
              "      <td>27.808547</td>\n",
              "    </tr>\n",
              "    <tr>\n",
              "      <th>1216</th>\n",
              "      <td>27500</td>\n",
              "      <td>150666.0</td>\n",
              "      <td>192346.0</td>\n",
              "      <td>3.0</td>\n",
              "      <td>0.0</td>\n",
              "      <td>0.0</td>\n",
              "      <td>177.871473</td>\n",
              "      <td>0.0</td>\n",
              "      <td>17.0</td>\n",
              "      <td>39.978650</td>\n",
              "    </tr>\n",
              "    <tr>\n",
              "      <th>1653</th>\n",
              "      <td>12800</td>\n",
              "      <td>54151.0</td>\n",
              "      <td>83828.0</td>\n",
              "      <td>13.0</td>\n",
              "      <td>0.0</td>\n",
              "      <td>0.0</td>\n",
              "      <td>132.160270</td>\n",
              "      <td>0.0</td>\n",
              "      <td>16.0</td>\n",
              "      <td>23.477426</td>\n",
              "    </tr>\n",
              "    <tr>\n",
              "      <th>559</th>\n",
              "      <td>21300</td>\n",
              "      <td>63263.0</td>\n",
              "      <td>94180.0</td>\n",
              "      <td>1.0</td>\n",
              "      <td>0.0</td>\n",
              "      <td>0.0</td>\n",
              "      <td>138.348455</td>\n",
              "      <td>1.0</td>\n",
              "      <td>22.0</td>\n",
              "      <td>35.549295</td>\n",
              "    </tr>\n",
              "    <tr>\n",
              "      <th>684</th>\n",
              "      <td>7800</td>\n",
              "      <td>69662.0</td>\n",
              "      <td>80498.0</td>\n",
              "      <td>4.0</td>\n",
              "      <td>0.0</td>\n",
              "      <td>0.0</td>\n",
              "      <td>100.428331</td>\n",
              "      <td>0.0</td>\n",
              "      <td>14.0</td>\n",
              "      <td>42.807342</td>\n",
              "    </tr>\n",
              "  </tbody>\n",
              "</table>\n",
              "<p>1483 rows × 10 columns</p>\n",
              "</div>"
            ],
            "text/plain": [
              "       LOAN   MORTDUE     VALUE   YOJ  DEROG  DELINQ       CLAGE  NINQ  CLNO  \\\n",
              "1240   9400   92340.0  125451.0   7.0    0.0     0.0  129.113725   1.0  22.0   \n",
              "1183  14800   43983.0   60826.0   4.0    1.0     1.0  113.897967   1.0   9.0   \n",
              "692   20100   59726.0   79982.0   8.0    1.0     0.0   74.210759   2.0  28.0   \n",
              "871   25200   73168.0   93608.0   9.0    0.0     0.0  151.121480   0.0  21.0   \n",
              "1353  17000   70039.0  100993.0   7.0    0.0     0.0  261.911317   1.0  11.0   \n",
              "...     ...       ...       ...   ...    ...     ...         ...   ...   ...   \n",
              "835   15900   48563.0   64679.0   4.0    0.0     0.0  156.101381   2.0  12.0   \n",
              "1216  27500  150666.0  192346.0   3.0    0.0     0.0  177.871473   0.0  17.0   \n",
              "1653  12800   54151.0   83828.0  13.0    0.0     0.0  132.160270   0.0  16.0   \n",
              "559   21300   63263.0   94180.0   1.0    0.0     0.0  138.348455   1.0  22.0   \n",
              "684    7800   69662.0   80498.0   4.0    0.0     0.0  100.428331   0.0  14.0   \n",
              "\n",
              "        DEBTINC  \n",
              "1240  36.349975  \n",
              "1183  27.108082  \n",
              "692   36.846922  \n",
              "871   35.590327  \n",
              "1353  36.564330  \n",
              "...         ...  \n",
              "835   27.808547  \n",
              "1216  39.978650  \n",
              "1653  23.477426  \n",
              "559   35.549295  \n",
              "684   42.807342  \n",
              "\n",
              "[1483 rows x 10 columns]"
            ]
          },
          "execution_count": 6,
          "metadata": {},
          "output_type": "execute_result"
        }
      ],
      "source": [
        "X_train"
      ]
    },
    {
      "cell_type": "markdown",
      "metadata": {
        "id": "fYyUT3NSIAeE"
      },
      "source": [
        "\n",
        "Documentación:\n",
        "\n",
        "- https://scikit-learn.org/stable/modules/generated/sklearn.model_selection.train_test_split.html"
      ]
    },
    {
      "cell_type": "markdown",
      "metadata": {
        "id": "tzf3etUbIAeF"
      },
      "source": [
        "## Ejercicio 1: Descripción de los Datos y la Tarea\n",
        "\n",
        "Responder las siguientes preguntas:\n",
        "\n",
        "1. ¿De qué se trata el conjunto de datos?\n",
        "2. ¿Cuál es la variable objetivo que hay que predecir? ¿Qué significado tiene?\n",
        "3. ¿Qué información (atributos) hay disponible para hacer la predicción?\n",
        "4. ¿Qué atributos imagina ud. que son los más determinantes para la predicción?\n",
        "\n",
        "**No hace falta escribir código para responder estas preguntas.**"
      ]
    },
    {
      "cell_type": "markdown",
      "metadata": {
        "id": "IIv3Ad_3IAeF"
      },
      "source": [
        "1 - El conjunto de datos contiene información de línea de base y rendimiento de préstamos de un banco, para 5960 solicitantes. El departamento de crédito al consumo, pretende automatizar la toma de decisiones para la aprobación de líneas de crédito con garantía hipotecaria. Para ello, buscan seguir las recomendaciones de la Ley de Igualdad de Oportunidades de Crédito para crear un modelo de calificación crediticia empíricamente derivado y estadísticamente sólido. El modelo se basará en datos recopilados de los solicitantes recientes a los que se les otorgó crédito a través de el proceso actual de suscripción de préstamos. El modelo se construirá a partir de herramientas de modelado predictivo, pero el modelo creado debe ser lo suficientemente interpretable para proporcionar una razón para cualquier acción adversa (rechazos).\n",
        "\n",
        "2 - La variable objetivo (TARGET) es una variable binaria que indica si un solicitante finalmente incumplió o estuvo gravemente en mora. Este resultado adverso ocurrió en 1.189 casos (20%).\n",
        "\n",
        "* TARGET: 1 = cliente incumplió con el préstamo - 0 = préstamo reembolsado\n",
        "\n",
        "3 - A continuación se detallan los atributos para elaborar la predicción.\n",
        "\n",
        "* LOAN Importe de la solicitud de préstamo\n",
        "* MORTDUE Monto adeudado sobre la hipoteca existente\n",
        "* VALUE Valor de la propiedad actual\n",
        "* YOJ Años en el trabajo actual\n",
        "* DEROG Número de informes despectivos importantes\n",
        "* DELINQ Número de líneas de crédito morosas\n",
        "* CLAGE Antigüedad de la línea comercial más antigua en meses\n",
        "* NINQ Número de líneas de crédito recientes\n",
        "* CLNO Número de líneas de crédito\n",
        "* DEBTINC Relación deuda-ingresos\n",
        "\n",
        "4 - Es posible que las variables DELINQ y DEBTINC sean determinantes ya que demuestran directamente el perfil de cumplimiento del deudor (DELINQ) y sus posibilidades financieras para el pago de sus obligaciones (DEBTINC) "
      ]
    },
    {
      "cell_type": "markdown",
      "metadata": {
        "id": "jEMtUeEtIAeG"
      },
      "source": [
        "## Ejercicio 2: Predicción con Modelos Lineales\n",
        "\n",
        "En este ejercicio se entrenarán modelos lineales de clasificación para predecir la variable objetivo.\n",
        "\n",
        "Para ello, deberán utilizar la clase SGDClassifier de scikit-learn.\n",
        "\n",
        "Documentación:\n",
        "- https://scikit-learn.org/stable/modules/sgd.html\n",
        "- https://scikit-learn.org/stable/modules/generated/sklearn.linear_model.SGDClassifier.html\n"
      ]
    },
    {
      "cell_type": "markdown",
      "metadata": {
        "id": "IN0mUorFIAeH"
      },
      "source": [
        "### Ejercicio 2.1: SGDClassifier con hiperparámetros por defecto\n",
        "\n",
        "Entrenar y evaluar el clasificador SGDClassifier usando los valores por omisión de scikit-learn para todos los parámetros. Únicamente **fijar la semilla aleatoria** para hacer repetible el experimento.\n",
        "\n",
        "Evaluar sobre el conjunto de **entrenamiento** y sobre el conjunto de **evaluación**, reportando:\n",
        "- Accuracy\n",
        "- Precision\n",
        "- Recall\n",
        "- F1\n",
        "- matriz de confusión"
      ]
    },
    {
      "cell_type": "code",
      "execution_count": null,
      "metadata": {
        "id": "skG_jqyCIAeH"
      },
      "outputs": [],
      "source": [
        "from sklearn.linear_model import SGDClassifier\n",
        "model = SGDClassifier(random_state=1)\n",
        "model.fit(X_train, y_train)\n",
        "y_train_pred = model.predict(X_train)\n",
        "y_test_pred = model.predict(X_test)"
      ]
    },
    {
      "cell_type": "code",
      "execution_count": null,
      "metadata": {
        "id": "jnhkbXu2IAeH",
        "outputId": "a4767f28-182b-4250-e677-a01a384c3386"
      },
      "outputs": [
        {
          "name": "stdout",
          "output_type": "stream",
          "text": [
            "Train accuracy: 0.804\n",
            "Test accuracy: 0.814\n"
          ]
        }
      ],
      "source": [
        "from sklearn.metrics import accuracy_score\n",
        "train_acc = accuracy_score(y_train, y_train_pred)\n",
        "test_acc = accuracy_score(y_test, y_test_pred)\n",
        "print(f'Train accuracy: {train_acc:0.3}')\n",
        "print(f'Test accuracy: {test_acc:0.3}')"
      ]
    },
    {
      "cell_type": "code",
      "execution_count": null,
      "metadata": {
        "scrolled": true,
        "id": "-aDt7qY2IAeI",
        "outputId": "dbf6bbda-789c-4691-fed3-6380a5d208cb"
      },
      "outputs": [
        {
          "name": "stdout",
          "output_type": "stream",
          "text": [
            "              precision    recall  f1-score   support\n",
            "\n",
            "           0       0.83      0.96      0.89      1232\n",
            "           1       0.14      0.03      0.05       251\n",
            "\n",
            "    accuracy                           0.80      1483\n",
            "   macro avg       0.49      0.50      0.47      1483\n",
            "weighted avg       0.71      0.80      0.75      1483\n",
            "\n"
          ]
        }
      ],
      "source": [
        "from sklearn.metrics import classification_report\n",
        "print(classification_report(y_train, y_train_pred))"
      ]
    },
    {
      "cell_type": "code",
      "execution_count": null,
      "metadata": {
        "id": "0btI1K88IAeI",
        "outputId": "c930cc65-2182-464c-a1ec-722cc5e0dae4"
      },
      "outputs": [
        {
          "name": "stdout",
          "output_type": "stream",
          "text": [
            "              precision    recall  f1-score   support\n",
            "\n",
            "           0       0.84      0.96      0.90       313\n",
            "           1       0.00      0.00      0.00        58\n",
            "\n",
            "    accuracy                           0.81       371\n",
            "   macro avg       0.42      0.48      0.45       371\n",
            "weighted avg       0.71      0.81      0.76       371\n",
            "\n"
          ]
        }
      ],
      "source": [
        "print(classification_report(y_test, y_test_pred))"
      ]
    },
    {
      "cell_type": "code",
      "execution_count": null,
      "metadata": {
        "scrolled": true,
        "id": "KD5gvD3_IAeI"
      },
      "outputs": [],
      "source": [
        "from sklearn.metrics import confusion_matrix\n",
        "confusion_matrix(y_train, y_train_pred)\n",
        "cmtrain = confusion_matrix(y_train, y_train_pred)\n",
        "cmtest = confusion_matrix(y_test, y_test_pred)"
      ]
    },
    {
      "cell_type": "code",
      "execution_count": null,
      "metadata": {
        "scrolled": true,
        "id": "ZtH8WG3nIAeJ",
        "outputId": "6e26a376-5a0c-4f78-8e10-25f5e7aec376"
      },
      "outputs": [
        {
          "data": {
            "image/png": "[encoded data removed]",
            "text/plain": [
              "<Figure size 864x324 with 4 Axes>"
            ]
          },
          "metadata": {
            "needs_background": "light"
          },
          "output_type": "display_data"
        }
      ],
      "source": [
        "from matplotlib import pyplot as plt\n",
        "from utils import plot_confusion_matrix\n",
        "\n",
        "plt.figure(figsize=(12,4.5))\n",
        "plt.suptitle('CONFUSION MATRIX', x=0.58, y=1, fontsize=20)\n",
        "\n",
        "plt.subplot(1, 2, 1)\n",
        "plot_confusion_matrix(cmtrain, [0, 1])\n",
        "plt.title('CONJUNTO DE ENTRENAMIENTO', pad=16)\n",
        "\n",
        "plt.subplot(1, 2, 2)\n",
        "plot_confusion_matrix(cmtest, [0, 1])\n",
        "plt.title('CONJUNTO DE EVALUACIÓN', pad=16)\n",
        "plt.tight_layout(h_pad=5, w_pad=5)"
      ]
    },
    {
      "cell_type": "markdown",
      "metadata": {
        "id": "FwKlrjxMIAeJ"
      },
      "source": [
        "## Conclusiones Ejercicio 2.1\n",
        "\n",
        "&nbsp;&nbsp;&nbsp;&nbsp;&nbsp;&nbsp;&nbsp;&nbsp;Para el presente trabajo, es importante detectar los solicitantes que posiblemente no pagarán sus obligaciones crediticias. Tanto el indicador Recall como Precision mostraron valores muy bajos para la predicción de futuros morosos. Sin embargo, el indicador **Recall es más relevante que el indicador Precision**, ya que Recall me indica la capacidad del modelo para predecir solicitantes que no pagarán el préstamo, sobre la totalidad de los que realmente no pagarán. Precision en cambio, me indica la capacidad del modelo de predecir solicitantes que no pagarán, sobre la totalidad de los que predije que no pagarán. En este último caso, el problema está en negarles el préstamo a quienes realmente lo pagarían.\n",
        "\n",
        "&nbsp;&nbsp;&nbsp;&nbsp;&nbsp;&nbsp;&nbsp;&nbsp;Otro indicador importante que normalmente se usa es **Accuracy**. Sin embargo, este indicador no es recomendable en casos donde el conjunto de datos tiene desbalanceados los registros entre etiquetas, como es el caso del presente dataset. Justamente aquí se da el caso que Accuracy es relativamente alto (0.8) y sin embargo el modelo es muy malo para predecir los solicitantes que no pagarán sus préstamos.\n",
        "\n",
        "&nbsp;&nbsp;&nbsp;&nbsp;&nbsp;&nbsp;&nbsp;&nbsp;Finalmente, podemos nombrar a **F1-Score** como un indicador interesante por su balance entre Precision y Recall, sin verse afectado por el desbalance en las etiquetas reales del conjunto de datos. No obstante, para el caso específico de este dataset, Recall es el indicador más efectivo para evaluar la calidad del modelo en función de los objetivos del banco.  "
      ]
    },
    {
      "cell_type": "markdown",
      "metadata": {
        "id": "zCJiowPaIAeJ"
      },
      "source": [
        "![image.png](data:image/png;base64,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) \n",
        "Fte: https://steemit.com/spanish/@waster/explicacion-alternativa-para-accuracy-precision-recall-y-f1-score "
      ]
    },
    {
      "cell_type": "markdown",
      "metadata": {
        "id": "bbDGD1FwIAeJ"
      },
      "source": [
        "### Ejercicio 2.2: Ajuste de Hiperparámetros\n",
        "\n",
        "Seleccionar valores para los hiperparámetros principales del SGDClassifier. Como mínimo, probar diferentes funciones de loss, tasas de entrenamiento y tasas de regularización.\n",
        "\n",
        "Para ello, usar grid-search y 5-fold cross-validation sobre el conjunto de entrenamiento para explorar muchas combinaciones posibles de valores.\n",
        "\n",
        "Reportar accuracy promedio y varianza para todas las configuraciones.\n",
        "\n",
        "Para la mejor configuración encontrada, evaluar sobre el conjunto de **entrenamiento** y sobre el conjunto de **evaluación**, reportando:\n",
        "- Accuracy\n",
        "- Precision\n",
        "- Recall\n",
        "- F1\n",
        "- matriz de confusión\n",
        "\n",
        "Documentación:\n",
        "- https://scikit-learn.org/stable/modules/grid_search.html\n",
        "- https://scikit-learn.org/stable/modules/generated/sklearn.model_selection.GridSearchCV.html"
      ]
    },
    {
      "cell_type": "code",
      "execution_count": null,
      "metadata": {
        "scrolled": false,
        "id": "iNiXZA_lIAeK",
        "outputId": "3c206a73-b96f-406e-ae0d-d1d598edff23"
      },
      "outputs": [
        {
          "name": "stdout",
          "output_type": "stream",
          "text": [
            "{'loss': ['hinge', 'perceptron', 'log'], 'penalty': ['l1', 'l2', 'none'], 'max_iter': [10, 100, 1000], 'learning_rate': ['constant']}\n"
          ]
        }
      ],
      "source": [
        "# Establecemos diferentes funciones de loss, tasas de entrenamiento y tasas de regularización.\n",
        "param_grid = {'loss': ['hinge', 'perceptron', 'log'], 'penalty':['l1','l2','none'], 'max_iter': [10,100,1000], \n",
        "              'learning_rate':['constant', 'optimal', 'invscaling', 'adaptive']}\n",
        "print(param_grid)"
      ]
    },
    {
      "cell_type": "code",
      "execution_count": null,
      "metadata": {
        "id": "IpDsMax3IAeK",
        "outputId": "123e0272-a558-4d01-ab8e-925a9dd726a0"
      },
      "outputs": [
        {
          "ename": "ValueError",
          "evalue": "eta0 must be > 0",
          "output_type": "error",
          "traceback": [
            "\u001b[1;31m---------------------------------------------------------------------------\u001b[0m",
            "\u001b[1;31mValueError\u001b[0m                                Traceback (most recent call last)",
            "\u001b[1;32mC:\\Users\\SEBAST~1\\AppData\\Local\\Temp/ipykernel_10872/2396877682.py\u001b[0m in \u001b[0;36m<module>\u001b[1;34m\u001b[0m\n\u001b[0;32m      2\u001b[0m \u001b[1;33m\u001b[0m\u001b[0m\n\u001b[0;32m      3\u001b[0m \u001b[0mcv\u001b[0m \u001b[1;33m=\u001b[0m \u001b[0mGridSearchCV\u001b[0m\u001b[1;33m(\u001b[0m\u001b[0mmodel\u001b[0m\u001b[1;33m,\u001b[0m \u001b[0mparam_grid\u001b[0m\u001b[1;33m,\u001b[0m \u001b[0mscoring\u001b[0m\u001b[1;33m=\u001b[0m\u001b[1;34m'accuracy'\u001b[0m\u001b[1;33m,\u001b[0m \u001b[0mcv\u001b[0m\u001b[1;33m=\u001b[0m\u001b[1;36m5\u001b[0m\u001b[1;33m)\u001b[0m\u001b[1;33m\u001b[0m\u001b[1;33m\u001b[0m\u001b[0m\n\u001b[1;32m----> 4\u001b[1;33m \u001b[0mcv\u001b[0m\u001b[1;33m.\u001b[0m\u001b[0mfit\u001b[0m\u001b[1;33m(\u001b[0m\u001b[0mX_train\u001b[0m\u001b[1;33m,\u001b[0m \u001b[0my_train\u001b[0m\u001b[1;33m)\u001b[0m\u001b[1;33m\u001b[0m\u001b[1;33m\u001b[0m\u001b[0m\n\u001b[0m\u001b[0;32m      5\u001b[0m \u001b[1;33m\u001b[0m\u001b[0m\n\u001b[0;32m      6\u001b[0m \u001b[0mresults\u001b[0m \u001b[1;33m=\u001b[0m \u001b[0mcv\u001b[0m\u001b[1;33m.\u001b[0m\u001b[0mcv_results_\u001b[0m\u001b[1;33m\u001b[0m\u001b[1;33m\u001b[0m\u001b[0m\n",
            "\u001b[1;32m~\\anaconda3\\lib\\site-packages\\sklearn\\utils\\validation.py\u001b[0m in \u001b[0;36minner_f\u001b[1;34m(*args, **kwargs)\u001b[0m\n\u001b[0;32m     61\u001b[0m             \u001b[0mextra_args\u001b[0m \u001b[1;33m=\u001b[0m \u001b[0mlen\u001b[0m\u001b[1;33m(\u001b[0m\u001b[0margs\u001b[0m\u001b[1;33m)\u001b[0m \u001b[1;33m-\u001b[0m \u001b[0mlen\u001b[0m\u001b[1;33m(\u001b[0m\u001b[0mall_args\u001b[0m\u001b[1;33m)\u001b[0m\u001b[1;33m\u001b[0m\u001b[1;33m\u001b[0m\u001b[0m\n\u001b[0;32m     62\u001b[0m             \u001b[1;32mif\u001b[0m \u001b[0mextra_args\u001b[0m \u001b[1;33m<=\u001b[0m \u001b[1;36m0\u001b[0m\u001b[1;33m:\u001b[0m\u001b[1;33m\u001b[0m\u001b[1;33m\u001b[0m\u001b[0m\n\u001b[1;32m---> 63\u001b[1;33m                 \u001b[1;32mreturn\u001b[0m \u001b[0mf\u001b[0m\u001b[1;33m(\u001b[0m\u001b[1;33m*\u001b[0m\u001b[0margs\u001b[0m\u001b[1;33m,\u001b[0m \u001b[1;33m**\u001b[0m\u001b[0mkwargs\u001b[0m\u001b[1;33m)\u001b[0m\u001b[1;33m\u001b[0m\u001b[1;33m\u001b[0m\u001b[0m\n\u001b[0m\u001b[0;32m     64\u001b[0m \u001b[1;33m\u001b[0m\u001b[0m\n\u001b[0;32m     65\u001b[0m             \u001b[1;31m# extra_args > 0\u001b[0m\u001b[1;33m\u001b[0m\u001b[1;33m\u001b[0m\u001b[0m\n",
            "\u001b[1;32m~\\anaconda3\\lib\\site-packages\\sklearn\\model_selection\\_search.py\u001b[0m in \u001b[0;36mfit\u001b[1;34m(self, X, y, groups, **fit_params)\u001b[0m\n\u001b[0;32m    839\u001b[0m                 \u001b[1;32mreturn\u001b[0m \u001b[0mresults\u001b[0m\u001b[1;33m\u001b[0m\u001b[1;33m\u001b[0m\u001b[0m\n\u001b[0;32m    840\u001b[0m \u001b[1;33m\u001b[0m\u001b[0m\n\u001b[1;32m--> 841\u001b[1;33m             \u001b[0mself\u001b[0m\u001b[1;33m.\u001b[0m\u001b[0m_run_search\u001b[0m\u001b[1;33m(\u001b[0m\u001b[0mevaluate_candidates\u001b[0m\u001b[1;33m)\u001b[0m\u001b[1;33m\u001b[0m\u001b[1;33m\u001b[0m\u001b[0m\n\u001b[0m\u001b[0;32m    842\u001b[0m \u001b[1;33m\u001b[0m\u001b[0m\n\u001b[0;32m    843\u001b[0m             \u001b[1;31m# multimetric is determined here because in the case of a callable\u001b[0m\u001b[1;33m\u001b[0m\u001b[1;33m\u001b[0m\u001b[0m\n",
            "\u001b[1;32m~\\anaconda3\\lib\\site-packages\\sklearn\\model_selection\\_search.py\u001b[0m in \u001b[0;36m_run_search\u001b[1;34m(self, evaluate_candidates)\u001b[0m\n\u001b[0;32m   1294\u001b[0m     \u001b[1;32mdef\u001b[0m \u001b[0m_run_search\u001b[0m\u001b[1;33m(\u001b[0m\u001b[0mself\u001b[0m\u001b[1;33m,\u001b[0m \u001b[0mevaluate_candidates\u001b[0m\u001b[1;33m)\u001b[0m\u001b[1;33m:\u001b[0m\u001b[1;33m\u001b[0m\u001b[1;33m\u001b[0m\u001b[0m\n\u001b[0;32m   1295\u001b[0m         \u001b[1;34m\"\"\"Search all candidates in param_grid\"\"\"\u001b[0m\u001b[1;33m\u001b[0m\u001b[1;33m\u001b[0m\u001b[0m\n\u001b[1;32m-> 1296\u001b[1;33m         \u001b[0mevaluate_candidates\u001b[0m\u001b[1;33m(\u001b[0m\u001b[0mParameterGrid\u001b[0m\u001b[1;33m(\u001b[0m\u001b[0mself\u001b[0m\u001b[1;33m.\u001b[0m\u001b[0mparam_grid\u001b[0m\u001b[1;33m)\u001b[0m\u001b[1;33m)\u001b[0m\u001b[1;33m\u001b[0m\u001b[1;33m\u001b[0m\u001b[0m\n\u001b[0m\u001b[0;32m   1297\u001b[0m \u001b[1;33m\u001b[0m\u001b[0m\n\u001b[0;32m   1298\u001b[0m \u001b[1;33m\u001b[0m\u001b[0m\n",
            "\u001b[1;32m~\\anaconda3\\lib\\site-packages\\sklearn\\model_selection\\_search.py\u001b[0m in \u001b[0;36mevaluate_candidates\u001b[1;34m(candidate_params, cv, more_results)\u001b[0m\n\u001b[0;32m    793\u001b[0m                               n_splits, n_candidates, n_candidates * n_splits))\n\u001b[0;32m    794\u001b[0m \u001b[1;33m\u001b[0m\u001b[0m\n\u001b[1;32m--> 795\u001b[1;33m                 out = parallel(delayed(_fit_and_score)(clone(base_estimator),\n\u001b[0m\u001b[0;32m    796\u001b[0m                                                        \u001b[0mX\u001b[0m\u001b[1;33m,\u001b[0m \u001b[0my\u001b[0m\u001b[1;33m,\u001b[0m\u001b[1;33m\u001b[0m\u001b[1;33m\u001b[0m\u001b[0m\n\u001b[0;32m    797\u001b[0m                                                        \u001b[0mtrain\u001b[0m\u001b[1;33m=\u001b[0m\u001b[0mtrain\u001b[0m\u001b[1;33m,\u001b[0m \u001b[0mtest\u001b[0m\u001b[1;33m=\u001b[0m\u001b[0mtest\u001b[0m\u001b[1;33m,\u001b[0m\u001b[1;33m\u001b[0m\u001b[1;33m\u001b[0m\u001b[0m\n",
            "\u001b[1;32m~\\anaconda3\\lib\\site-packages\\joblib\\parallel.py\u001b[0m in \u001b[0;36m__call__\u001b[1;34m(self, iterable)\u001b[0m\n\u001b[0;32m   1041\u001b[0m             \u001b[1;31m# remaining jobs.\u001b[0m\u001b[1;33m\u001b[0m\u001b[1;33m\u001b[0m\u001b[0m\n\u001b[0;32m   1042\u001b[0m             \u001b[0mself\u001b[0m\u001b[1;33m.\u001b[0m\u001b[0m_iterating\u001b[0m \u001b[1;33m=\u001b[0m \u001b[1;32mFalse\u001b[0m\u001b[1;33m\u001b[0m\u001b[1;33m\u001b[0m\u001b[0m\n\u001b[1;32m-> 1043\u001b[1;33m             \u001b[1;32mif\u001b[0m \u001b[0mself\u001b[0m\u001b[1;33m.\u001b[0m\u001b[0mdispatch_one_batch\u001b[0m\u001b[1;33m(\u001b[0m\u001b[0miterator\u001b[0m\u001b[1;33m)\u001b[0m\u001b[1;33m:\u001b[0m\u001b[1;33m\u001b[0m\u001b[1;33m\u001b[0m\u001b[0m\n\u001b[0m\u001b[0;32m   1044\u001b[0m                 \u001b[0mself\u001b[0m\u001b[1;33m.\u001b[0m\u001b[0m_iterating\u001b[0m \u001b[1;33m=\u001b[0m \u001b[0mself\u001b[0m\u001b[1;33m.\u001b[0m\u001b[0m_original_iterator\u001b[0m \u001b[1;32mis\u001b[0m \u001b[1;32mnot\u001b[0m \u001b[1;32mNone\u001b[0m\u001b[1;33m\u001b[0m\u001b[1;33m\u001b[0m\u001b[0m\n\u001b[0;32m   1045\u001b[0m \u001b[1;33m\u001b[0m\u001b[0m\n",
            "\u001b[1;32m~\\anaconda3\\lib\\site-packages\\joblib\\parallel.py\u001b[0m in \u001b[0;36mdispatch_one_batch\u001b[1;34m(self, iterator)\u001b[0m\n\u001b[0;32m    859\u001b[0m                 \u001b[1;32mreturn\u001b[0m \u001b[1;32mFalse\u001b[0m\u001b[1;33m\u001b[0m\u001b[1;33m\u001b[0m\u001b[0m\n\u001b[0;32m    860\u001b[0m             \u001b[1;32melse\u001b[0m\u001b[1;33m:\u001b[0m\u001b[1;33m\u001b[0m\u001b[1;33m\u001b[0m\u001b[0m\n\u001b[1;32m--> 861\u001b[1;33m                 \u001b[0mself\u001b[0m\u001b[1;33m.\u001b[0m\u001b[0m_dispatch\u001b[0m\u001b[1;33m(\u001b[0m\u001b[0mtasks\u001b[0m\u001b[1;33m)\u001b[0m\u001b[1;33m\u001b[0m\u001b[1;33m\u001b[0m\u001b[0m\n\u001b[0m\u001b[0;32m    862\u001b[0m                 \u001b[1;32mreturn\u001b[0m \u001b[1;32mTrue\u001b[0m\u001b[1;33m\u001b[0m\u001b[1;33m\u001b[0m\u001b[0m\n\u001b[0;32m    863\u001b[0m \u001b[1;33m\u001b[0m\u001b[0m\n",
            "\u001b[1;32m~\\anaconda3\\lib\\site-packages\\joblib\\parallel.py\u001b[0m in \u001b[0;36m_dispatch\u001b[1;34m(self, batch)\u001b[0m\n\u001b[0;32m    777\u001b[0m         \u001b[1;32mwith\u001b[0m \u001b[0mself\u001b[0m\u001b[1;33m.\u001b[0m\u001b[0m_lock\u001b[0m\u001b[1;33m:\u001b[0m\u001b[1;33m\u001b[0m\u001b[1;33m\u001b[0m\u001b[0m\n\u001b[0;32m    778\u001b[0m             \u001b[0mjob_idx\u001b[0m \u001b[1;33m=\u001b[0m \u001b[0mlen\u001b[0m\u001b[1;33m(\u001b[0m\u001b[0mself\u001b[0m\u001b[1;33m.\u001b[0m\u001b[0m_jobs\u001b[0m\u001b[1;33m)\u001b[0m\u001b[1;33m\u001b[0m\u001b[1;33m\u001b[0m\u001b[0m\n\u001b[1;32m--> 779\u001b[1;33m             \u001b[0mjob\u001b[0m \u001b[1;33m=\u001b[0m \u001b[0mself\u001b[0m\u001b[1;33m.\u001b[0m\u001b[0m_backend\u001b[0m\u001b[1;33m.\u001b[0m\u001b[0mapply_async\u001b[0m\u001b[1;33m(\u001b[0m\u001b[0mbatch\u001b[0m\u001b[1;33m,\u001b[0m \u001b[0mcallback\u001b[0m\u001b[1;33m=\u001b[0m\u001b[0mcb\u001b[0m\u001b[1;33m)\u001b[0m\u001b[1;33m\u001b[0m\u001b[1;33m\u001b[0m\u001b[0m\n\u001b[0m\u001b[0;32m    780\u001b[0m             \u001b[1;31m# A job can complete so quickly than its callback is\u001b[0m\u001b[1;33m\u001b[0m\u001b[1;33m\u001b[0m\u001b[0m\n\u001b[0;32m    781\u001b[0m             \u001b[1;31m# called before we get here, causing self._jobs to\u001b[0m\u001b[1;33m\u001b[0m\u001b[1;33m\u001b[0m\u001b[0m\n",
            "\u001b[1;32m~\\anaconda3\\lib\\site-packages\\joblib\\_parallel_backends.py\u001b[0m in \u001b[0;36mapply_async\u001b[1;34m(self, func, callback)\u001b[0m\n\u001b[0;32m    206\u001b[0m     \u001b[1;32mdef\u001b[0m \u001b[0mapply_async\u001b[0m\u001b[1;33m(\u001b[0m\u001b[0mself\u001b[0m\u001b[1;33m,\u001b[0m \u001b[0mfunc\u001b[0m\u001b[1;33m,\u001b[0m \u001b[0mcallback\u001b[0m\u001b[1;33m=\u001b[0m\u001b[1;32mNone\u001b[0m\u001b[1;33m)\u001b[0m\u001b[1;33m:\u001b[0m\u001b[1;33m\u001b[0m\u001b[1;33m\u001b[0m\u001b[0m\n\u001b[0;32m    207\u001b[0m         \u001b[1;34m\"\"\"Schedule a func to be run\"\"\"\u001b[0m\u001b[1;33m\u001b[0m\u001b[1;33m\u001b[0m\u001b[0m\n\u001b[1;32m--> 208\u001b[1;33m         \u001b[0mresult\u001b[0m \u001b[1;33m=\u001b[0m \u001b[0mImmediateResult\u001b[0m\u001b[1;33m(\u001b[0m\u001b[0mfunc\u001b[0m\u001b[1;33m)\u001b[0m\u001b[1;33m\u001b[0m\u001b[1;33m\u001b[0m\u001b[0m\n\u001b[0m\u001b[0;32m    209\u001b[0m         \u001b[1;32mif\u001b[0m \u001b[0mcallback\u001b[0m\u001b[1;33m:\u001b[0m\u001b[1;33m\u001b[0m\u001b[1;33m\u001b[0m\u001b[0m\n\u001b[0;32m    210\u001b[0m             \u001b[0mcallback\u001b[0m\u001b[1;33m(\u001b[0m\u001b[0mresult\u001b[0m\u001b[1;33m)\u001b[0m\u001b[1;33m\u001b[0m\u001b[1;33m\u001b[0m\u001b[0m\n",
            "\u001b[1;32m~\\anaconda3\\lib\\site-packages\\joblib\\_parallel_backends.py\u001b[0m in \u001b[0;36m__init__\u001b[1;34m(self, batch)\u001b[0m\n\u001b[0;32m    570\u001b[0m         \u001b[1;31m# Don't delay the application, to avoid keeping the input\u001b[0m\u001b[1;33m\u001b[0m\u001b[1;33m\u001b[0m\u001b[0m\n\u001b[0;32m    571\u001b[0m         \u001b[1;31m# arguments in memory\u001b[0m\u001b[1;33m\u001b[0m\u001b[1;33m\u001b[0m\u001b[0m\n\u001b[1;32m--> 572\u001b[1;33m         \u001b[0mself\u001b[0m\u001b[1;33m.\u001b[0m\u001b[0mresults\u001b[0m \u001b[1;33m=\u001b[0m \u001b[0mbatch\u001b[0m\u001b[1;33m(\u001b[0m\u001b[1;33m)\u001b[0m\u001b[1;33m\u001b[0m\u001b[1;33m\u001b[0m\u001b[0m\n\u001b[0m\u001b[0;32m    573\u001b[0m \u001b[1;33m\u001b[0m\u001b[0m\n\u001b[0;32m    574\u001b[0m     \u001b[1;32mdef\u001b[0m \u001b[0mget\u001b[0m\u001b[1;33m(\u001b[0m\u001b[0mself\u001b[0m\u001b[1;33m)\u001b[0m\u001b[1;33m:\u001b[0m\u001b[1;33m\u001b[0m\u001b[1;33m\u001b[0m\u001b[0m\n",
            "\u001b[1;32m~\\anaconda3\\lib\\site-packages\\joblib\\parallel.py\u001b[0m in \u001b[0;36m__call__\u001b[1;34m(self)\u001b[0m\n\u001b[0;32m    260\u001b[0m         \u001b[1;31m# change the default number of processes to -1\u001b[0m\u001b[1;33m\u001b[0m\u001b[1;33m\u001b[0m\u001b[0m\n\u001b[0;32m    261\u001b[0m         \u001b[1;32mwith\u001b[0m \u001b[0mparallel_backend\u001b[0m\u001b[1;33m(\u001b[0m\u001b[0mself\u001b[0m\u001b[1;33m.\u001b[0m\u001b[0m_backend\u001b[0m\u001b[1;33m,\u001b[0m \u001b[0mn_jobs\u001b[0m\u001b[1;33m=\u001b[0m\u001b[0mself\u001b[0m\u001b[1;33m.\u001b[0m\u001b[0m_n_jobs\u001b[0m\u001b[1;33m)\u001b[0m\u001b[1;33m:\u001b[0m\u001b[1;33m\u001b[0m\u001b[1;33m\u001b[0m\u001b[0m\n\u001b[1;32m--> 262\u001b[1;33m             return [func(*args, **kwargs)\n\u001b[0m\u001b[0;32m    263\u001b[0m                     for func, args, kwargs in self.items]\n\u001b[0;32m    264\u001b[0m \u001b[1;33m\u001b[0m\u001b[0m\n",
            "\u001b[1;32m~\\anaconda3\\lib\\site-packages\\joblib\\parallel.py\u001b[0m in \u001b[0;36m<listcomp>\u001b[1;34m(.0)\u001b[0m\n\u001b[0;32m    260\u001b[0m         \u001b[1;31m# change the default number of processes to -1\u001b[0m\u001b[1;33m\u001b[0m\u001b[1;33m\u001b[0m\u001b[0m\n\u001b[0;32m    261\u001b[0m         \u001b[1;32mwith\u001b[0m \u001b[0mparallel_backend\u001b[0m\u001b[1;33m(\u001b[0m\u001b[0mself\u001b[0m\u001b[1;33m.\u001b[0m\u001b[0m_backend\u001b[0m\u001b[1;33m,\u001b[0m \u001b[0mn_jobs\u001b[0m\u001b[1;33m=\u001b[0m\u001b[0mself\u001b[0m\u001b[1;33m.\u001b[0m\u001b[0m_n_jobs\u001b[0m\u001b[1;33m)\u001b[0m\u001b[1;33m:\u001b[0m\u001b[1;33m\u001b[0m\u001b[1;33m\u001b[0m\u001b[0m\n\u001b[1;32m--> 262\u001b[1;33m             return [func(*args, **kwargs)\n\u001b[0m\u001b[0;32m    263\u001b[0m                     for func, args, kwargs in self.items]\n\u001b[0;32m    264\u001b[0m \u001b[1;33m\u001b[0m\u001b[0m\n",
            "\u001b[1;32m~\\anaconda3\\lib\\site-packages\\sklearn\\utils\\fixes.py\u001b[0m in \u001b[0;36m__call__\u001b[1;34m(self, *args, **kwargs)\u001b[0m\n\u001b[0;32m    220\u001b[0m     \u001b[1;32mdef\u001b[0m \u001b[0m__call__\u001b[0m\u001b[1;33m(\u001b[0m\u001b[0mself\u001b[0m\u001b[1;33m,\u001b[0m \u001b[1;33m*\u001b[0m\u001b[0margs\u001b[0m\u001b[1;33m,\u001b[0m \u001b[1;33m**\u001b[0m\u001b[0mkwargs\u001b[0m\u001b[1;33m)\u001b[0m\u001b[1;33m:\u001b[0m\u001b[1;33m\u001b[0m\u001b[1;33m\u001b[0m\u001b[0m\n\u001b[0;32m    221\u001b[0m         \u001b[1;32mwith\u001b[0m \u001b[0mconfig_context\u001b[0m\u001b[1;33m(\u001b[0m\u001b[1;33m**\u001b[0m\u001b[0mself\u001b[0m\u001b[1;33m.\u001b[0m\u001b[0mconfig\u001b[0m\u001b[1;33m)\u001b[0m\u001b[1;33m:\u001b[0m\u001b[1;33m\u001b[0m\u001b[1;33m\u001b[0m\u001b[0m\n\u001b[1;32m--> 222\u001b[1;33m             \u001b[1;32mreturn\u001b[0m \u001b[0mself\u001b[0m\u001b[1;33m.\u001b[0m\u001b[0mfunction\u001b[0m\u001b[1;33m(\u001b[0m\u001b[1;33m*\u001b[0m\u001b[0margs\u001b[0m\u001b[1;33m,\u001b[0m \u001b[1;33m**\u001b[0m\u001b[0mkwargs\u001b[0m\u001b[1;33m)\u001b[0m\u001b[1;33m\u001b[0m\u001b[1;33m\u001b[0m\u001b[0m\n\u001b[0m",
            "\u001b[1;32m~\\anaconda3\\lib\\site-packages\\sklearn\\model_selection\\_validation.py\u001b[0m in \u001b[0;36m_fit_and_score\u001b[1;34m(estimator, X, y, scorer, train, test, verbose, parameters, fit_params, return_train_score, return_parameters, return_n_test_samples, return_times, return_estimator, split_progress, candidate_progress, error_score)\u001b[0m\n\u001b[0;32m    584\u001b[0m             \u001b[0mcloned_parameters\u001b[0m\u001b[1;33m[\u001b[0m\u001b[0mk\u001b[0m\u001b[1;33m]\u001b[0m \u001b[1;33m=\u001b[0m \u001b[0mclone\u001b[0m\u001b[1;33m(\u001b[0m\u001b[0mv\u001b[0m\u001b[1;33m,\u001b[0m \u001b[0msafe\u001b[0m\u001b[1;33m=\u001b[0m\u001b[1;32mFalse\u001b[0m\u001b[1;33m)\u001b[0m\u001b[1;33m\u001b[0m\u001b[1;33m\u001b[0m\u001b[0m\n\u001b[0;32m    585\u001b[0m \u001b[1;33m\u001b[0m\u001b[0m\n\u001b[1;32m--> 586\u001b[1;33m         \u001b[0mestimator\u001b[0m \u001b[1;33m=\u001b[0m \u001b[0mestimator\u001b[0m\u001b[1;33m.\u001b[0m\u001b[0mset_params\u001b[0m\u001b[1;33m(\u001b[0m\u001b[1;33m**\u001b[0m\u001b[0mcloned_parameters\u001b[0m\u001b[1;33m)\u001b[0m\u001b[1;33m\u001b[0m\u001b[1;33m\u001b[0m\u001b[0m\n\u001b[0m\u001b[0;32m    587\u001b[0m \u001b[1;33m\u001b[0m\u001b[0m\n\u001b[0;32m    588\u001b[0m     \u001b[0mstart_time\u001b[0m \u001b[1;33m=\u001b[0m \u001b[0mtime\u001b[0m\u001b[1;33m.\u001b[0m\u001b[0mtime\u001b[0m\u001b[1;33m(\u001b[0m\u001b[1;33m)\u001b[0m\u001b[1;33m\u001b[0m\u001b[1;33m\u001b[0m\u001b[0m\n",
            "\u001b[1;32m~\\anaconda3\\lib\\site-packages\\sklearn\\linear_model\\_stochastic_gradient.py\u001b[0m in \u001b[0;36mset_params\u001b[1;34m(self, **kwargs)\u001b[0m\n\u001b[0;32m    116\u001b[0m         \"\"\"\n\u001b[0;32m    117\u001b[0m         \u001b[0msuper\u001b[0m\u001b[1;33m(\u001b[0m\u001b[1;33m)\u001b[0m\u001b[1;33m.\u001b[0m\u001b[0mset_params\u001b[0m\u001b[1;33m(\u001b[0m\u001b[1;33m**\u001b[0m\u001b[0mkwargs\u001b[0m\u001b[1;33m)\u001b[0m\u001b[1;33m\u001b[0m\u001b[1;33m\u001b[0m\u001b[0m\n\u001b[1;32m--> 118\u001b[1;33m         \u001b[0mself\u001b[0m\u001b[1;33m.\u001b[0m\u001b[0m_validate_params\u001b[0m\u001b[1;33m(\u001b[0m\u001b[1;33m)\u001b[0m\u001b[1;33m\u001b[0m\u001b[1;33m\u001b[0m\u001b[0m\n\u001b[0m\u001b[0;32m    119\u001b[0m         \u001b[1;32mreturn\u001b[0m \u001b[0mself\u001b[0m\u001b[1;33m\u001b[0m\u001b[1;33m\u001b[0m\u001b[0m\n\u001b[0;32m    120\u001b[0m \u001b[1;33m\u001b[0m\u001b[0m\n",
            "\u001b[1;32m~\\anaconda3\\lib\\site-packages\\sklearn\\linear_model\\_stochastic_gradient.py\u001b[0m in \u001b[0;36m_validate_params\u001b[1;34m(self, for_partial_fit)\u001b[0m\n\u001b[0;32m    143\u001b[0m         \u001b[1;32mif\u001b[0m \u001b[0mself\u001b[0m\u001b[1;33m.\u001b[0m\u001b[0mlearning_rate\u001b[0m \u001b[1;32min\u001b[0m \u001b[1;33m(\u001b[0m\u001b[1;34m\"constant\"\u001b[0m\u001b[1;33m,\u001b[0m \u001b[1;34m\"invscaling\"\u001b[0m\u001b[1;33m,\u001b[0m \u001b[1;34m\"adaptive\"\u001b[0m\u001b[1;33m)\u001b[0m\u001b[1;33m:\u001b[0m\u001b[1;33m\u001b[0m\u001b[1;33m\u001b[0m\u001b[0m\n\u001b[0;32m    144\u001b[0m             \u001b[1;32mif\u001b[0m \u001b[0mself\u001b[0m\u001b[1;33m.\u001b[0m\u001b[0meta0\u001b[0m \u001b[1;33m<=\u001b[0m \u001b[1;36m0.0\u001b[0m\u001b[1;33m:\u001b[0m\u001b[1;33m\u001b[0m\u001b[1;33m\u001b[0m\u001b[0m\n\u001b[1;32m--> 145\u001b[1;33m                 \u001b[1;32mraise\u001b[0m \u001b[0mValueError\u001b[0m\u001b[1;33m(\u001b[0m\u001b[1;34m\"eta0 must be > 0\"\u001b[0m\u001b[1;33m)\u001b[0m\u001b[1;33m\u001b[0m\u001b[1;33m\u001b[0m\u001b[0m\n\u001b[0m\u001b[0;32m    146\u001b[0m         \u001b[1;32mif\u001b[0m \u001b[0mself\u001b[0m\u001b[1;33m.\u001b[0m\u001b[0mlearning_rate\u001b[0m \u001b[1;33m==\u001b[0m \u001b[1;34m\"optimal\"\u001b[0m \u001b[1;32mand\u001b[0m \u001b[0mself\u001b[0m\u001b[1;33m.\u001b[0m\u001b[0malpha\u001b[0m \u001b[1;33m==\u001b[0m \u001b[1;36m0\u001b[0m\u001b[1;33m:\u001b[0m\u001b[1;33m\u001b[0m\u001b[1;33m\u001b[0m\u001b[0m\n\u001b[0;32m    147\u001b[0m             raise ValueError(\"alpha must be > 0 since \"\n",
            "\u001b[1;31mValueError\u001b[0m: eta0 must be > 0"
          ]
        }
      ],
      "source": [
        "from sklearn.model_selection import GridSearchCV\n",
        "\n",
        "cv = GridSearchCV(model, param_grid, scoring='accuracy', cv=5)\n",
        "cv.fit(X_train, y_train)\n",
        "\n",
        "results = cv.cv_results_\n",
        "params = results['params']\n",
        "mean = results['mean_test_score']\n",
        "std = results['std_test_score']\n",
        "rank = results['rank_test_score'];"
      ]
    },
    {
      "cell_type": "code",
      "execution_count": null,
      "metadata": {
        "scrolled": true,
        "id": "l2_60hQDIAeK"
      },
      "outputs": [],
      "source": [
        "import pandas as pd\n",
        "df = pd.DataFrame(results)\n",
        "df[['rank_test_score', 'mean_test_score','param_alpha', 'param_loss', 'param_penalty']].sort_values('rank_test_score')"
      ]
    },
    {
      "cell_type": "code",
      "execution_count": null,
      "metadata": {
        "scrolled": true,
        "id": "wndP9495IAeL"
      },
      "outputs": [],
      "source": [
        "# Ver cómo se aplica el kfold\n",
        "# piden que se haga el gridsearch sobre el conjunto de entranamiento; pero en el notebook de Seleccion de modelos se hace \n",
        "# sobre el conjunto total (X,y)\n",
        "# Tasa de entrenamiento es lo mismo que tasa de aprendizaje?\n",
        "# Podríamos graficar la variación del meanscore en función del alpha y para distintas penalidades\n",
        "# Es importante establecer interpretaciones de cada hiperparámetro. Por ejemplo, en el caso de la \n",
        "# penalidad, supuestamente se hace para evitar sobreajuste, por lo que talvez sea un error colocar la opción \"none\""
      ]
    },
    {
      "cell_type": "markdown",
      "metadata": {
        "id": "kPwh8SWCIAeL"
      },
      "source": [
        "## Ejercicio 3: Árboles de Decisión\n",
        "\n",
        "En este ejercicio se entrenarán árboles de decisión para predecir la variable objetivo.\n",
        "\n",
        "Para ello, deberán utilizar la clase DecisionTreeClassifier de scikit-learn.\n",
        "\n",
        "Documentación:\n",
        "- https://scikit-learn.org/stable/modules/tree.html\n",
        "  - https://scikit-learn.org/stable/modules/tree.html#tips-on-practical-use\n",
        "- https://scikit-learn.org/stable/modules/generated/sklearn.tree.DecisionTreeClassifier.html\n",
        "- https://scikit-learn.org/stable/auto_examples/tree/plot_unveil_tree_structure.html"
      ]
    },
    {
      "cell_type": "markdown",
      "metadata": {
        "id": "-OdLhY1EIAeL"
      },
      "source": [
        "### Ejercicio 3.1: DecisionTreeClassifier con hiperparámetros por defecto\n",
        "\n",
        "Entrenar y evaluar el clasificador DecisionTreeClassifier usando los valores por omisión de scikit-learn para todos los parámetros. Únicamente **fijar la semilla aleatoria** para hacer repetible el experimento.\n",
        "\n",
        "Evaluar sobre el conjunto de **entrenamiento** y sobre el conjunto de **evaluación**, reportando:\n",
        "- Accuracy\n",
        "- Precision\n",
        "- Recall\n",
        "- F1\n",
        "- matriz de confusión\n"
      ]
    },
    {
      "cell_type": "code",
      "execution_count": null,
      "metadata": {
        "id": "ihBcKKB7IAeL"
      },
      "outputs": [],
      "source": [
        ""
      ]
    },
    {
      "cell_type": "markdown",
      "metadata": {
        "id": "ssyCOpyBIAeL"
      },
      "source": [
        "### Ejercicio 3.2: Ajuste de Hiperparámetros\n",
        "\n",
        "Seleccionar valores para los hiperparámetros principales del DecisionTreeClassifier. Como mínimo, probar diferentes criterios de partición (criterion), profundidad máxima del árbol (max_depth), y cantidad mínima de samples por hoja (min_samples_leaf).\n",
        "\n",
        "Para ello, usar grid-search y 5-fold cross-validation sobre el conjunto de entrenamiento para explorar muchas combinaciones posibles de valores.\n",
        "\n",
        "Reportar accuracy promedio y varianza para todas las configuraciones.\n",
        "\n",
        "Para la mejor configuración encontrada, evaluar sobre el conjunto de **entrenamiento** y sobre el conjunto de **evaluación**, reportando:\n",
        "- Accuracy\n",
        "- Precision\n",
        "- Recall\n",
        "- F1\n",
        "- matriz de confusión\n",
        "\n",
        "\n",
        "Documentación:\n",
        "- https://scikit-learn.org/stable/modules/grid_search.html\n",
        "- https://scikit-learn.org/stable/modules/generated/sklearn.model_selection.GridSearchCV.html"
      ]
    }
  ],
  "metadata": {
    "kernelspec": {
      "display_name": "Python 3 (ipykernel)",
      "language": "python",
      "name": "python3"
    },
    "language_info": {
      "codemirror_mode": {
        "name": "ipython",
        "version": 3
      },
      "file_extension": ".py",
      "mimetype": "text/x-python",
      "name": "python",
      "nbconvert_exporter": "python",
      "pygments_lexer": "ipython3",
      "version": "3.9.7"
    },
    "colab": {
      "name": "Lab_2_SGO_v1.ipynb",
      "provenance": [],
      "include_colab_link": true
    }
  },
  "nbformat": 4,
  "nbformat_minor": 0
}