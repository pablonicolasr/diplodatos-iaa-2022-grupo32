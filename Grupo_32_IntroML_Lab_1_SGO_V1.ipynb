{
  "cells": [
    {
      "cell_type": "markdown",
      "metadata": {
        "id": "view-in-github",
        "colab_type": "text"
      },
      "source": [
        "<a href=\"https://colab.research.google.com/github/pablonicolasr/diplodatos-iaa-2022-grupo32/blob/Seba_IntroML/Grupo_32_IntroML_Lab_1_SGO_V1.ipynb\" target=\"_parent\"><img src=\"https://colab.research.google.com/assets/colab-badge.svg\" alt=\"Open In Colab\"/></a>"
      ]
    },
    {
      "cell_type": "markdown",
      "metadata": {
        "id": "c7id6ppSl5BN"
      },
      "source": [
        "# Laboratorio 1: Regresión en Boston\n",
        "\n",
        "En este laboratorio deben hacer experimentos de regresión con el conjunto de datos \"Boston house prices dataset\".\n",
        "\n",
        "Estudiarán el dataset, harán visualizaciones y seleccionarán atributos relevantes a mano.\n",
        "\n",
        "Luego, entrenarán y evaluarán diferentes tipos de regresiones, buscando las configuraciones que mejores resultados den."
      ]
    },
    {
      "cell_type": "code",
      "execution_count": null,
      "metadata": {
        "id": "yRUG3stol5BP"
      },
      "outputs": [],
      "source": [
        "import numpy as np\n",
        "import matplotlib.pyplot as plt"
      ]
    },
    {
      "cell_type": "markdown",
      "metadata": {
        "id": "lEWBhwMEl5BQ"
      },
      "source": [
        "## Carga del Conjunto de Datos\n",
        "\n",
        "Cargamos el conjunto de datos y vemos su contenido."
      ]
    },
    {
      "cell_type": "code",
      "execution_count": null,
      "metadata": {
        "id": "UmtP20BFl5BR",
        "outputId": "0a1aaba4-1635-48f9-ab31-08a5ef85e28f",
        "colab": {
          "base_uri": "https://localhost:8080/"
        }
      },
      "outputs": [
        {
          "output_type": "stream",
          "name": "stderr",
          "text": [
            "/usr/local/lib/python3.7/dist-packages/sklearn/utils/deprecation.py:87: FutureWarning: Function load_boston is deprecated; `load_boston` is deprecated in 1.0 and will be removed in 1.2.\n",
            "\n",
            "    The Boston housing prices dataset has an ethical problem. You can refer to\n",
            "    the documentation of this function for further details.\n",
            "\n",
            "    The scikit-learn maintainers therefore strongly discourage the use of this\n",
            "    dataset unless the purpose of the code is to study and educate about\n",
            "    ethical issues in data science and machine learning.\n",
            "\n",
            "    In this special case, you can fetch the dataset from the original\n",
            "    source::\n",
            "\n",
            "        import pandas as pd\n",
            "        import numpy as np\n",
            "\n",
            "\n",
            "        data_url = \"http://lib.stat.cmu.edu/datasets/boston\"\n",
            "        raw_df = pd.read_csv(data_url, sep=\"\\s+\", skiprows=22, header=None)\n",
            "        data = np.hstack([raw_df.values[::2, :], raw_df.values[1::2, :2]])\n",
            "        target = raw_df.values[1::2, 2]\n",
            "\n",
            "    Alternative datasets include the California housing dataset (i.e.\n",
            "    :func:`~sklearn.datasets.fetch_california_housing`) and the Ames housing\n",
            "    dataset. You can load the datasets as follows::\n",
            "\n",
            "        from sklearn.datasets import fetch_california_housing\n",
            "        housing = fetch_california_housing()\n",
            "\n",
            "    for the California housing dataset and::\n",
            "\n",
            "        from sklearn.datasets import fetch_openml\n",
            "        housing = fetch_openml(name=\"house_prices\", as_frame=True)\n",
            "\n",
            "    for the Ames housing dataset.\n",
            "    \n",
            "  warnings.warn(msg, category=FutureWarning)\n"
          ]
        },
        {
          "output_type": "execute_result",
          "data": {
            "text/plain": [
              "dict_keys(['data', 'target', 'feature_names', 'DESCR', 'filename', 'data_module'])"
            ]
          },
          "metadata": {},
          "execution_count": 20
        }
      ],
      "source": [
        "from sklearn.datasets import load_boston\n",
        "boston = load_boston()\n",
        "boston.keys()"
      ]
    },
    {
      "cell_type": "code",
      "execution_count": null,
      "metadata": {
        "id": "Gb4vDQx3l5BS",
        "outputId": "4cbbc3c5-35a6-4c45-aa0a-f4da582aea09",
        "colab": {
          "base_uri": "https://localhost:8080/"
        }
      },
      "outputs": [
        {
          "output_type": "execute_result",
          "data": {
            "text/plain": [
              "array(['CRIM', 'ZN', 'INDUS', 'CHAS', 'NOX', 'RM', 'AGE', 'DIS', 'RAD',\n",
              "       'TAX', 'PTRATIO', 'B', 'LSTAT'], dtype='<U7')"
            ]
          },
          "metadata": {},
          "execution_count": 7
        }
      ],
      "source": [
        "# print(boston['DESCR'])   # descripción del dataset\n",
        "# boston['data']           # matriz con los datos de entrada (atributos)\n",
        "# boston['target']         # vector de valores a predecir\n",
        "boston['feature_names']  # nombres de los atributos para cada columna de 'data'"
      ]
    },
    {
      "cell_type": "code",
      "execution_count": null,
      "metadata": {
        "id": "_bmUif5tl5BT",
        "outputId": "30fb54f6-105b-41eb-be33-7a2fa9ec54e2",
        "colab": {
          "base_uri": "https://localhost:8080/"
        }
      },
      "outputs": [
        {
          "output_type": "execute_result",
          "data": {
            "text/plain": [
              "((506, 13), (506,))"
            ]
          },
          "metadata": {},
          "execution_count": 8
        }
      ],
      "source": [
        "boston['data'].shape, boston['target'].shape"
      ]
    },
    {
      "cell_type": "markdown",
      "metadata": {
        "id": "4tyJ4xsel5BT"
      },
      "source": [
        "## División en Entrenamiento y Evaluación\n",
        "\n",
        "Dividimos aleatoriamente los datos en 80% para entrenamiento y 20% para evaluación:"
      ]
    },
    {
      "cell_type": "code",
      "execution_count": null,
      "metadata": {
        "id": "s3LTvG9-l5BT",
        "outputId": "c8ece756-ca89-4a9d-eaa3-cacd3fecb4b2",
        "colab": {
          "base_uri": "https://localhost:8080/"
        }
      },
      "outputs": [
        {
          "output_type": "execute_result",
          "data": {
            "text/plain": [
              "((404, 13), (102, 13))"
            ]
          },
          "metadata": {},
          "execution_count": 9
        }
      ],
      "source": [
        "from sklearn.model_selection import train_test_split\n",
        "X, y = boston['data'], boston['target']\n",
        "X_train, X_test, y_train, y_test = train_test_split(X, y, train_size=0.8, random_state=0)\n",
        "X_train.shape, X_test.shape"
      ]
    },
    {
      "cell_type": "markdown",
      "metadata": {
        "id": "pR9dprLdl5BU"
      },
      "source": [
        "## Ejercicio 1: Descripción de los Datos y la Tarea\n",
        "\n",
        "Responda las siguientes preguntas:\n",
        "\n",
        "1. ¿De qué se trata el conjunto de datos?\n",
        "2. ¿Cuál es la variable objetivo que hay que predecir? ¿Qué significado tiene?\n",
        "3. ¿Qué información (atributos) hay disponibles para hacer la predicción?\n",
        "4. ¿Qué atributos imagina ud. que serán los más determinantes para la predicción?\n",
        "5. ¿Qué problemas observa a priori en el conjunto de datos? ¿Observa posibles sesgos, riesgos, dilemas éticos, etc? Piense que los datos pueden ser utilizados para hacer predicciones futuras.\n",
        "\n",
        "**No hace falta escribir código para responder estas preguntas.**"
      ]
    },
    {
      "cell_type": "raw",
      "metadata": {
        "id": "Eud5YFmQl5BU"
      },
      "source": [
        "**Respuestas Ejercicio 1**\n",
        "\n",
        "1- El conjunto de datos contiene información sobre precios de casas en la ciudad de Boston y corresponde a la publicación científica de Harrison, D. y Rubinfeld, D.L. 'Los precios hedónicos y la demanda de aire limpio\n",
        "', publicado en J. Environ. Economics & Management, vol.5, 81-102, 1978.\n",
        "\n",
        "2- La variable a predecir es el valor medio de una vivienda ocupada por su propietario. Como ya se cuenta en la base de datos con una columna que brinda información de valores de vivienda, se trata de un problema de Aprendizaje Supervisado. Específicamente esta variable en la base de datos se denomina \"Valor medio de las viviendas ocupadas por sus propietarios\". Está codificada como MEDV y las unidades se muestran en miles de dólares. Se cuenta con 506 registros para el modelado predictivo.\n",
        "\n",
        "3- Los atributos disponibles para hacer la predicción son 13 variables relacionadas a la valorización del \"aire limpio\". Sin embargo, no todas las variables reportan datos literalmente asociados a la polución del aire. Las variables son:\n",
        "\n",
        " *   CRIM     Tasa de criminalidad per cápita por ciudad.\n",
        " *   ZN       Proporción de suelo residencial zonificado para lotes de más de 25000 pies cuadrados.\n",
        " * INDUS    Proporción de acres comerciales no minoristas por ciudad.\n",
        " * CHAS     Variable ficticia de Charles River (= 1 si el tramo limita con el río; 0 en caso contrario).\n",
        " * NOX      Concentración de óxidos nítricos (partes por 10 millones)..\n",
        " * RM       Promedio de cuartos por vivienda.\n",
        " * AGE      Proporción de unidades ocupadas por sus propietarios construidas antes de 1940.\n",
        " * DIS      Distancias ponderadas a cinco centros de empleo de Boston.\n",
        " * RAD      Índice de accesibilidad a carreteras radiales.\n",
        " * TAX      full-value property-tax rate per 10,000 dollars.\n",
        " * PTRATIO  pupil-teacher ratio by town.\n",
        " * B        1000(Bk - 0.63)^2 where Bk is the proportion of blacks by town. \n",
        " * LSTAT    % lower status of the population\n",
        " * MEDV     Median value of owner-occupied homes in $1000's\n"
      ]
    },
    {
      "cell_type": "markdown",
      "metadata": {
        "id": "Klzup3vFl5BU"
      },
      "source": [
        "## Ejercicio 2: Visualización de los Datos\n",
        "\n",
        "1. Para cada atributo de entrada, haga una gráfica que muestre su relación con la variable objetivo.\n",
        "2. Estudie las gráficas, identificando **a ojo** los atributos que a su criterio sean los más informativos para la predicción.\n",
        "3. Para ud., ¿cuáles son esos atributos? Lístelos en orden de importancia."
      ]
    },
    {
      "cell_type": "code",
      "execution_count": null,
      "metadata": {
        "id": "Xx90w-ocl5BU",
        "outputId": "925a4177-b3a6-428d-9189-2bb768919ed1",
        "colab": {
          "base_uri": "https://localhost:8080/",
          "height": 281
        }
      },
      "outputs": [
        {
          "output_type": "display_data",
          "data": {
            "text/plain": [
              "<Figure size 432x288 with 1 Axes>"
            ],
            "image/png": "[encoded data removed]"
          },
          "metadata": {
            "needs_background": "light"
          }
        }
      ],
      "source": [
        "# 1. Resolver acá. Ayuda/ejemplo:\n",
        "feature = 'CRIM'\n",
        "selector = (boston['feature_names'] == feature)\n",
        "plt.scatter(X[:, selector], y, facecolor=\"dodgerblue\", edgecolor=\"k\", label=\"datos\")\n",
        "plt.title(feature)\n",
        "plt.legend()\n",
        "plt.show()"
      ]
    },
    {
      "cell_type": "raw",
      "metadata": {
        "id": "RW0lnpMPl5BV"
      },
      "source": [
        "**2. Responder acá**"
      ]
    },
    {
      "cell_type": "raw",
      "metadata": {
        "id": "j_LErW-wl5BV"
      },
      "source": [
        "**3. Responder acá**"
      ]
    },
    {
      "cell_type": "markdown",
      "metadata": {
        "id": "IF1pwQdOl5BV"
      },
      "source": [
        "## Ejercicio 3: Regresión Lineal\n",
        "\n",
        "1. Seleccione **un solo atributo** que considere puede ser el más apropiado.\n",
        "2. Instancie una regresión lineal de **scikit-learn**, y entrénela usando sólo el atributo seleccionado.\n",
        "3. Evalúe, calculando error cuadrático medio para los conjuntos de entrenamiento y evaluación.\n",
        "4. Grafique el modelo resultante, junto con los puntos de entrenamiento y evaluación.\n",
        "5. Interprete el resultado, haciendo algún comentario sobre las cualidades del modelo obtenido.\n",
        "\n",
        "**Observación:** Con algunos atributos se puede obtener un error en test menor a 50."
      ]
    },
    {
      "cell_type": "code",
      "execution_count": null,
      "metadata": {
        "id": "inGlew7Gl5BV",
        "outputId": "2480a2aa-9114-4f0c-e1af-374d9f1de5b3"
      },
      "outputs": [
        {
          "data": {
            "text/plain": [
              "((404, 1), (102, 1))"
            ]
          },
          "execution_count": 12,
          "metadata": {},
          "output_type": "execute_result"
        }
      ],
      "source": [
        "# 1. Resolver acá. Ayuda:\n",
        "feature = 'CRIM'  # selecciono el atributo 'CRIM'\n",
        "selector = (boston['feature_names'] == feature)\n",
        "X_train_f = X_train[:, selector]\n",
        "X_test_f = X_test[:, selector]\n",
        "X_train_f.shape, X_test_f.shape"
      ]
    },
    {
      "cell_type": "code",
      "execution_count": null,
      "metadata": {
        "id": "-BRpXBIll5BV"
      },
      "outputs": [],
      "source": [
        "# 2. Instanciar y entrenar acá."
      ]
    },
    {
      "cell_type": "code",
      "execution_count": null,
      "metadata": {
        "id": "ZgnqgMMal5BW"
      },
      "outputs": [],
      "source": [
        "# 3. Predecir y evaluar acá."
      ]
    },
    {
      "cell_type": "code",
      "execution_count": null,
      "metadata": {
        "id": "-TgivLAEl5BW",
        "outputId": "02a4ebe3-1908-4b75-f1f4-913a15731ceb"
      },
      "outputs": [
        {
          "data": {
            "image/png": "[encoded data removed]",
            "text/plain": [
              "<Figure size 432x288 with 1 Axes>"
            ]
          },
          "metadata": {
            "needs_background": "light"
          },
          "output_type": "display_data"
        }
      ],
      "source": [
        "# 4. Graficar acá. Ayuda:\n",
        "x_start = min(np.min(X_train_f), np.min(X_test_f))\n",
        "x_end = max(np.max(X_train_f), np.max(X_test_f))\n",
        "x = np.linspace(x_start, x_end, 200).reshape(-1, 1)\n",
        "# plt.plot(x, model.predict(x), color=\"tomato\", label=\"modelo\")\n",
        "\n",
        "plt.scatter(X_train_f, y_train, facecolor=\"dodgerblue\", edgecolor=\"k\", label=\"train\")\n",
        "plt.scatter(X_test_f, y_test, facecolor=\"white\", edgecolor=\"k\", label=\"test\")\n",
        "plt.title(feature)\n",
        "plt.legend()\n",
        "plt.show()"
      ]
    },
    {
      "cell_type": "raw",
      "metadata": {
        "id": "8oVrMODml5BW"
      },
      "source": [
        "**5. Responder acá**"
      ]
    },
    {
      "cell_type": "markdown",
      "metadata": {
        "id": "FzIIlLn6l5BW"
      },
      "source": [
        "## Ejercicio 4: Regresión Polinomial\n",
        "\n",
        "En este ejercicio deben entrenar regresiones polinomiales de diferente complejidad, siempre usando **scikit-learn**.\n",
        "\n",
        "Deben usar **el mismo atributo** seleccionado para el ejercicio anterior.\n",
        "\n",
        "1. Para varios grados de polinomio, haga lo siguiente:\n",
        "    1. Instancie y entrene una regresión polinomial.\n",
        "    2. Prediga y calcule error en entrenamiento y evaluación. Imprima los valores.\n",
        "    3. Guarde los errores en una lista.\n",
        "2. Grafique las curvas de error en términos del grado del polinomio.\n",
        "3. Interprete la curva, identificando el punto en que comienza a haber sobreajuste, si lo hay.\n",
        "4. Seleccione el modelo que mejor funcione, y grafique el modelo conjuntamente con los puntos.\n",
        "5. Interprete el resultado, haciendo algún comentario sobre las cualidades del modelo obtenido.\n",
        "\n",
        "**Observación:** Con algunos atributos se pueden obtener errores en test menores a 40 e incluso a 35."
      ]
    },
    {
      "cell_type": "code",
      "execution_count": null,
      "metadata": {
        "id": "5hWcQahal5BW"
      },
      "outputs": [],
      "source": [
        "# 1. Resolver acá."
      ]
    },
    {
      "cell_type": "code",
      "execution_count": null,
      "metadata": {
        "id": "V4X4-zkhl5BX"
      },
      "outputs": [],
      "source": [
        "# 2. Graficar curvas de error acá."
      ]
    },
    {
      "cell_type": "raw",
      "metadata": {
        "id": "XufHzcatl5BX"
      },
      "source": [
        "**3. Responder acá**"
      ]
    },
    {
      "cell_type": "code",
      "execution_count": null,
      "metadata": {
        "id": "6PM-YCGal5BX"
      },
      "outputs": [],
      "source": [
        "# 4. Reconstruir mejor modelo acá y graficar."
      ]
    },
    {
      "cell_type": "raw",
      "metadata": {
        "id": "PDVjMNp4l5BX"
      },
      "source": [
        "**5. Responder acá**"
      ]
    },
    {
      "cell_type": "markdown",
      "metadata": {
        "id": "pWorjPEIl5BX"
      },
      "source": [
        "## Ejercicio 5: Regresión con más de un Atributo\n",
        "\n",
        "En este ejercicio deben entrenar regresiones que toman más de un atributo de entrada.\n",
        "\n",
        "1. Seleccione **dos o tres atributos** entre los más relevantes encontrados en el ejercicio 2.\n",
        "2. Repita el ejercicio anterior, pero usando los atributos seleccionados. No hace falta graficar el modelo final.\n",
        "3. Interprete el resultado y compare con los ejercicios anteriores. ¿Se obtuvieron mejores modelos? ¿Porqué?"
      ]
    },
    {
      "cell_type": "code",
      "execution_count": null,
      "metadata": {
        "id": "_ry5S8oZl5BX",
        "outputId": "50071181-b7c4-4e19-9078-5517374622c9"
      },
      "outputs": [
        {
          "data": {
            "text/plain": [
              "((404, 2), (102, 2))"
            ]
          },
          "execution_count": 17,
          "metadata": {},
          "output_type": "execute_result"
        }
      ],
      "source": [
        "# 1. Resolver acá. Ayuda (con dos atributos):\n",
        "selector = (boston['feature_names'] == 'CRIM') | (boston['feature_names'] == 'ZN')\n",
        "X_train_fs = X_train[:, selector]\n",
        "X_test_fs = X_test[:, selector]\n",
        "X_train_fs.shape, X_test_fs.shape"
      ]
    },
    {
      "cell_type": "code",
      "execution_count": null,
      "metadata": {
        "id": "Ob5q5b9rl5BY"
      },
      "outputs": [],
      "source": [
        "# 2. Resolver acá."
      ]
    },
    {
      "cell_type": "raw",
      "metadata": {
        "id": "oY2SKp8El5BY"
      },
      "source": [
        "**3. Responder acá.**"
      ]
    },
    {
      "cell_type": "markdown",
      "metadata": {
        "id": "tRbioUIUl5BY"
      },
      "source": [
        "## Más ejercicios (opcionales)\n",
        "\n",
        "### Ejercicio 6: A Todo Feature\n",
        "\n",
        "Entrene y evalúe regresiones pero utilizando todos los atributos de entrada (va a andar mucho más lento). Estudie los resultados.\n",
        "\n",
        "### Ejercicio 7: Regularización\n",
        "\n",
        "Entrene y evalúe regresiones con regularización \"ridge\". Deberá probar distintos valores de \"alpha\" (fuerza de la regularización). ¿Mejoran los resultados?\n"
      ]
    }
  ],
  "metadata": {
    "kernelspec": {
      "display_name": "Python 3",
      "language": "python",
      "name": "python3"
    },
    "language_info": {
      "codemirror_mode": {
        "name": "ipython",
        "version": 3
      },
      "file_extension": ".py",
      "mimetype": "text/x-python",
      "name": "python",
      "nbconvert_exporter": "python",
      "pygments_lexer": "ipython3",
      "version": "3.8.10"
    },
    "colab": {
      "name": "Grupo 32.IntroML.Lab 1.SGO.V1.ipynb",
      "provenance": [],
      "collapsed_sections": [],
      "include_colab_link": true
    }
  },
  "nbformat": 4,
  "nbformat_minor": 0
}