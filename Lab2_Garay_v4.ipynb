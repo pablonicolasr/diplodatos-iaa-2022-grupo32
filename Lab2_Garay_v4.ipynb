{
  "cells": [
    {
      "cell_type": "markdown",
      "metadata": {
        "id": "view-in-github",
        "colab_type": "text"
      },
      "source": [
        "<a href=\"https://colab.research.google.com/github/pablonicolasr/diplodatos-iaa-2022-grupo32/blob/Garay_Carolina_ML1/Lab2_Garay_v4.ipynb\" target=\"_parent\"><img src=\"https://colab.research.google.com/assets/colab-badge.svg\" alt=\"Open In Colab\"/></a>"
      ]
    },
    {
      "cell_type": "markdown",
      "source": [
        "#Laboratorio 2: Armado de un esquema de aprendizaje automático\n",
        "\n",
        "**Grupo 32**\n",
        "\n",
        "Integrantes:\n",
        "\n",
        "* Garay, Carolina del Valle\n",
        "* Ormaechea, Sebastián Gabriel\n",
        "* Ramos, Pablo Nicolás\n"
      ],
      "metadata": {
        "id": "xKgeot7EsJM3"
      }
    },
    {
      "cell_type": "markdown",
      "metadata": {
        "id": "-wQrp7y5XDhk"
      },
      "source": [
        "En el laboratorio final se espera que puedan poner en práctica los conocimientos adquiridos en el curso, trabajando con un conjunto de datos de clasificación.\n",
        "\n",
        "El objetivo es que se introduzcan en el desarrollo de un esquema para hacer tareas de aprendizaje automático: selección de un modelo, ajuste de hiperparámetros y evaluación.\n",
        "\n",
        "El conjunto de datos a utilizar está en `./data/loan_data.csv`. Si abren el archivo verán que al principio (las líneas que empiezan con `#`) describen el conjunto de datos y sus atributos (incluyendo el atributo de etiqueta o clase).\n",
        "\n",
        "Se espera que hagan uso de las herramientas vistas en el curso. Se espera que hagan uso especialmente de las herramientas brindadas por `scikit-learn`."
      ]
    },
    {
      "cell_type": "code",
      "execution_count": 159,
      "metadata": {
        "id": "E6exW22lXDho"
      },
      "outputs": [],
      "source": [
        "import numpy as np\n",
        "import pandas as pd\n",
        "\n",
        "# TODO: Agregar las librerías que hagan falta\n",
        "from sklearn.model_selection import train_test_split\n",
        "from sklearn.metrics import classification_report\n",
        "from sklearn.metrics import confusion_matrix\n",
        "from sklearn.metrics import accuracy_score\n",
        "from sklearn.preprocessing import StandardScaler\n",
        "import warnings\n",
        "warnings.filterwarnings('ignore')\n",
        "\n",
        "\n",
        "from sklearn.model_selection import GridSearchCV\n",
        "from scipy import stats\n",
        "from sklearn import linear_model\n",
        "from sklearn.tree import DecisionTreeClassifier\n",
        "from sklearn import tree\n",
        "\n",
        "\n",
        "%matplotlib inline"
      ]
    },
    {
      "cell_type": "markdown",
      "metadata": {
        "id": "QYwZb_soXDhp"
      },
      "source": [
        "## Carga de datos y división en entrenamiento y evaluación\n",
        "\n",
        "La celda siguiente se encarga de la carga de datos (haciendo uso de pandas). Estos serán los que se trabajarán en el resto del laboratorio."
      ]
    },
    {
      "cell_type": "code",
      "source": [
        "# Descarga de base de datos\n",
        "!gdown https://drive.google.com/file/d/1JrWG6v8LOGtb983SoG5nPzx8RTxJTHOW/view?usp=sharing --fuzzy"
      ],
      "metadata": {
        "colab": {
          "base_uri": "https://localhost:8080/"
        },
        "id": "YbjP0aHz0vpn",
        "outputId": "774c6556-2938-47a7-826c-e28f6635e0fb"
      },
      "execution_count": null,
      "outputs": [
        {
          "output_type": "stream",
          "name": "stdout",
          "text": [
            "Downloading...\n",
            "From: https://drive.google.com/uc?id=1JrWG6v8LOGtb983SoG5nPzx8RTxJTHOW\n",
            "To: /content/loan_data.csv\n",
            "\r  0% 0.00/138k [00:00<?, ?B/s]\r100% 138k/138k [00:00<00:00, 63.2MB/s]\n"
          ]
        }
      ]
    },
    {
      "cell_type": "code",
      "source": [
        "dataset = pd.read_csv('/content/loan_data.csv', comment=\"#\")"
      ],
      "metadata": {
        "id": "EBuyr83S1V3k"
      },
      "execution_count": null,
      "outputs": []
    },
    {
      "cell_type": "code",
      "source": [
        "dataset['TARGET'] = pd.Categorical(dataset.TARGET)"
      ],
      "metadata": {
        "id": "-VsUTQvfUAtv"
      },
      "execution_count": null,
      "outputs": []
    },
    {
      "cell_type": "code",
      "source": [
        "dataset"
      ],
      "metadata": {
        "colab": {
          "base_uri": "https://localhost:8080/",
          "height": 402
        },
        "id": "fI56CI8p1e2z",
        "outputId": "1f21a6d3-c90d-4d2e-a1f9-d45d1be3fd99"
      },
      "execution_count": null,
      "outputs": [
        {
          "output_type": "execute_result",
          "data": {
            "text/plain": [
              "      TARGET   LOAN   MORTDUE     VALUE   YOJ  DEROG  DELINQ       CLAGE  \\\n",
              "0          0   4700   88026.0  115506.0   6.0    0.0     0.0  182.248332   \n",
              "1          0  19300   39926.0  101208.0   4.0    0.0     0.0  140.051638   \n",
              "2          0   5700   71556.0   79538.0   2.0    0.0     0.0   92.643085   \n",
              "3          0  13000   44875.0   57713.0   0.0    1.0     0.0  184.990324   \n",
              "4          0  19300   72752.0  106084.0  11.0    0.0     0.0  193.707100   \n",
              "...      ...    ...       ...       ...   ...    ...     ...         ...   \n",
              "1849       1  53400  228236.0  305514.0   6.0    0.0     0.0   11.148069   \n",
              "1850       1  53600  235895.0  299772.0   5.0    0.0     0.0  112.748282   \n",
              "1851       1  53600  208197.0  297280.0   4.0    1.0     1.0  160.485251   \n",
              "1852       1  65500  205156.0  290239.0   2.0    0.0     0.0   98.808206   \n",
              "1853       1  77400   87651.0  224630.0   9.0    0.0     2.0   73.469630   \n",
              "\n",
              "      NINQ  CLNO     DEBTINC  \n",
              "0      0.0  27.0   29.209023  \n",
              "1      0.0  14.0   31.545694  \n",
              "2      0.0  15.0   41.210012  \n",
              "3      1.0  12.0   28.602076  \n",
              "4      1.0  13.0   30.686106  \n",
              "...    ...   ...         ...  \n",
              "1849   0.0   2.0   34.558417  \n",
              "1850   7.0  22.0   44.945929  \n",
              "1851   2.0  29.0   41.646731  \n",
              "1852   1.0  21.0  144.189001  \n",
              "1853   3.0  13.0   40.929793  \n",
              "\n",
              "[1854 rows x 11 columns]"
            ],
            "text/html": [
              "\n",
              "  <div id=\"df-ae5fe730-44dc-4545-9496-63784b61487b\">\n",
              "    <div class=\"colab-df-container\">\n",
              "      <div>\n",
              "<style scoped>\n",
              "    .dataframe tbody tr th:only-of-type {\n",
              "        vertical-align: middle;\n",
              "    }\n",
              "\n",
              "    .dataframe tbody tr th {\n",
              "        vertical-align: top;\n",
              "    }\n",
              "\n",
              "    .dataframe thead th {\n",
              "        text-align: right;\n",
              "    }\n",
              "</style>\n",
              "<table border=\"1\" class=\"dataframe\">\n",
              "  <thead>\n",
              "    <tr style=\"text-align: right;\">\n",
              "      <th></th>\n",
              "      <th>TARGET</th>\n",
              "      <th>LOAN</th>\n",
              "      <th>MORTDUE</th>\n",
              "      <th>VALUE</th>\n",
              "      <th>YOJ</th>\n",
              "      <th>DEROG</th>\n",
              "      <th>DELINQ</th>\n",
              "      <th>CLAGE</th>\n",
              "      <th>NINQ</th>\n",
              "      <th>CLNO</th>\n",
              "      <th>DEBTINC</th>\n",
              "    </tr>\n",
              "  </thead>\n",
              "  <tbody>\n",
              "    <tr>\n",
              "      <th>0</th>\n",
              "      <td>0</td>\n",
              "      <td>4700</td>\n",
              "      <td>88026.0</td>\n",
              "      <td>115506.0</td>\n",
              "      <td>6.0</td>\n",
              "      <td>0.0</td>\n",
              "      <td>0.0</td>\n",
              "      <td>182.248332</td>\n",
              "      <td>0.0</td>\n",
              "      <td>27.0</td>\n",
              "      <td>29.209023</td>\n",
              "    </tr>\n",
              "    <tr>\n",
              "      <th>1</th>\n",
              "      <td>0</td>\n",
              "      <td>19300</td>\n",
              "      <td>39926.0</td>\n",
              "      <td>101208.0</td>\n",
              "      <td>4.0</td>\n",
              "      <td>0.0</td>\n",
              "      <td>0.0</td>\n",
              "      <td>140.051638</td>\n",
              "      <td>0.0</td>\n",
              "      <td>14.0</td>\n",
              "      <td>31.545694</td>\n",
              "    </tr>\n",
              "    <tr>\n",
              "      <th>2</th>\n",
              "      <td>0</td>\n",
              "      <td>5700</td>\n",
              "      <td>71556.0</td>\n",
              "      <td>79538.0</td>\n",
              "      <td>2.0</td>\n",
              "      <td>0.0</td>\n",
              "      <td>0.0</td>\n",
              "      <td>92.643085</td>\n",
              "      <td>0.0</td>\n",
              "      <td>15.0</td>\n",
              "      <td>41.210012</td>\n",
              "    </tr>\n",
              "    <tr>\n",
              "      <th>3</th>\n",
              "      <td>0</td>\n",
              "      <td>13000</td>\n",
              "      <td>44875.0</td>\n",
              "      <td>57713.0</td>\n",
              "      <td>0.0</td>\n",
              "      <td>1.0</td>\n",
              "      <td>0.0</td>\n",
              "      <td>184.990324</td>\n",
              "      <td>1.0</td>\n",
              "      <td>12.0</td>\n",
              "      <td>28.602076</td>\n",
              "    </tr>\n",
              "    <tr>\n",
              "      <th>4</th>\n",
              "      <td>0</td>\n",
              "      <td>19300</td>\n",
              "      <td>72752.0</td>\n",
              "      <td>106084.0</td>\n",
              "      <td>11.0</td>\n",
              "      <td>0.0</td>\n",
              "      <td>0.0</td>\n",
              "      <td>193.707100</td>\n",
              "      <td>1.0</td>\n",
              "      <td>13.0</td>\n",
              "      <td>30.686106</td>\n",
              "    </tr>\n",
              "    <tr>\n",
              "      <th>...</th>\n",
              "      <td>...</td>\n",
              "      <td>...</td>\n",
              "      <td>...</td>\n",
              "      <td>...</td>\n",
              "      <td>...</td>\n",
              "      <td>...</td>\n",
              "      <td>...</td>\n",
              "      <td>...</td>\n",
              "      <td>...</td>\n",
              "      <td>...</td>\n",
              "      <td>...</td>\n",
              "    </tr>\n",
              "    <tr>\n",
              "      <th>1849</th>\n",
              "      <td>1</td>\n",
              "      <td>53400</td>\n",
              "      <td>228236.0</td>\n",
              "      <td>305514.0</td>\n",
              "      <td>6.0</td>\n",
              "      <td>0.0</td>\n",
              "      <td>0.0</td>\n",
              "      <td>11.148069</td>\n",
              "      <td>0.0</td>\n",
              "      <td>2.0</td>\n",
              "      <td>34.558417</td>\n",
              "    </tr>\n",
              "    <tr>\n",
              "      <th>1850</th>\n",
              "      <td>1</td>\n",
              "      <td>53600</td>\n",
              "      <td>235895.0</td>\n",
              "      <td>299772.0</td>\n",
              "      <td>5.0</td>\n",
              "      <td>0.0</td>\n",
              "      <td>0.0</td>\n",
              "      <td>112.748282</td>\n",
              "      <td>7.0</td>\n",
              "      <td>22.0</td>\n",
              "      <td>44.945929</td>\n",
              "    </tr>\n",
              "    <tr>\n",
              "      <th>1851</th>\n",
              "      <td>1</td>\n",
              "      <td>53600</td>\n",
              "      <td>208197.0</td>\n",
              "      <td>297280.0</td>\n",
              "      <td>4.0</td>\n",
              "      <td>1.0</td>\n",
              "      <td>1.0</td>\n",
              "      <td>160.485251</td>\n",
              "      <td>2.0</td>\n",
              "      <td>29.0</td>\n",
              "      <td>41.646731</td>\n",
              "    </tr>\n",
              "    <tr>\n",
              "      <th>1852</th>\n",
              "      <td>1</td>\n",
              "      <td>65500</td>\n",
              "      <td>205156.0</td>\n",
              "      <td>290239.0</td>\n",
              "      <td>2.0</td>\n",
              "      <td>0.0</td>\n",
              "      <td>0.0</td>\n",
              "      <td>98.808206</td>\n",
              "      <td>1.0</td>\n",
              "      <td>21.0</td>\n",
              "      <td>144.189001</td>\n",
              "    </tr>\n",
              "    <tr>\n",
              "      <th>1853</th>\n",
              "      <td>1</td>\n",
              "      <td>77400</td>\n",
              "      <td>87651.0</td>\n",
              "      <td>224630.0</td>\n",
              "      <td>9.0</td>\n",
              "      <td>0.0</td>\n",
              "      <td>2.0</td>\n",
              "      <td>73.469630</td>\n",
              "      <td>3.0</td>\n",
              "      <td>13.0</td>\n",
              "      <td>40.929793</td>\n",
              "    </tr>\n",
              "  </tbody>\n",
              "</table>\n",
              "<p>1854 rows × 11 columns</p>\n",
              "</div>\n",
              "      <button class=\"colab-df-convert\" onclick=\"convertToInteractive('df-ae5fe730-44dc-4545-9496-63784b61487b')\"\n",
              "              title=\"Convert this dataframe to an interactive table.\"\n",
              "              style=\"display:none;\">\n",
              "        \n",
              "  <svg xmlns=\"http://www.w3.org/2000/svg\" height=\"24px\"viewBox=\"0 0 24 24\"\n",
              "       width=\"24px\">\n",
              "    <path d=\"M0 0h24v24H0V0z\" fill=\"none\"/>\n",
              "    <path d=\"M18.56 5.44l.94 2.06.94-2.06 2.06-.94-2.06-.94-.94-2.06-.94 2.06-2.06.94zm-11 1L8.5 8.5l.94-2.06 2.06-.94-2.06-.94L8.5 2.5l-.94 2.06-2.06.94zm10 10l.94 2.06.94-2.06 2.06-.94-2.06-.94-.94-2.06-.94 2.06-2.06.94z\"/><path d=\"M17.41 7.96l-1.37-1.37c-.4-.4-.92-.59-1.43-.59-.52 0-1.04.2-1.43.59L10.3 9.45l-7.72 7.72c-.78.78-.78 2.05 0 2.83L4 21.41c.39.39.9.59 1.41.59.51 0 1.02-.2 1.41-.59l7.78-7.78 2.81-2.81c.8-.78.8-2.07 0-2.86zM5.41 20L4 18.59l7.72-7.72 1.47 1.35L5.41 20z\"/>\n",
              "  </svg>\n",
              "      </button>\n",
              "      \n",
              "  <style>\n",
              "    .colab-df-container {\n",
              "      display:flex;\n",
              "      flex-wrap:wrap;\n",
              "      gap: 12px;\n",
              "    }\n",
              "\n",
              "    .colab-df-convert {\n",
              "      background-color: #E8F0FE;\n",
              "      border: none;\n",
              "      border-radius: 50%;\n",
              "      cursor: pointer;\n",
              "      display: none;\n",
              "      fill: #1967D2;\n",
              "      height: 32px;\n",
              "      padding: 0 0 0 0;\n",
              "      width: 32px;\n",
              "    }\n",
              "\n",
              "    .colab-df-convert:hover {\n",
              "      background-color: #E2EBFA;\n",
              "      box-shadow: 0px 1px 2px rgba(60, 64, 67, 0.3), 0px 1px 3px 1px rgba(60, 64, 67, 0.15);\n",
              "      fill: #174EA6;\n",
              "    }\n",
              "\n",
              "    [theme=dark] .colab-df-convert {\n",
              "      background-color: #3B4455;\n",
              "      fill: #D2E3FC;\n",
              "    }\n",
              "\n",
              "    [theme=dark] .colab-df-convert:hover {\n",
              "      background-color: #434B5C;\n",
              "      box-shadow: 0px 1px 3px 1px rgba(0, 0, 0, 0.15);\n",
              "      filter: drop-shadow(0px 1px 2px rgba(0, 0, 0, 0.3));\n",
              "      fill: #FFFFFF;\n",
              "    }\n",
              "  </style>\n",
              "\n",
              "      <script>\n",
              "        const buttonEl =\n",
              "          document.querySelector('#df-ae5fe730-44dc-4545-9496-63784b61487b button.colab-df-convert');\n",
              "        buttonEl.style.display =\n",
              "          google.colab.kernel.accessAllowed ? 'block' : 'none';\n",
              "\n",
              "        async function convertToInteractive(key) {\n",
              "          const element = document.querySelector('#df-ae5fe730-44dc-4545-9496-63784b61487b');\n",
              "          const dataTable =\n",
              "            await google.colab.kernel.invokeFunction('convertToInteractive',\n",
              "                                                     [key], {});\n",
              "          if (!dataTable) return;\n",
              "\n",
              "          const docLinkHtml = 'Like what you see? Visit the ' +\n",
              "            '<a target=\"_blank\" href=https://colab.research.google.com/notebooks/data_table.ipynb>data table notebook</a>'\n",
              "            + ' to learn more about interactive tables.';\n",
              "          element.innerHTML = '';\n",
              "          dataTable['output_type'] = 'display_data';\n",
              "          await google.colab.output.renderOutput(dataTable, element);\n",
              "          const docLink = document.createElement('div');\n",
              "          docLink.innerHTML = docLinkHtml;\n",
              "          element.appendChild(docLink);\n",
              "        }\n",
              "      </script>\n",
              "    </div>\n",
              "  </div>\n",
              "  "
            ]
          },
          "metadata": {},
          "execution_count": 5
        }
      ]
    },
    {
      "cell_type": "code",
      "execution_count": null,
      "metadata": {
        "id": "J9Bjnd94XDhq",
        "colab": {
          "base_uri": "https://localhost:8080/"
        },
        "outputId": "5099c787-2e89-4f30-869a-22376d5e8f64"
      },
      "outputs": [
        {
          "output_type": "stream",
          "name": "stdout",
          "text": [
            "(1483, 10)\n",
            "(1483,)\n",
            "(371, 10)\n"
          ]
        }
      ],
      "source": [
        "# División entre instancias y etiquetas\n",
        "X, y = dataset.iloc[:, 1:], dataset.TARGET\n",
        "\n",
        "# división entre entrenamiento y evaluación\n",
        "X_train, X_test, y_train, y_test = train_test_split(X, y, test_size=0.2, random_state=0)\n",
        "print(X_train.shape)\n",
        "print(y_train.shape)\n",
        "print(X_test.shape)\n"
      ]
    },
    {
      "cell_type": "code",
      "source": [
        "X_train"
      ],
      "metadata": {
        "colab": {
          "base_uri": "https://localhost:8080/",
          "height": 402
        },
        "id": "YeuHbgYMJxno",
        "outputId": "75b7f64e-c7bd-49a0-e0e3-e040a17d1d75"
      },
      "execution_count": null,
      "outputs": [
        {
          "output_type": "execute_result",
          "data": {
            "text/plain": [
              "       LOAN   MORTDUE     VALUE   YOJ  DEROG  DELINQ       CLAGE  NINQ  CLNO  \\\n",
              "1240   9400   92340.0  125451.0   7.0    0.0     0.0  129.113725   1.0  22.0   \n",
              "1183  14800   43983.0   60826.0   4.0    1.0     1.0  113.897967   1.0   9.0   \n",
              "692   20100   59726.0   79982.0   8.0    1.0     0.0   74.210759   2.0  28.0   \n",
              "871   25200   73168.0   93608.0   9.0    0.0     0.0  151.121480   0.0  21.0   \n",
              "1353  17000   70039.0  100993.0   7.0    0.0     0.0  261.911317   1.0  11.0   \n",
              "...     ...       ...       ...   ...    ...     ...         ...   ...   ...   \n",
              "835   15900   48563.0   64679.0   4.0    0.0     0.0  156.101381   2.0  12.0   \n",
              "1216  27500  150666.0  192346.0   3.0    0.0     0.0  177.871473   0.0  17.0   \n",
              "1653  12800   54151.0   83828.0  13.0    0.0     0.0  132.160270   0.0  16.0   \n",
              "559   21300   63263.0   94180.0   1.0    0.0     0.0  138.348455   1.0  22.0   \n",
              "684    7800   69662.0   80498.0   4.0    0.0     0.0  100.428331   0.0  14.0   \n",
              "\n",
              "        DEBTINC  \n",
              "1240  36.349975  \n",
              "1183  27.108082  \n",
              "692   36.846922  \n",
              "871   35.590327  \n",
              "1353  36.564330  \n",
              "...         ...  \n",
              "835   27.808547  \n",
              "1216  39.978650  \n",
              "1653  23.477426  \n",
              "559   35.549295  \n",
              "684   42.807342  \n",
              "\n",
              "[1483 rows x 10 columns]"
            ],
            "text/html": [
              "\n",
              "  <div id=\"df-f4853563-4855-4dd5-bc3d-c2de8ed0411c\">\n",
              "    <div class=\"colab-df-container\">\n",
              "      <div>\n",
              "<style scoped>\n",
              "    .dataframe tbody tr th:only-of-type {\n",
              "        vertical-align: middle;\n",
              "    }\n",
              "\n",
              "    .dataframe tbody tr th {\n",
              "        vertical-align: top;\n",
              "    }\n",
              "\n",
              "    .dataframe thead th {\n",
              "        text-align: right;\n",
              "    }\n",
              "</style>\n",
              "<table border=\"1\" class=\"dataframe\">\n",
              "  <thead>\n",
              "    <tr style=\"text-align: right;\">\n",
              "      <th></th>\n",
              "      <th>LOAN</th>\n",
              "      <th>MORTDUE</th>\n",
              "      <th>VALUE</th>\n",
              "      <th>YOJ</th>\n",
              "      <th>DEROG</th>\n",
              "      <th>DELINQ</th>\n",
              "      <th>CLAGE</th>\n",
              "      <th>NINQ</th>\n",
              "      <th>CLNO</th>\n",
              "      <th>DEBTINC</th>\n",
              "    </tr>\n",
              "  </thead>\n",
              "  <tbody>\n",
              "    <tr>\n",
              "      <th>1240</th>\n",
              "      <td>9400</td>\n",
              "      <td>92340.0</td>\n",
              "      <td>125451.0</td>\n",
              "      <td>7.0</td>\n",
              "      <td>0.0</td>\n",
              "      <td>0.0</td>\n",
              "      <td>129.113725</td>\n",
              "      <td>1.0</td>\n",
              "      <td>22.0</td>\n",
              "      <td>36.349975</td>\n",
              "    </tr>\n",
              "    <tr>\n",
              "      <th>1183</th>\n",
              "      <td>14800</td>\n",
              "      <td>43983.0</td>\n",
              "      <td>60826.0</td>\n",
              "      <td>4.0</td>\n",
              "      <td>1.0</td>\n",
              "      <td>1.0</td>\n",
              "      <td>113.897967</td>\n",
              "      <td>1.0</td>\n",
              "      <td>9.0</td>\n",
              "      <td>27.108082</td>\n",
              "    </tr>\n",
              "    <tr>\n",
              "      <th>692</th>\n",
              "      <td>20100</td>\n",
              "      <td>59726.0</td>\n",
              "      <td>79982.0</td>\n",
              "      <td>8.0</td>\n",
              "      <td>1.0</td>\n",
              "      <td>0.0</td>\n",
              "      <td>74.210759</td>\n",
              "      <td>2.0</td>\n",
              "      <td>28.0</td>\n",
              "      <td>36.846922</td>\n",
              "    </tr>\n",
              "    <tr>\n",
              "      <th>871</th>\n",
              "      <td>25200</td>\n",
              "      <td>73168.0</td>\n",
              "      <td>93608.0</td>\n",
              "      <td>9.0</td>\n",
              "      <td>0.0</td>\n",
              "      <td>0.0</td>\n",
              "      <td>151.121480</td>\n",
              "      <td>0.0</td>\n",
              "      <td>21.0</td>\n",
              "      <td>35.590327</td>\n",
              "    </tr>\n",
              "    <tr>\n",
              "      <th>1353</th>\n",
              "      <td>17000</td>\n",
              "      <td>70039.0</td>\n",
              "      <td>100993.0</td>\n",
              "      <td>7.0</td>\n",
              "      <td>0.0</td>\n",
              "      <td>0.0</td>\n",
              "      <td>261.911317</td>\n",
              "      <td>1.0</td>\n",
              "      <td>11.0</td>\n",
              "      <td>36.564330</td>\n",
              "    </tr>\n",
              "    <tr>\n",
              "      <th>...</th>\n",
              "      <td>...</td>\n",
              "      <td>...</td>\n",
              "      <td>...</td>\n",
              "      <td>...</td>\n",
              "      <td>...</td>\n",
              "      <td>...</td>\n",
              "      <td>...</td>\n",
              "      <td>...</td>\n",
              "      <td>...</td>\n",
              "      <td>...</td>\n",
              "    </tr>\n",
              "    <tr>\n",
              "      <th>835</th>\n",
              "      <td>15900</td>\n",
              "      <td>48563.0</td>\n",
              "      <td>64679.0</td>\n",
              "      <td>4.0</td>\n",
              "      <td>0.0</td>\n",
              "      <td>0.0</td>\n",
              "      <td>156.101381</td>\n",
              "      <td>2.0</td>\n",
              "      <td>12.0</td>\n",
              "      <td>27.808547</td>\n",
              "    </tr>\n",
              "    <tr>\n",
              "      <th>1216</th>\n",
              "      <td>27500</td>\n",
              "      <td>150666.0</td>\n",
              "      <td>192346.0</td>\n",
              "      <td>3.0</td>\n",
              "      <td>0.0</td>\n",
              "      <td>0.0</td>\n",
              "      <td>177.871473</td>\n",
              "      <td>0.0</td>\n",
              "      <td>17.0</td>\n",
              "      <td>39.978650</td>\n",
              "    </tr>\n",
              "    <tr>\n",
              "      <th>1653</th>\n",
              "      <td>12800</td>\n",
              "      <td>54151.0</td>\n",
              "      <td>83828.0</td>\n",
              "      <td>13.0</td>\n",
              "      <td>0.0</td>\n",
              "      <td>0.0</td>\n",
              "      <td>132.160270</td>\n",
              "      <td>0.0</td>\n",
              "      <td>16.0</td>\n",
              "      <td>23.477426</td>\n",
              "    </tr>\n",
              "    <tr>\n",
              "      <th>559</th>\n",
              "      <td>21300</td>\n",
              "      <td>63263.0</td>\n",
              "      <td>94180.0</td>\n",
              "      <td>1.0</td>\n",
              "      <td>0.0</td>\n",
              "      <td>0.0</td>\n",
              "      <td>138.348455</td>\n",
              "      <td>1.0</td>\n",
              "      <td>22.0</td>\n",
              "      <td>35.549295</td>\n",
              "    </tr>\n",
              "    <tr>\n",
              "      <th>684</th>\n",
              "      <td>7800</td>\n",
              "      <td>69662.0</td>\n",
              "      <td>80498.0</td>\n",
              "      <td>4.0</td>\n",
              "      <td>0.0</td>\n",
              "      <td>0.0</td>\n",
              "      <td>100.428331</td>\n",
              "      <td>0.0</td>\n",
              "      <td>14.0</td>\n",
              "      <td>42.807342</td>\n",
              "    </tr>\n",
              "  </tbody>\n",
              "</table>\n",
              "<p>1483 rows × 10 columns</p>\n",
              "</div>\n",
              "      <button class=\"colab-df-convert\" onclick=\"convertToInteractive('df-f4853563-4855-4dd5-bc3d-c2de8ed0411c')\"\n",
              "              title=\"Convert this dataframe to an interactive table.\"\n",
              "              style=\"display:none;\">\n",
              "        \n",
              "  <svg xmlns=\"http://www.w3.org/2000/svg\" height=\"24px\"viewBox=\"0 0 24 24\"\n",
              "       width=\"24px\">\n",
              "    <path d=\"M0 0h24v24H0V0z\" fill=\"none\"/>\n",
              "    <path d=\"M18.56 5.44l.94 2.06.94-2.06 2.06-.94-2.06-.94-.94-2.06-.94 2.06-2.06.94zm-11 1L8.5 8.5l.94-2.06 2.06-.94-2.06-.94L8.5 2.5l-.94 2.06-2.06.94zm10 10l.94 2.06.94-2.06 2.06-.94-2.06-.94-.94-2.06-.94 2.06-2.06.94z\"/><path d=\"M17.41 7.96l-1.37-1.37c-.4-.4-.92-.59-1.43-.59-.52 0-1.04.2-1.43.59L10.3 9.45l-7.72 7.72c-.78.78-.78 2.05 0 2.83L4 21.41c.39.39.9.59 1.41.59.51 0 1.02-.2 1.41-.59l7.78-7.78 2.81-2.81c.8-.78.8-2.07 0-2.86zM5.41 20L4 18.59l7.72-7.72 1.47 1.35L5.41 20z\"/>\n",
              "  </svg>\n",
              "      </button>\n",
              "      \n",
              "  <style>\n",
              "    .colab-df-container {\n",
              "      display:flex;\n",
              "      flex-wrap:wrap;\n",
              "      gap: 12px;\n",
              "    }\n",
              "\n",
              "    .colab-df-convert {\n",
              "      background-color: #E8F0FE;\n",
              "      border: none;\n",
              "      border-radius: 50%;\n",
              "      cursor: pointer;\n",
              "      display: none;\n",
              "      fill: #1967D2;\n",
              "      height: 32px;\n",
              "      padding: 0 0 0 0;\n",
              "      width: 32px;\n",
              "    }\n",
              "\n",
              "    .colab-df-convert:hover {\n",
              "      background-color: #E2EBFA;\n",
              "      box-shadow: 0px 1px 2px rgba(60, 64, 67, 0.3), 0px 1px 3px 1px rgba(60, 64, 67, 0.15);\n",
              "      fill: #174EA6;\n",
              "    }\n",
              "\n",
              "    [theme=dark] .colab-df-convert {\n",
              "      background-color: #3B4455;\n",
              "      fill: #D2E3FC;\n",
              "    }\n",
              "\n",
              "    [theme=dark] .colab-df-convert:hover {\n",
              "      background-color: #434B5C;\n",
              "      box-shadow: 0px 1px 3px 1px rgba(0, 0, 0, 0.15);\n",
              "      filter: drop-shadow(0px 1px 2px rgba(0, 0, 0, 0.3));\n",
              "      fill: #FFFFFF;\n",
              "    }\n",
              "  </style>\n",
              "\n",
              "      <script>\n",
              "        const buttonEl =\n",
              "          document.querySelector('#df-f4853563-4855-4dd5-bc3d-c2de8ed0411c button.colab-df-convert');\n",
              "        buttonEl.style.display =\n",
              "          google.colab.kernel.accessAllowed ? 'block' : 'none';\n",
              "\n",
              "        async function convertToInteractive(key) {\n",
              "          const element = document.querySelector('#df-f4853563-4855-4dd5-bc3d-c2de8ed0411c');\n",
              "          const dataTable =\n",
              "            await google.colab.kernel.invokeFunction('convertToInteractive',\n",
              "                                                     [key], {});\n",
              "          if (!dataTable) return;\n",
              "\n",
              "          const docLinkHtml = 'Like what you see? Visit the ' +\n",
              "            '<a target=\"_blank\" href=https://colab.research.google.com/notebooks/data_table.ipynb>data table notebook</a>'\n",
              "            + ' to learn more about interactive tables.';\n",
              "          element.innerHTML = '';\n",
              "          dataTable['output_type'] = 'display_data';\n",
              "          await google.colab.output.renderOutput(dataTable, element);\n",
              "          const docLink = document.createElement('div');\n",
              "          docLink.innerHTML = docLinkHtml;\n",
              "          element.appendChild(docLink);\n",
              "        }\n",
              "      </script>\n",
              "    </div>\n",
              "  </div>\n",
              "  "
            ]
          },
          "metadata": {},
          "execution_count": 7
        }
      ]
    },
    {
      "cell_type": "code",
      "source": [
        "y_train"
      ],
      "metadata": {
        "colab": {
          "base_uri": "https://localhost:8080/"
        },
        "id": "fqX6_SoNiJvq",
        "outputId": "f6cb3ded-9063-40de-b839-e0b439e9d5c1"
      },
      "execution_count": null,
      "outputs": [
        {
          "output_type": "execute_result",
          "data": {
            "text/plain": [
              "1240    0\n",
              "1183    0\n",
              "692     0\n",
              "871     0\n",
              "1353    0\n",
              "       ..\n",
              "835     0\n",
              "1216    0\n",
              "1653    1\n",
              "559     0\n",
              "684     0\n",
              "Name: TARGET, Length: 1483, dtype: int64"
            ]
          },
          "metadata": {},
          "execution_count": 8
        }
      ]
    },
    {
      "cell_type": "code",
      "source": [
        "X_test"
      ],
      "metadata": {
        "colab": {
          "base_uri": "https://localhost:8080/",
          "height": 402
        },
        "id": "B46nVqCMiJh2",
        "outputId": "591642de-cfed-4772-93f6-d3c360052904"
      },
      "execution_count": null,
      "outputs": [
        {
          "output_type": "execute_result",
          "data": {
            "text/plain": [
              "       LOAN  MORTDUE     VALUE   YOJ  DEROG  DELINQ       CLAGE  NINQ  CLNO  \\\n",
              "724    4200  50216.0   58541.0  19.0    0.0     0.0  209.871302   0.0  19.0   \n",
              "652   19300  50554.0   76140.0   9.0    2.0     0.0   78.276625   3.0  27.0   \n",
              "825   13000  78766.0  106450.0   6.0    0.0     0.0  107.951312   0.0  26.0   \n",
              "1636  11800  67678.0  108092.0  13.0    0.0     7.0  126.658232   0.0  36.0   \n",
              "18    87500  55938.0   86794.0  15.0    0.0     0.0  223.881040   0.0  16.0   \n",
              "...     ...      ...       ...   ...    ...     ...         ...   ...   ...   \n",
              "485   79100  23553.0  103807.0  25.0    0.0     1.0  142.193458   0.0  13.0   \n",
              "1702  16300  79087.0  102921.0  23.0    0.0     0.0  256.253084   0.0  45.0   \n",
              "511   26900  72848.0  101736.0  10.0    0.0     0.0  131.409634   0.0  21.0   \n",
              "1406  13000  80587.0  110064.0   6.0    0.0     0.0   85.009197   1.0  13.0   \n",
              "1670  14100  52302.0   63589.0   6.0    0.0     0.0  130.342467   4.0   8.0   \n",
              "\n",
              "        DEBTINC  \n",
              "724   20.208033  \n",
              "652   36.026904  \n",
              "825   24.870994  \n",
              "1636  37.162690  \n",
              "18    36.753653  \n",
              "...         ...  \n",
              "485   31.469937  \n",
              "1702  36.987086  \n",
              "511   36.369027  \n",
              "1406  33.990040  \n",
              "1670  34.792832  \n",
              "\n",
              "[371 rows x 10 columns]"
            ],
            "text/html": [
              "\n",
              "  <div id=\"df-88d20153-7276-4820-9a39-7fd462295fb3\">\n",
              "    <div class=\"colab-df-container\">\n",
              "      <div>\n",
              "<style scoped>\n",
              "    .dataframe tbody tr th:only-of-type {\n",
              "        vertical-align: middle;\n",
              "    }\n",
              "\n",
              "    .dataframe tbody tr th {\n",
              "        vertical-align: top;\n",
              "    }\n",
              "\n",
              "    .dataframe thead th {\n",
              "        text-align: right;\n",
              "    }\n",
              "</style>\n",
              "<table border=\"1\" class=\"dataframe\">\n",
              "  <thead>\n",
              "    <tr style=\"text-align: right;\">\n",
              "      <th></th>\n",
              "      <th>LOAN</th>\n",
              "      <th>MORTDUE</th>\n",
              "      <th>VALUE</th>\n",
              "      <th>YOJ</th>\n",
              "      <th>DEROG</th>\n",
              "      <th>DELINQ</th>\n",
              "      <th>CLAGE</th>\n",
              "      <th>NINQ</th>\n",
              "      <th>CLNO</th>\n",
              "      <th>DEBTINC</th>\n",
              "    </tr>\n",
              "  </thead>\n",
              "  <tbody>\n",
              "    <tr>\n",
              "      <th>724</th>\n",
              "      <td>4200</td>\n",
              "      <td>50216.0</td>\n",
              "      <td>58541.0</td>\n",
              "      <td>19.0</td>\n",
              "      <td>0.0</td>\n",
              "      <td>0.0</td>\n",
              "      <td>209.871302</td>\n",
              "      <td>0.0</td>\n",
              "      <td>19.0</td>\n",
              "      <td>20.208033</td>\n",
              "    </tr>\n",
              "    <tr>\n",
              "      <th>652</th>\n",
              "      <td>19300</td>\n",
              "      <td>50554.0</td>\n",
              "      <td>76140.0</td>\n",
              "      <td>9.0</td>\n",
              "      <td>2.0</td>\n",
              "      <td>0.0</td>\n",
              "      <td>78.276625</td>\n",
              "      <td>3.0</td>\n",
              "      <td>27.0</td>\n",
              "      <td>36.026904</td>\n",
              "    </tr>\n",
              "    <tr>\n",
              "      <th>825</th>\n",
              "      <td>13000</td>\n",
              "      <td>78766.0</td>\n",
              "      <td>106450.0</td>\n",
              "      <td>6.0</td>\n",
              "      <td>0.0</td>\n",
              "      <td>0.0</td>\n",
              "      <td>107.951312</td>\n",
              "      <td>0.0</td>\n",
              "      <td>26.0</td>\n",
              "      <td>24.870994</td>\n",
              "    </tr>\n",
              "    <tr>\n",
              "      <th>1636</th>\n",
              "      <td>11800</td>\n",
              "      <td>67678.0</td>\n",
              "      <td>108092.0</td>\n",
              "      <td>13.0</td>\n",
              "      <td>0.0</td>\n",
              "      <td>7.0</td>\n",
              "      <td>126.658232</td>\n",
              "      <td>0.0</td>\n",
              "      <td>36.0</td>\n",
              "      <td>37.162690</td>\n",
              "    </tr>\n",
              "    <tr>\n",
              "      <th>18</th>\n",
              "      <td>87500</td>\n",
              "      <td>55938.0</td>\n",
              "      <td>86794.0</td>\n",
              "      <td>15.0</td>\n",
              "      <td>0.0</td>\n",
              "      <td>0.0</td>\n",
              "      <td>223.881040</td>\n",
              "      <td>0.0</td>\n",
              "      <td>16.0</td>\n",
              "      <td>36.753653</td>\n",
              "    </tr>\n",
              "    <tr>\n",
              "      <th>...</th>\n",
              "      <td>...</td>\n",
              "      <td>...</td>\n",
              "      <td>...</td>\n",
              "      <td>...</td>\n",
              "      <td>...</td>\n",
              "      <td>...</td>\n",
              "      <td>...</td>\n",
              "      <td>...</td>\n",
              "      <td>...</td>\n",
              "      <td>...</td>\n",
              "    </tr>\n",
              "    <tr>\n",
              "      <th>485</th>\n",
              "      <td>79100</td>\n",
              "      <td>23553.0</td>\n",
              "      <td>103807.0</td>\n",
              "      <td>25.0</td>\n",
              "      <td>0.0</td>\n",
              "      <td>1.0</td>\n",
              "      <td>142.193458</td>\n",
              "      <td>0.0</td>\n",
              "      <td>13.0</td>\n",
              "      <td>31.469937</td>\n",
              "    </tr>\n",
              "    <tr>\n",
              "      <th>1702</th>\n",
              "      <td>16300</td>\n",
              "      <td>79087.0</td>\n",
              "      <td>102921.0</td>\n",
              "      <td>23.0</td>\n",
              "      <td>0.0</td>\n",
              "      <td>0.0</td>\n",
              "      <td>256.253084</td>\n",
              "      <td>0.0</td>\n",
              "      <td>45.0</td>\n",
              "      <td>36.987086</td>\n",
              "    </tr>\n",
              "    <tr>\n",
              "      <th>511</th>\n",
              "      <td>26900</td>\n",
              "      <td>72848.0</td>\n",
              "      <td>101736.0</td>\n",
              "      <td>10.0</td>\n",
              "      <td>0.0</td>\n",
              "      <td>0.0</td>\n",
              "      <td>131.409634</td>\n",
              "      <td>0.0</td>\n",
              "      <td>21.0</td>\n",
              "      <td>36.369027</td>\n",
              "    </tr>\n",
              "    <tr>\n",
              "      <th>1406</th>\n",
              "      <td>13000</td>\n",
              "      <td>80587.0</td>\n",
              "      <td>110064.0</td>\n",
              "      <td>6.0</td>\n",
              "      <td>0.0</td>\n",
              "      <td>0.0</td>\n",
              "      <td>85.009197</td>\n",
              "      <td>1.0</td>\n",
              "      <td>13.0</td>\n",
              "      <td>33.990040</td>\n",
              "    </tr>\n",
              "    <tr>\n",
              "      <th>1670</th>\n",
              "      <td>14100</td>\n",
              "      <td>52302.0</td>\n",
              "      <td>63589.0</td>\n",
              "      <td>6.0</td>\n",
              "      <td>0.0</td>\n",
              "      <td>0.0</td>\n",
              "      <td>130.342467</td>\n",
              "      <td>4.0</td>\n",
              "      <td>8.0</td>\n",
              "      <td>34.792832</td>\n",
              "    </tr>\n",
              "  </tbody>\n",
              "</table>\n",
              "<p>371 rows × 10 columns</p>\n",
              "</div>\n",
              "      <button class=\"colab-df-convert\" onclick=\"convertToInteractive('df-88d20153-7276-4820-9a39-7fd462295fb3')\"\n",
              "              title=\"Convert this dataframe to an interactive table.\"\n",
              "              style=\"display:none;\">\n",
              "        \n",
              "  <svg xmlns=\"http://www.w3.org/2000/svg\" height=\"24px\"viewBox=\"0 0 24 24\"\n",
              "       width=\"24px\">\n",
              "    <path d=\"M0 0h24v24H0V0z\" fill=\"none\"/>\n",
              "    <path d=\"M18.56 5.44l.94 2.06.94-2.06 2.06-.94-2.06-.94-.94-2.06-.94 2.06-2.06.94zm-11 1L8.5 8.5l.94-2.06 2.06-.94-2.06-.94L8.5 2.5l-.94 2.06-2.06.94zm10 10l.94 2.06.94-2.06 2.06-.94-2.06-.94-.94-2.06-.94 2.06-2.06.94z\"/><path d=\"M17.41 7.96l-1.37-1.37c-.4-.4-.92-.59-1.43-.59-.52 0-1.04.2-1.43.59L10.3 9.45l-7.72 7.72c-.78.78-.78 2.05 0 2.83L4 21.41c.39.39.9.59 1.41.59.51 0 1.02-.2 1.41-.59l7.78-7.78 2.81-2.81c.8-.78.8-2.07 0-2.86zM5.41 20L4 18.59l7.72-7.72 1.47 1.35L5.41 20z\"/>\n",
              "  </svg>\n",
              "      </button>\n",
              "      \n",
              "  <style>\n",
              "    .colab-df-container {\n",
              "      display:flex;\n",
              "      flex-wrap:wrap;\n",
              "      gap: 12px;\n",
              "    }\n",
              "\n",
              "    .colab-df-convert {\n",
              "      background-color: #E8F0FE;\n",
              "      border: none;\n",
              "      border-radius: 50%;\n",
              "      cursor: pointer;\n",
              "      display: none;\n",
              "      fill: #1967D2;\n",
              "      height: 32px;\n",
              "      padding: 0 0 0 0;\n",
              "      width: 32px;\n",
              "    }\n",
              "\n",
              "    .colab-df-convert:hover {\n",
              "      background-color: #E2EBFA;\n",
              "      box-shadow: 0px 1px 2px rgba(60, 64, 67, 0.3), 0px 1px 3px 1px rgba(60, 64, 67, 0.15);\n",
              "      fill: #174EA6;\n",
              "    }\n",
              "\n",
              "    [theme=dark] .colab-df-convert {\n",
              "      background-color: #3B4455;\n",
              "      fill: #D2E3FC;\n",
              "    }\n",
              "\n",
              "    [theme=dark] .colab-df-convert:hover {\n",
              "      background-color: #434B5C;\n",
              "      box-shadow: 0px 1px 3px 1px rgba(0, 0, 0, 0.15);\n",
              "      filter: drop-shadow(0px 1px 2px rgba(0, 0, 0, 0.3));\n",
              "      fill: #FFFFFF;\n",
              "    }\n",
              "  </style>\n",
              "\n",
              "      <script>\n",
              "        const buttonEl =\n",
              "          document.querySelector('#df-88d20153-7276-4820-9a39-7fd462295fb3 button.colab-df-convert');\n",
              "        buttonEl.style.display =\n",
              "          google.colab.kernel.accessAllowed ? 'block' : 'none';\n",
              "\n",
              "        async function convertToInteractive(key) {\n",
              "          const element = document.querySelector('#df-88d20153-7276-4820-9a39-7fd462295fb3');\n",
              "          const dataTable =\n",
              "            await google.colab.kernel.invokeFunction('convertToInteractive',\n",
              "                                                     [key], {});\n",
              "          if (!dataTable) return;\n",
              "\n",
              "          const docLinkHtml = 'Like what you see? Visit the ' +\n",
              "            '<a target=\"_blank\" href=https://colab.research.google.com/notebooks/data_table.ipynb>data table notebook</a>'\n",
              "            + ' to learn more about interactive tables.';\n",
              "          element.innerHTML = '';\n",
              "          dataTable['output_type'] = 'display_data';\n",
              "          await google.colab.output.renderOutput(dataTable, element);\n",
              "          const docLink = document.createElement('div');\n",
              "          docLink.innerHTML = docLinkHtml;\n",
              "          element.appendChild(docLink);\n",
              "        }\n",
              "      </script>\n",
              "    </div>\n",
              "  </div>\n",
              "  "
            ]
          },
          "metadata": {},
          "execution_count": 9
        }
      ]
    },
    {
      "cell_type": "markdown",
      "metadata": {
        "id": "fcaW3F3pXDhq"
      },
      "source": [
        "\n",
        "Documentación:\n",
        "\n",
        "- https://scikit-learn.org/stable/modules/generated/sklearn.model_selection.train_test_split.html"
      ]
    },
    {
      "cell_type": "markdown",
      "metadata": {
        "id": "tAsALhvhXDhq"
      },
      "source": [
        "## Ejercicio 1: Descripción de los Datos y la Tarea\n",
        "\n",
        "Responder las siguientes preguntas:\n",
        "\n",
        "1. ¿De qué se trata el conjunto de datos? \\\n",
        "El conjunto de datos corresponde a datos recopilados de solicitantes recientes a los que se les otorgó crédito a través del proceso actual de suscripción de préstamos.\n",
        "2. ¿Cuál es la variable objetivo que hay que predecir? ¿Qué significado tiene? \\\n",
        "La variable objetivo que hay que predecir es \"Target\", esta es una variable binaria que indica si un solicitante incumplió con los pagos o se encuentra moroso. Esta variable puede tomar dos valores: 0 y 1. El valor 0 significa que el solicitante canceló el préstamo y 1 que el solicitante entró en mora.\n",
        "3. ¿Qué información (atributos) hay disponible para hacer la predicción?\n",
        "4. ¿Qué atributos imagina ud. que son los más determinantes para la predicción?\n"
      ]
    },
    {
      "cell_type": "markdown",
      "metadata": {
        "id": "s_AYFz77XDhr"
      },
      "source": [
        "## Ejercicio 2: Predicción con Modelos Lineales\n",
        "\n",
        "En este ejercicio se entrenarán modelos lineales de clasificación para predecir la variable objetivo.\n",
        "\n",
        "Para ello, deberán utilizar la clase SGDClassifier de scikit-learn.\n",
        "\n",
        "Documentación:\n",
        "- https://scikit-learn.org/stable/modules/sgd.html\n",
        "- https://scikit-learn.org/stable/modules/generated/sklearn.linear_model.SGDClassifier.html\n"
      ]
    },
    {
      "cell_type": "markdown",
      "metadata": {
        "id": "CLGIf5-2XDhs"
      },
      "source": [
        "### Ejercicio 2.1: SGDClassifier con hiperparámetros por defecto\n",
        "\n",
        "Entrenar y evaluar el clasificador SGDClassifier usando los valores por omisión de scikit-learn para todos los parámetros. Únicamente **fijar la semilla aleatoria** para hacer repetible el experimento.\n",
        "\n",
        "Evaluar sobre el conjunto de **entrenamiento** y sobre el conjunto de **evaluación**, reportando:\n",
        "- Accuracy\n",
        "- Precision\n",
        "- Recall\n",
        "- F1\n",
        "- matriz de confusión"
      ]
    },
    {
      "cell_type": "markdown",
      "source": [
        "Normalizamos los datos del conjunto de entrenamiento restando la media y dividiendo en la desviación estándar\n"
      ],
      "metadata": {
        "id": "fnxLl5J7bEvZ"
      }
    },
    {
      "cell_type": "markdown",
      "source": [
        "**CONSULTAR SOBRE COMO NORMALIZAMOS EL CONJUNTO DE VALIDACIÓN**"
      ],
      "metadata": {
        "id": "SguvGkS65nRq"
      }
    },
    {
      "cell_type": "code",
      "source": [
        "X_train"
      ],
      "metadata": {
        "colab": {
          "base_uri": "https://localhost:8080/",
          "height": 402
        },
        "id": "kUF75mkQTORf",
        "outputId": "eaceaf4a-d4f9-43e5-d02b-7030f3229a22"
      },
      "execution_count": null,
      "outputs": [
        {
          "output_type": "execute_result",
          "data": {
            "text/plain": [
              "       LOAN   MORTDUE     VALUE   YOJ  DEROG  DELINQ       CLAGE  NINQ  CLNO  \\\n",
              "1240   9400   92340.0  125451.0   7.0    0.0     0.0  129.113725   1.0  22.0   \n",
              "1183  14800   43983.0   60826.0   4.0    1.0     1.0  113.897967   1.0   9.0   \n",
              "692   20100   59726.0   79982.0   8.0    1.0     0.0   74.210759   2.0  28.0   \n",
              "871   25200   73168.0   93608.0   9.0    0.0     0.0  151.121480   0.0  21.0   \n",
              "1353  17000   70039.0  100993.0   7.0    0.0     0.0  261.911317   1.0  11.0   \n",
              "...     ...       ...       ...   ...    ...     ...         ...   ...   ...   \n",
              "835   15900   48563.0   64679.0   4.0    0.0     0.0  156.101381   2.0  12.0   \n",
              "1216  27500  150666.0  192346.0   3.0    0.0     0.0  177.871473   0.0  17.0   \n",
              "1653  12800   54151.0   83828.0  13.0    0.0     0.0  132.160270   0.0  16.0   \n",
              "559   21300   63263.0   94180.0   1.0    0.0     0.0  138.348455   1.0  22.0   \n",
              "684    7800   69662.0   80498.0   4.0    0.0     0.0  100.428331   0.0  14.0   \n",
              "\n",
              "        DEBTINC  \n",
              "1240  36.349975  \n",
              "1183  27.108082  \n",
              "692   36.846922  \n",
              "871   35.590327  \n",
              "1353  36.564330  \n",
              "...         ...  \n",
              "835   27.808547  \n",
              "1216  39.978650  \n",
              "1653  23.477426  \n",
              "559   35.549295  \n",
              "684   42.807342  \n",
              "\n",
              "[1483 rows x 10 columns]"
            ],
            "text/html": [
              "\n",
              "  <div id=\"df-4d4fee0e-d055-44b2-95d1-b16d505d591f\">\n",
              "    <div class=\"colab-df-container\">\n",
              "      <div>\n",
              "<style scoped>\n",
              "    .dataframe tbody tr th:only-of-type {\n",
              "        vertical-align: middle;\n",
              "    }\n",
              "\n",
              "    .dataframe tbody tr th {\n",
              "        vertical-align: top;\n",
              "    }\n",
              "\n",
              "    .dataframe thead th {\n",
              "        text-align: right;\n",
              "    }\n",
              "</style>\n",
              "<table border=\"1\" class=\"dataframe\">\n",
              "  <thead>\n",
              "    <tr style=\"text-align: right;\">\n",
              "      <th></th>\n",
              "      <th>LOAN</th>\n",
              "      <th>MORTDUE</th>\n",
              "      <th>VALUE</th>\n",
              "      <th>YOJ</th>\n",
              "      <th>DEROG</th>\n",
              "      <th>DELINQ</th>\n",
              "      <th>CLAGE</th>\n",
              "      <th>NINQ</th>\n",
              "      <th>CLNO</th>\n",
              "      <th>DEBTINC</th>\n",
              "    </tr>\n",
              "  </thead>\n",
              "  <tbody>\n",
              "    <tr>\n",
              "      <th>1240</th>\n",
              "      <td>9400</td>\n",
              "      <td>92340.0</td>\n",
              "      <td>125451.0</td>\n",
              "      <td>7.0</td>\n",
              "      <td>0.0</td>\n",
              "      <td>0.0</td>\n",
              "      <td>129.113725</td>\n",
              "      <td>1.0</td>\n",
              "      <td>22.0</td>\n",
              "      <td>36.349975</td>\n",
              "    </tr>\n",
              "    <tr>\n",
              "      <th>1183</th>\n",
              "      <td>14800</td>\n",
              "      <td>43983.0</td>\n",
              "      <td>60826.0</td>\n",
              "      <td>4.0</td>\n",
              "      <td>1.0</td>\n",
              "      <td>1.0</td>\n",
              "      <td>113.897967</td>\n",
              "      <td>1.0</td>\n",
              "      <td>9.0</td>\n",
              "      <td>27.108082</td>\n",
              "    </tr>\n",
              "    <tr>\n",
              "      <th>692</th>\n",
              "      <td>20100</td>\n",
              "      <td>59726.0</td>\n",
              "      <td>79982.0</td>\n",
              "      <td>8.0</td>\n",
              "      <td>1.0</td>\n",
              "      <td>0.0</td>\n",
              "      <td>74.210759</td>\n",
              "      <td>2.0</td>\n",
              "      <td>28.0</td>\n",
              "      <td>36.846922</td>\n",
              "    </tr>\n",
              "    <tr>\n",
              "      <th>871</th>\n",
              "      <td>25200</td>\n",
              "      <td>73168.0</td>\n",
              "      <td>93608.0</td>\n",
              "      <td>9.0</td>\n",
              "      <td>0.0</td>\n",
              "      <td>0.0</td>\n",
              "      <td>151.121480</td>\n",
              "      <td>0.0</td>\n",
              "      <td>21.0</td>\n",
              "      <td>35.590327</td>\n",
              "    </tr>\n",
              "    <tr>\n",
              "      <th>1353</th>\n",
              "      <td>17000</td>\n",
              "      <td>70039.0</td>\n",
              "      <td>100993.0</td>\n",
              "      <td>7.0</td>\n",
              "      <td>0.0</td>\n",
              "      <td>0.0</td>\n",
              "      <td>261.911317</td>\n",
              "      <td>1.0</td>\n",
              "      <td>11.0</td>\n",
              "      <td>36.564330</td>\n",
              "    </tr>\n",
              "    <tr>\n",
              "      <th>...</th>\n",
              "      <td>...</td>\n",
              "      <td>...</td>\n",
              "      <td>...</td>\n",
              "      <td>...</td>\n",
              "      <td>...</td>\n",
              "      <td>...</td>\n",
              "      <td>...</td>\n",
              "      <td>...</td>\n",
              "      <td>...</td>\n",
              "      <td>...</td>\n",
              "    </tr>\n",
              "    <tr>\n",
              "      <th>835</th>\n",
              "      <td>15900</td>\n",
              "      <td>48563.0</td>\n",
              "      <td>64679.0</td>\n",
              "      <td>4.0</td>\n",
              "      <td>0.0</td>\n",
              "      <td>0.0</td>\n",
              "      <td>156.101381</td>\n",
              "      <td>2.0</td>\n",
              "      <td>12.0</td>\n",
              "      <td>27.808547</td>\n",
              "    </tr>\n",
              "    <tr>\n",
              "      <th>1216</th>\n",
              "      <td>27500</td>\n",
              "      <td>150666.0</td>\n",
              "      <td>192346.0</td>\n",
              "      <td>3.0</td>\n",
              "      <td>0.0</td>\n",
              "      <td>0.0</td>\n",
              "      <td>177.871473</td>\n",
              "      <td>0.0</td>\n",
              "      <td>17.0</td>\n",
              "      <td>39.978650</td>\n",
              "    </tr>\n",
              "    <tr>\n",
              "      <th>1653</th>\n",
              "      <td>12800</td>\n",
              "      <td>54151.0</td>\n",
              "      <td>83828.0</td>\n",
              "      <td>13.0</td>\n",
              "      <td>0.0</td>\n",
              "      <td>0.0</td>\n",
              "      <td>132.160270</td>\n",
              "      <td>0.0</td>\n",
              "      <td>16.0</td>\n",
              "      <td>23.477426</td>\n",
              "    </tr>\n",
              "    <tr>\n",
              "      <th>559</th>\n",
              "      <td>21300</td>\n",
              "      <td>63263.0</td>\n",
              "      <td>94180.0</td>\n",
              "      <td>1.0</td>\n",
              "      <td>0.0</td>\n",
              "      <td>0.0</td>\n",
              "      <td>138.348455</td>\n",
              "      <td>1.0</td>\n",
              "      <td>22.0</td>\n",
              "      <td>35.549295</td>\n",
              "    </tr>\n",
              "    <tr>\n",
              "      <th>684</th>\n",
              "      <td>7800</td>\n",
              "      <td>69662.0</td>\n",
              "      <td>80498.0</td>\n",
              "      <td>4.0</td>\n",
              "      <td>0.0</td>\n",
              "      <td>0.0</td>\n",
              "      <td>100.428331</td>\n",
              "      <td>0.0</td>\n",
              "      <td>14.0</td>\n",
              "      <td>42.807342</td>\n",
              "    </tr>\n",
              "  </tbody>\n",
              "</table>\n",
              "<p>1483 rows × 10 columns</p>\n",
              "</div>\n",
              "      <button class=\"colab-df-convert\" onclick=\"convertToInteractive('df-4d4fee0e-d055-44b2-95d1-b16d505d591f')\"\n",
              "              title=\"Convert this dataframe to an interactive table.\"\n",
              "              style=\"display:none;\">\n",
              "        \n",
              "  <svg xmlns=\"http://www.w3.org/2000/svg\" height=\"24px\"viewBox=\"0 0 24 24\"\n",
              "       width=\"24px\">\n",
              "    <path d=\"M0 0h24v24H0V0z\" fill=\"none\"/>\n",
              "    <path d=\"M18.56 5.44l.94 2.06.94-2.06 2.06-.94-2.06-.94-.94-2.06-.94 2.06-2.06.94zm-11 1L8.5 8.5l.94-2.06 2.06-.94-2.06-.94L8.5 2.5l-.94 2.06-2.06.94zm10 10l.94 2.06.94-2.06 2.06-.94-2.06-.94-.94-2.06-.94 2.06-2.06.94z\"/><path d=\"M17.41 7.96l-1.37-1.37c-.4-.4-.92-.59-1.43-.59-.52 0-1.04.2-1.43.59L10.3 9.45l-7.72 7.72c-.78.78-.78 2.05 0 2.83L4 21.41c.39.39.9.59 1.41.59.51 0 1.02-.2 1.41-.59l7.78-7.78 2.81-2.81c.8-.78.8-2.07 0-2.86zM5.41 20L4 18.59l7.72-7.72 1.47 1.35L5.41 20z\"/>\n",
              "  </svg>\n",
              "      </button>\n",
              "      \n",
              "  <style>\n",
              "    .colab-df-container {\n",
              "      display:flex;\n",
              "      flex-wrap:wrap;\n",
              "      gap: 12px;\n",
              "    }\n",
              "\n",
              "    .colab-df-convert {\n",
              "      background-color: #E8F0FE;\n",
              "      border: none;\n",
              "      border-radius: 50%;\n",
              "      cursor: pointer;\n",
              "      display: none;\n",
              "      fill: #1967D2;\n",
              "      height: 32px;\n",
              "      padding: 0 0 0 0;\n",
              "      width: 32px;\n",
              "    }\n",
              "\n",
              "    .colab-df-convert:hover {\n",
              "      background-color: #E2EBFA;\n",
              "      box-shadow: 0px 1px 2px rgba(60, 64, 67, 0.3), 0px 1px 3px 1px rgba(60, 64, 67, 0.15);\n",
              "      fill: #174EA6;\n",
              "    }\n",
              "\n",
              "    [theme=dark] .colab-df-convert {\n",
              "      background-color: #3B4455;\n",
              "      fill: #D2E3FC;\n",
              "    }\n",
              "\n",
              "    [theme=dark] .colab-df-convert:hover {\n",
              "      background-color: #434B5C;\n",
              "      box-shadow: 0px 1px 3px 1px rgba(0, 0, 0, 0.15);\n",
              "      filter: drop-shadow(0px 1px 2px rgba(0, 0, 0, 0.3));\n",
              "      fill: #FFFFFF;\n",
              "    }\n",
              "  </style>\n",
              "\n",
              "      <script>\n",
              "        const buttonEl =\n",
              "          document.querySelector('#df-4d4fee0e-d055-44b2-95d1-b16d505d591f button.colab-df-convert');\n",
              "        buttonEl.style.display =\n",
              "          google.colab.kernel.accessAllowed ? 'block' : 'none';\n",
              "\n",
              "        async function convertToInteractive(key) {\n",
              "          const element = document.querySelector('#df-4d4fee0e-d055-44b2-95d1-b16d505d591f');\n",
              "          const dataTable =\n",
              "            await google.colab.kernel.invokeFunction('convertToInteractive',\n",
              "                                                     [key], {});\n",
              "          if (!dataTable) return;\n",
              "\n",
              "          const docLinkHtml = 'Like what you see? Visit the ' +\n",
              "            '<a target=\"_blank\" href=https://colab.research.google.com/notebooks/data_table.ipynb>data table notebook</a>'\n",
              "            + ' to learn more about interactive tables.';\n",
              "          element.innerHTML = '';\n",
              "          dataTable['output_type'] = 'display_data';\n",
              "          await google.colab.output.renderOutput(dataTable, element);\n",
              "          const docLink = document.createElement('div');\n",
              "          docLink.innerHTML = docLinkHtml;\n",
              "          element.appendChild(docLink);\n",
              "        }\n",
              "      </script>\n",
              "    </div>\n",
              "  </div>\n",
              "  "
            ]
          },
          "metadata": {},
          "execution_count": 10
        }
      ]
    },
    {
      "cell_type": "markdown",
      "source": [
        "Escalamos el conjunto de datos para asegurarnos de trabajar con las mismas unidades"
      ],
      "metadata": {
        "id": "ns0F48ddqCTq"
      }
    },
    {
      "cell_type": "code",
      "source": [
        "scaler = StandardScaler()\n",
        "scaler.fit(X_train)  # Conjunto de entrenamiento\n",
        "X_train_slcd = scaler.transform(X_train)\n",
        "X_test_slcd = scaler.transform(X_test)  # Conjunto de evaluación"
      ],
      "metadata": {
        "id": "6RVec7LR-JWl"
      },
      "execution_count": 160,
      "outputs": []
    },
    {
      "cell_type": "code",
      "source": [
        "import itertools\n",
        "import matplotlib.pyplot as plt\n",
        "from sklearn.utils.multiclass import unique_labels\n",
        "\n",
        "def plot_confusion_matrix(y_verd, y_pred, classes,\n",
        "                          normalize=False,\n",
        "                          title=None,\n",
        "                          cmap=plt.cm.Blues,\n",
        "                          ax=None):\n",
        "    \"\"\"\n",
        "    This function prints and plots the confusion matrix.\n",
        "    Normalization can be applied by setting `normalize=True`.\n",
        "    \"\"\"\n",
        "    cm = confusion_matrix(y_verd, y_pred)\n",
        "    classes = classes[unique_labels(y_verd, y_pred)]\n",
        "    if normalize:\n",
        "        cm = cm.astype('float') / cm.sum(axis=1)[:, np.newaxis]\n",
        "    \n",
        "    if ax == None:\n",
        "        fig, ax = plt.subplots()    \n",
        "\n",
        "\n",
        "    am = ax.imshow(cm, interpolation='nearest', cmap=cmap)\n",
        "    ax.figure.colorbar(am, ax=ax)\n",
        "    ax.set(xticks=np.arange(cm.shape[1]),\n",
        "           yticks=np.arange(cm.shape[0]),\n",
        "           xticklabels=classes, yticklabels=classes,\n",
        "           ylabel='Etiqueta correcta',\n",
        "           xlabel='Etiqueta predicha',\n",
        "           title=title,)\n",
        "\n",
        "    \n",
        "\n",
        "    fmt = '.2f' if normalize else 'd'\n",
        "    thresh = cm.max() / 2.\n",
        "    for i, j in itertools.product(range(cm.shape[0]), range(cm.shape[1])):\n",
        "        ax.text(j, i, format(cm[i, j], fmt),\n",
        "                 horizontalalignment=\"center\",\n",
        "                 color=\"white\" if cm[i, j] > thresh else \"black\")\n",
        "    \n",
        "    plt.setp(ax.get_xticklabels(), rotation=45, ha=\"right\",\n",
        "             rotation_mode=\"anchor\")\n",
        "    return ax"
      ],
      "metadata": {
        "id": "ZPtfrkExWquO"
      },
      "execution_count": 68,
      "outputs": []
    },
    {
      "cell_type": "code",
      "source": [
        "from sklearn.linear_model import SGDClassifier\n",
        "model = SGDClassifier(random_state=1)\n",
        "model.fit(X_train, y_train)\n",
        "y_train_pred = model.predict(X_train)\n",
        "y_test_pred = model.predict(X_test)"
      ],
      "metadata": {
        "id": "IrZkYWMgW0fw"
      },
      "execution_count": 69,
      "outputs": []
    },
    {
      "cell_type": "code",
      "source": [
        "train_acc = accuracy_score(y_train, y_train_pred)\n",
        "test_acc = accuracy_score(y_test, y_test_pred)\n",
        "print(f'Train accuracy: {train_acc:0.3}')\n",
        "print(f'Test accuracy: {test_acc:0.3}')"
      ],
      "metadata": {
        "colab": {
          "base_uri": "https://localhost:8080/"
        },
        "id": "KDuIK3GOguca",
        "outputId": "9945e1af-657d-4a26-bd3f-02b8b4c32b43"
      },
      "execution_count": 70,
      "outputs": [
        {
          "output_type": "stream",
          "name": "stdout",
          "text": [
            "Train accuracy: 0.804\n",
            "Test accuracy: 0.814\n"
          ]
        }
      ]
    },
    {
      "cell_type": "code",
      "source": [
        "print(classification_report(y_train, y_train_pred))"
      ],
      "metadata": {
        "colab": {
          "base_uri": "https://localhost:8080/"
        },
        "id": "zYWhJEy1g8ra",
        "outputId": "7e29c877-080e-4f2a-efb9-56e48987ed96"
      },
      "execution_count": 71,
      "outputs": [
        {
          "output_type": "stream",
          "name": "stdout",
          "text": [
            "              precision    recall  f1-score   support\n",
            "\n",
            "           0       0.83      0.96      0.89      1232\n",
            "           1       0.14      0.03      0.05       251\n",
            "\n",
            "    accuracy                           0.80      1483\n",
            "   macro avg       0.49      0.50      0.47      1483\n",
            "weighted avg       0.71      0.80      0.75      1483\n",
            "\n"
          ]
        }
      ]
    },
    {
      "cell_type": "code",
      "source": [
        "print(classification_report(y_test, y_test_pred))"
      ],
      "metadata": {
        "colab": {
          "base_uri": "https://localhost:8080/"
        },
        "id": "xsro3nGoj7pl",
        "outputId": "96be95e2-70fb-408c-fee6-12cfe0b4d8a1"
      },
      "execution_count": 72,
      "outputs": [
        {
          "output_type": "stream",
          "name": "stdout",
          "text": [
            "              precision    recall  f1-score   support\n",
            "\n",
            "           0       0.84      0.96      0.90       313\n",
            "           1       0.00      0.00      0.00        58\n",
            "\n",
            "    accuracy                           0.81       371\n",
            "   macro avg       0.42      0.48      0.45       371\n",
            "weighted avg       0.71      0.81      0.76       371\n",
            "\n"
          ]
        }
      ]
    },
    {
      "cell_type": "code",
      "source": [
        "plot_confusion_matrix(y_train, y_train_pred,\n",
        "                      classes=dataset.TARGET.unique(), title=\"Conjunto de Entrenamiento\")\n",
        "print(\"     \")\n",
        "plot_confusion_matrix(y_test, y_test_pred,\n",
        "                      classes=dataset.TARGET.unique(), title=\"Conjunto de Evaluación\");\n",
        "#plt.tight_layout(h_pad=5, w_pad=5)"
      ],
      "metadata": {
        "colab": {
          "base_uri": "https://localhost:8080/",
          "height": 594
        },
        "id": "JmhE6V2UQs9s",
        "outputId": "7579182d-78e3-41a9-aa01-4dbf0a9504ff"
      },
      "execution_count": 106,
      "outputs": [
        {
          "output_type": "stream",
          "name": "stdout",
          "text": [
            "     \n"
          ]
        },
        {
          "output_type": "display_data",
          "data": {
            "text/plain": [
              "<Figure size 432x288 with 2 Axes>"
            ],
            "image/png": "[encoded data removed]"
          },
          "metadata": {
            "needs_background": "light"
          }
        },
        {
          "output_type": "display_data",
          "data": {
            "text/plain": [
              "<Figure size 432x288 with 2 Axes>"
            ],
            "image/png": "[encoded data removed]"
          },
          "metadata": {
            "needs_background": "light"
          }
        }
      ]
    },
    {
      "cell_type": "markdown",
      "source": [
        "## Conclusiones Ejercicio 2.1\n",
        "\n",
        "&nbsp;&nbsp;&nbsp;&nbsp;&nbsp;&nbsp;&nbsp;&nbsp;Para el presente trabajo, es importante detectar los solicitantes que posiblemente no pagarán sus obligaciones crediticias. Tanto el indicador Recall como Precision mostraron valores muy bajos para la predicción de futuros morosos. Sin embargo, el indicador **Recall es más relevante que el indicador Precision**, ya que Recall me indica la capacidad del modelo para predecir solicitantes que no pagarán el préstamo, sobre la totalidad de los que realmente no pagarán. Precision en cambio, me indica la capacidad del modelo de predecir solicitantes que no pagarán, sobre la totalidad de los que predije que no pagarán. En este último caso, el problema está en negarles el préstamo a quienes realmente lo pagarían.\n",
        "\n",
        "&nbsp;&nbsp;&nbsp;&nbsp;&nbsp;&nbsp;&nbsp;&nbsp;Otro indicador importante que normalmente se usa es **Accuracy**. Sin embargo, este indicador no es recomendable en casos donde el conjunto de datos tiene desbalanceados los registros entre etiquetas, como es el caso del presente dataset. Justamente aquí se da el caso que Accuracy es relativamente alto (0.8) y sin embargo el modelo es muy malo para predecir los solicitantes que no pagarán sus préstamos.\n",
        "\n",
        "&nbsp;&nbsp;&nbsp;&nbsp;&nbsp;&nbsp;&nbsp;&nbsp;Finalmente, podemos nombrar a **F1-Score** como un indicador interesante por su balance entre Precision y Recall, sin verse afectado por el desbalance en las etiquetas reales del conjunto de datos. No obstante, para el caso específico de este dataset, Recall es el indicador más efectivo para evaluar la calidad del modelo en función de los objetivos del banco.  "
      ],
      "metadata": {
        "id": "u3reuFoSTUxe"
      }
    },
    {
      "cell_type": "markdown",
      "metadata": {
        "id": "lTBJbaTDXDhs"
      },
      "source": [
        "### Ejercicio 2.2: Ajuste de Hiperparámetros\n",
        "\n",
        "Seleccionar valores para los hiperparámetros principales del SGDClassifier. Como mínimo, probar diferentes funciones de loss, tasas de entrenamiento y tasas de regularización.\n",
        "\n",
        "Para ello, usar grid-search y 5-fold cross-validation sobre el conjunto de entrenamiento para explorar muchas combinaciones posibles de valores.\n",
        "\n",
        "Reportar accuracy promedio y varianza para todas las configuraciones.\n",
        "\n",
        "Para la mejor configuración encontrada, evaluar sobre el conjunto de **entrenamiento** y sobre el conjunto de **evaluación**, reportando:\n",
        "- Accuracy\n",
        "- Precision\n",
        "- Recall\n",
        "- F1\n",
        "- matriz de confusión\n",
        "\n",
        "Documentación:\n",
        "- https://scikit-learn.org/stable/modules/grid_search.html\n",
        "- https://scikit-learn.org/stable/modules/generated/sklearn.model_selection.GridSearchCV.html"
      ]
    },
    {
      "cell_type": "markdown",
      "source": [
        "Obtenemos párametros por defecto de la clase SGDClassifier"
      ],
      "metadata": {
        "id": "A9ZahXHCe4wJ"
      }
    },
    {
      "cell_type": "code",
      "source": [
        "SGDClassifier().get_params()"
      ],
      "metadata": {
        "id": "ux2e_6-2etU3",
        "outputId": "334f13a1-60ff-47f0-b2a8-4d4c7255435e",
        "colab": {
          "base_uri": "https://localhost:8080/"
        }
      },
      "execution_count": null,
      "outputs": [
        {
          "output_type": "execute_result",
          "data": {
            "text/plain": [
              "{'alpha': 0.0001,\n",
              " 'average': False,\n",
              " 'class_weight': None,\n",
              " 'early_stopping': False,\n",
              " 'epsilon': 0.1,\n",
              " 'eta0': 0.0,\n",
              " 'fit_intercept': True,\n",
              " 'l1_ratio': 0.15,\n",
              " 'learning_rate': 'optimal',\n",
              " 'loss': 'hinge',\n",
              " 'max_iter': 1000,\n",
              " 'n_iter_no_change': 5,\n",
              " 'n_jobs': None,\n",
              " 'penalty': 'l2',\n",
              " 'power_t': 0.5,\n",
              " 'random_state': None,\n",
              " 'shuffle': True,\n",
              " 'tol': 0.001,\n",
              " 'validation_fraction': 0.1,\n",
              " 'verbose': 0,\n",
              " 'warm_start': False}"
            ]
          },
          "metadata": {},
          "execution_count": 18
        }
      ]
    },
    {
      "cell_type": "markdown",
      "source": [
        "Trabajamos con las siguientes funciones de coste:\n",
        "\n",
        "\n",
        "*   hinge = regresión lineal\n",
        "*   log = regresión logística\n",
        "*   perceptron = algoritmo perceptron\n",
        "\n",
        "\n",
        "\n"
      ],
      "metadata": {
        "id": "yBDgxNzihi49"
      }
    },
    {
      "cell_type": "code",
      "source": [
        "fig, ax1 = plt.subplots(1,3,figsize=(16, 4))\n",
        "for i, loss in enumerate(('hinge','log','perceptron')):\n",
        "    param_grid1 = {\n",
        "     'learning_rate': ['adaptive'],\n",
        "      'penalty':['l1','l2'],\n",
        "        'eta0': [1.e-05, 1.e-04, 1.e-03, 1.e-02, 1.e-01, 1.e+00, 1.e+01, 1.e+02],  \n",
        "        'alpha': [1.e-05, 1.e-04, 1.e-03, 1.e-02, 1.e-01, 1.e+00, 1.e+01, 1.e+02]\n",
        "    }\n",
        "    modelx = linear_model.SGDClassifier(random_state=22,loss=loss)\n",
        "    cvx = GridSearchCV(modelx, param_grid1, cv=5, scoring='accuracy')\n",
        "    cvx.fit(X_train, y_train)\n",
        "    \n",
        "    print(\"*********************************************************\")\n",
        "    print(\"****Hiperparámetros para función de coste\",loss,\"*********\")\n",
        "    print(\"Mejor conjunto de parámetros:\")\n",
        "    print(cvx.best_params_)\n",
        "    print(\"Best accuracy: %0.03f\" % cvx.score(X_train,y_train))\n",
        "\n",
        "    y_train_predx = cvx.predict(X_train)\n",
        "    y_test_predx = cvx.predict(X_test)\n",
        "\n",
        "    print(\"****Reporte de clasificación sobre conjunto de entrenamiento (métricas)*****\") \n",
        "    print(classification_report(y_train, y_train_predx)) \n",
        "\n",
        "    \n",
        "    plot_confusion_matrix(y_train, y_train_predx, classes=dataset.TARGET.unique(),\n",
        "                         ax=ax1[i],title=\"Matriz de confusión para %s\" % loss)\n",
        "     "
      ],
      "metadata": {
        "colab": {
          "base_uri": "https://localhost:8080/",
          "height": 1000
        },
        "id": "sMrcKkfjnvFE",
        "outputId": "b1872f7f-4bc8-4e03-e33f-2cd2e8f7c235"
      },
      "execution_count": 153,
      "outputs": [
        {
          "output_type": "stream",
          "name": "stdout",
          "text": [
            "*********************************************************\n",
            "****Hiperparámetros para función de coste hinge *********\n",
            "Mejor conjunto de parámetros:\n",
            "{'alpha': 0.1, 'eta0': 10.0, 'learning_rate': 'adaptive', 'penalty': 'l2'}\n",
            "Best accuracy: 0.792\n",
            "****Reporte de clasificación sobre conjunto de entrenamiento (métricas)*****\n",
            "              precision    recall  f1-score   support\n",
            "\n",
            "           0       0.84      0.92      0.88      1232\n",
            "           1       0.29      0.15      0.20       251\n",
            "\n",
            "    accuracy                           0.79      1483\n",
            "   macro avg       0.56      0.54      0.54      1483\n",
            "weighted avg       0.75      0.79      0.77      1483\n",
            "\n",
            "*********************************************************\n",
            "****Hiperparámetros para función de coste log *********\n",
            "Mejor conjunto de parámetros:\n",
            "{'alpha': 1.0, 'eta0': 1e-05, 'learning_rate': 'adaptive', 'penalty': 'l2'}\n",
            "Best accuracy: 0.831\n",
            "****Reporte de clasificación sobre conjunto de entrenamiento (métricas)*****\n",
            "              precision    recall  f1-score   support\n",
            "\n",
            "           0       0.83      1.00      0.91      1232\n",
            "           1       0.00      0.00      0.00       251\n",
            "\n",
            "    accuracy                           0.83      1483\n",
            "   macro avg       0.42      0.50      0.45      1483\n",
            "weighted avg       0.69      0.83      0.75      1483\n",
            "\n",
            "*********************************************************\n",
            "****Hiperparámetros para función de coste perceptron *********\n",
            "Mejor conjunto de parámetros:\n",
            "{'alpha': 0.1, 'eta0': 10.0, 'learning_rate': 'adaptive', 'penalty': 'l2'}\n",
            "Best accuracy: 0.792\n",
            "****Reporte de clasificación sobre conjunto de entrenamiento (métricas)*****\n",
            "              precision    recall  f1-score   support\n",
            "\n",
            "           0       0.84      0.92      0.88      1232\n",
            "           1       0.29      0.15      0.20       251\n",
            "\n",
            "    accuracy                           0.79      1483\n",
            "   macro avg       0.56      0.54      0.54      1483\n",
            "weighted avg       0.75      0.79      0.77      1483\n",
            "\n"
          ]
        },
        {
          "output_type": "display_data",
          "data": {
            "text/plain": [
              "<Figure size 1152x288 with 6 Axes>"
            ],
            "image/png": "[encoded data removed]"
          },
          "metadata": {
            "needs_background": "light"
          }
        }
      ]
    },
    {
      "cell_type": "markdown",
      "source": [
        "###Reportamos accuracy promedio y varianza para todas las configuraciones."
      ],
      "metadata": {
        "id": "sBoNx6mnbkhQ"
      }
    },
    {
      "cell_type": "code",
      "source": [
        "results = cvx.cv_results_\n",
        "df = pd.DataFrame(results)\n",
        "df2 = df[['param_alpha','param_eta0','param_learning_rate', 'mean_test_score', 'std_test_score', 'param_penalty', 'rank_test_score']]"
      ],
      "metadata": {
        "id": "5oDH2dDIYTQm"
      },
      "execution_count": 85,
      "outputs": []
    },
    {
      "cell_type": "code",
      "source": [
        "df2.sort_values('rank_test_score')"
      ],
      "metadata": {
        "id": "jd-0kO8PKldQ",
        "colab": {
          "base_uri": "https://localhost:8080/",
          "height": 466
        },
        "outputId": "0b3b7979-741c-4e53-c82c-9c33a7499915"
      },
      "execution_count": 87,
      "outputs": [
        {
          "output_type": "execute_result",
          "data": {
            "text/plain": [
              "    param_alpha param_eta0 param_learning_rate  mean_test_score  \\\n",
              "77          0.1       10.0            adaptive         0.832776   \n",
              "64          0.1    0.00001            adaptive         0.831422   \n",
              "98         10.0     0.0001            adaptive         0.830749   \n",
              "2       0.00001     0.0001            adaptive         0.830749   \n",
              "18       0.0001     0.0001            adaptive         0.830749   \n",
              "..          ...        ...                 ...              ...   \n",
              "126       100.0      100.0            adaptive         0.563441   \n",
              "121       100.0        0.1            adaptive         0.562062   \n",
              "89          1.0        0.1            adaptive         0.457316   \n",
              "80          1.0    0.00001            adaptive         0.438384   \n",
              "105        10.0        0.1            adaptive         0.435019   \n",
              "\n",
              "     std_test_score param_penalty  rank_test_score  \n",
              "77         0.003199            l2                1  \n",
              "64         0.002148            l1                2  \n",
              "98         0.001259            l1                3  \n",
              "2          0.001259            l1                3  \n",
              "18         0.001259            l1                3  \n",
              "..              ...           ...              ...  \n",
              "126        0.205958            l1              124  \n",
              "121        0.320202            l2              125  \n",
              "89         0.304670            l2              126  \n",
              "80         0.319643            l1              127  \n",
              "105        0.324998            l2              128  \n",
              "\n",
              "[128 rows x 7 columns]"
            ],
            "text/html": [
              "\n",
              "  <div id=\"df-8eba6f61-544c-4170-b828-19dc7f96169c\">\n",
              "    <div class=\"colab-df-container\">\n",
              "      <div>\n",
              "<style scoped>\n",
              "    .dataframe tbody tr th:only-of-type {\n",
              "        vertical-align: middle;\n",
              "    }\n",
              "\n",
              "    .dataframe tbody tr th {\n",
              "        vertical-align: top;\n",
              "    }\n",
              "\n",
              "    .dataframe thead th {\n",
              "        text-align: right;\n",
              "    }\n",
              "</style>\n",
              "<table border=\"1\" class=\"dataframe\">\n",
              "  <thead>\n",
              "    <tr style=\"text-align: right;\">\n",
              "      <th></th>\n",
              "      <th>param_alpha</th>\n",
              "      <th>param_eta0</th>\n",
              "      <th>param_learning_rate</th>\n",
              "      <th>mean_test_score</th>\n",
              "      <th>std_test_score</th>\n",
              "      <th>param_penalty</th>\n",
              "      <th>rank_test_score</th>\n",
              "    </tr>\n",
              "  </thead>\n",
              "  <tbody>\n",
              "    <tr>\n",
              "      <th>77</th>\n",
              "      <td>0.1</td>\n",
              "      <td>10.0</td>\n",
              "      <td>adaptive</td>\n",
              "      <td>0.832776</td>\n",
              "      <td>0.003199</td>\n",
              "      <td>l2</td>\n",
              "      <td>1</td>\n",
              "    </tr>\n",
              "    <tr>\n",
              "      <th>64</th>\n",
              "      <td>0.1</td>\n",
              "      <td>0.00001</td>\n",
              "      <td>adaptive</td>\n",
              "      <td>0.831422</td>\n",
              "      <td>0.002148</td>\n",
              "      <td>l1</td>\n",
              "      <td>2</td>\n",
              "    </tr>\n",
              "    <tr>\n",
              "      <th>98</th>\n",
              "      <td>10.0</td>\n",
              "      <td>0.0001</td>\n",
              "      <td>adaptive</td>\n",
              "      <td>0.830749</td>\n",
              "      <td>0.001259</td>\n",
              "      <td>l1</td>\n",
              "      <td>3</td>\n",
              "    </tr>\n",
              "    <tr>\n",
              "      <th>2</th>\n",
              "      <td>0.00001</td>\n",
              "      <td>0.0001</td>\n",
              "      <td>adaptive</td>\n",
              "      <td>0.830749</td>\n",
              "      <td>0.001259</td>\n",
              "      <td>l1</td>\n",
              "      <td>3</td>\n",
              "    </tr>\n",
              "    <tr>\n",
              "      <th>18</th>\n",
              "      <td>0.0001</td>\n",
              "      <td>0.0001</td>\n",
              "      <td>adaptive</td>\n",
              "      <td>0.830749</td>\n",
              "      <td>0.001259</td>\n",
              "      <td>l1</td>\n",
              "      <td>3</td>\n",
              "    </tr>\n",
              "    <tr>\n",
              "      <th>...</th>\n",
              "      <td>...</td>\n",
              "      <td>...</td>\n",
              "      <td>...</td>\n",
              "      <td>...</td>\n",
              "      <td>...</td>\n",
              "      <td>...</td>\n",
              "      <td>...</td>\n",
              "    </tr>\n",
              "    <tr>\n",
              "      <th>126</th>\n",
              "      <td>100.0</td>\n",
              "      <td>100.0</td>\n",
              "      <td>adaptive</td>\n",
              "      <td>0.563441</td>\n",
              "      <td>0.205958</td>\n",
              "      <td>l1</td>\n",
              "      <td>124</td>\n",
              "    </tr>\n",
              "    <tr>\n",
              "      <th>121</th>\n",
              "      <td>100.0</td>\n",
              "      <td>0.1</td>\n",
              "      <td>adaptive</td>\n",
              "      <td>0.562062</td>\n",
              "      <td>0.320202</td>\n",
              "      <td>l2</td>\n",
              "      <td>125</td>\n",
              "    </tr>\n",
              "    <tr>\n",
              "      <th>89</th>\n",
              "      <td>1.0</td>\n",
              "      <td>0.1</td>\n",
              "      <td>adaptive</td>\n",
              "      <td>0.457316</td>\n",
              "      <td>0.304670</td>\n",
              "      <td>l2</td>\n",
              "      <td>126</td>\n",
              "    </tr>\n",
              "    <tr>\n",
              "      <th>80</th>\n",
              "      <td>1.0</td>\n",
              "      <td>0.00001</td>\n",
              "      <td>adaptive</td>\n",
              "      <td>0.438384</td>\n",
              "      <td>0.319643</td>\n",
              "      <td>l1</td>\n",
              "      <td>127</td>\n",
              "    </tr>\n",
              "    <tr>\n",
              "      <th>105</th>\n",
              "      <td>10.0</td>\n",
              "      <td>0.1</td>\n",
              "      <td>adaptive</td>\n",
              "      <td>0.435019</td>\n",
              "      <td>0.324998</td>\n",
              "      <td>l2</td>\n",
              "      <td>128</td>\n",
              "    </tr>\n",
              "  </tbody>\n",
              "</table>\n",
              "<p>128 rows × 7 columns</p>\n",
              "</div>\n",
              "      <button class=\"colab-df-convert\" onclick=\"convertToInteractive('df-8eba6f61-544c-4170-b828-19dc7f96169c')\"\n",
              "              title=\"Convert this dataframe to an interactive table.\"\n",
              "              style=\"display:none;\">\n",
              "        \n",
              "  <svg xmlns=\"http://www.w3.org/2000/svg\" height=\"24px\"viewBox=\"0 0 24 24\"\n",
              "       width=\"24px\">\n",
              "    <path d=\"M0 0h24v24H0V0z\" fill=\"none\"/>\n",
              "    <path d=\"M18.56 5.44l.94 2.06.94-2.06 2.06-.94-2.06-.94-.94-2.06-.94 2.06-2.06.94zm-11 1L8.5 8.5l.94-2.06 2.06-.94-2.06-.94L8.5 2.5l-.94 2.06-2.06.94zm10 10l.94 2.06.94-2.06 2.06-.94-2.06-.94-.94-2.06-.94 2.06-2.06.94z\"/><path d=\"M17.41 7.96l-1.37-1.37c-.4-.4-.92-.59-1.43-.59-.52 0-1.04.2-1.43.59L10.3 9.45l-7.72 7.72c-.78.78-.78 2.05 0 2.83L4 21.41c.39.39.9.59 1.41.59.51 0 1.02-.2 1.41-.59l7.78-7.78 2.81-2.81c.8-.78.8-2.07 0-2.86zM5.41 20L4 18.59l7.72-7.72 1.47 1.35L5.41 20z\"/>\n",
              "  </svg>\n",
              "      </button>\n",
              "      \n",
              "  <style>\n",
              "    .colab-df-container {\n",
              "      display:flex;\n",
              "      flex-wrap:wrap;\n",
              "      gap: 12px;\n",
              "    }\n",
              "\n",
              "    .colab-df-convert {\n",
              "      background-color: #E8F0FE;\n",
              "      border: none;\n",
              "      border-radius: 50%;\n",
              "      cursor: pointer;\n",
              "      display: none;\n",
              "      fill: #1967D2;\n",
              "      height: 32px;\n",
              "      padding: 0 0 0 0;\n",
              "      width: 32px;\n",
              "    }\n",
              "\n",
              "    .colab-df-convert:hover {\n",
              "      background-color: #E2EBFA;\n",
              "      box-shadow: 0px 1px 2px rgba(60, 64, 67, 0.3), 0px 1px 3px 1px rgba(60, 64, 67, 0.15);\n",
              "      fill: #174EA6;\n",
              "    }\n",
              "\n",
              "    [theme=dark] .colab-df-convert {\n",
              "      background-color: #3B4455;\n",
              "      fill: #D2E3FC;\n",
              "    }\n",
              "\n",
              "    [theme=dark] .colab-df-convert:hover {\n",
              "      background-color: #434B5C;\n",
              "      box-shadow: 0px 1px 3px 1px rgba(0, 0, 0, 0.15);\n",
              "      filter: drop-shadow(0px 1px 2px rgba(0, 0, 0, 0.3));\n",
              "      fill: #FFFFFF;\n",
              "    }\n",
              "  </style>\n",
              "\n",
              "      <script>\n",
              "        const buttonEl =\n",
              "          document.querySelector('#df-8eba6f61-544c-4170-b828-19dc7f96169c button.colab-df-convert');\n",
              "        buttonEl.style.display =\n",
              "          google.colab.kernel.accessAllowed ? 'block' : 'none';\n",
              "\n",
              "        async function convertToInteractive(key) {\n",
              "          const element = document.querySelector('#df-8eba6f61-544c-4170-b828-19dc7f96169c');\n",
              "          const dataTable =\n",
              "            await google.colab.kernel.invokeFunction('convertToInteractive',\n",
              "                                                     [key], {});\n",
              "          if (!dataTable) return;\n",
              "\n",
              "          const docLinkHtml = 'Like what you see? Visit the ' +\n",
              "            '<a target=\"_blank\" href=https://colab.research.google.com/notebooks/data_table.ipynb>data table notebook</a>'\n",
              "            + ' to learn more about interactive tables.';\n",
              "          element.innerHTML = '';\n",
              "          dataTable['output_type'] = 'display_data';\n",
              "          await google.colab.output.renderOutput(dataTable, element);\n",
              "          const docLink = document.createElement('div');\n",
              "          docLink.innerHTML = docLinkHtml;\n",
              "          element.appendChild(docLink);\n",
              "        }\n",
              "      </script>\n",
              "    </div>\n",
              "  </div>\n",
              "  "
            ]
          },
          "metadata": {},
          "execution_count": 87
        }
      ]
    },
    {
      "cell_type": "markdown",
      "source": [
        "####Con la mejor configuración encontrada (hinge,'alpha': 0.1, 'eta0': 10.0, 'learning_rate': 'adaptive', 'penalty': 'l2'), evaluamos sobre el conjunto de entrenamiento (X_train,y_train) y sobre el conjunto de evaluación (x_test,y_test)."
      ],
      "metadata": {
        "id": "uDYwCbzybB0E"
      }
    },
    {
      "cell_type": "code",
      "source": [
        "modelb = linear_model.SGDClassifier(random_state=22, loss='hinge', alpha= 0.1, eta0=10.0, \n",
        "                                    learning_rate='adaptive', penalty='l2')\n",
        "modelb.fit(X_train, y_train)\n",
        "print(\"Best accuracy: %0.03f\" % modelb.score(X_train,y_train))\n",
        "y_train_predb = modelb.predict(X_train)\n",
        "y_test_predb = modelb.predict(X_test)\n",
        "\n",
        "\n",
        "print(\"****Reporte de clasificación sobre conjunto de entrenamiento (métricas)*****\") \n",
        "print(classification_report(y_train, y_train_predb))\n",
        "print(\"-----------------------------------------------------------------\")\n",
        "print(\"****Reporte de clasificación sobre conjunto de evaluación (métricas)*****\") \n",
        "print(classification_report(y_test, y_test_predb)) \n",
        "plot_confusion_matrix(y_train, y_train_predb, classes=dataset.TARGET.unique(),\n",
        "                         title=\"Matriz de confusión para conjunto de entrenamiento\");\n",
        " \n",
        "plot_confusion_matrix(y_test, y_test_predb, classes=dataset.TARGET.unique(),\n",
        "                         title=\"Matriz de confusión para conjunto de evaluación\");"
      ],
      "metadata": {
        "id": "qpYNsgijjpVJ",
        "outputId": "f46e6d63-89c9-42a3-8f67-93001f517885",
        "colab": {
          "base_uri": "https://localhost:8080/",
          "height": 946
        }
      },
      "execution_count": 154,
      "outputs": [
        {
          "output_type": "stream",
          "name": "stdout",
          "text": [
            "Best accuracy: 0.792\n",
            "****Reporte de clasificación sobre conjunto de entrenamiento (métricas)*****\n",
            "              precision    recall  f1-score   support\n",
            "\n",
            "           0       0.84      0.92      0.88      1232\n",
            "           1       0.29      0.15      0.20       251\n",
            "\n",
            "    accuracy                           0.79      1483\n",
            "   macro avg       0.56      0.54      0.54      1483\n",
            "weighted avg       0.75      0.79      0.77      1483\n",
            "\n",
            "-----------------------------------------------------------------\n",
            "****Reporte de clasificación sobre conjunto de evaluación (métricas)*****\n",
            "              precision    recall  f1-score   support\n",
            "\n",
            "           0       0.86      0.95      0.90       313\n",
            "           1       0.38      0.16      0.22        58\n",
            "\n",
            "    accuracy                           0.83       371\n",
            "   macro avg       0.62      0.55      0.56       371\n",
            "weighted avg       0.78      0.83      0.80       371\n",
            "\n"
          ]
        },
        {
          "output_type": "display_data",
          "data": {
            "text/plain": [
              "<Figure size 432x288 with 2 Axes>"
            ],
            "image/png": "[encoded data removed]"
          },
          "metadata": {
            "needs_background": "light"
          }
        },
        {
          "output_type": "display_data",
          "data": {
            "text/plain": [
              "<Figure size 432x288 with 2 Axes>"
            ],
            "image/png": "[encoded data removed]"
          },
          "metadata": {
            "needs_background": "light"
          }
        }
      ]
    },
    {
      "cell_type": "markdown",
      "source": [
        "###Interpretación de las métricas para el conjunto de entrenamiento\n",
        "\n",
        "*   Accuracy: Esta métrica representa el porcentaje total de valores correctamente clasificados, tanto positivos como negativos. Para nuestro modelo obtuvimos un 79% de valores correctamente clasificados. Dado que este indicador se utiliza cuando los datos están balanceados, no sería un buen indicador para nuestro conjunto de datos dado que los mismos presentan un desbalance.\n",
        "\n",
        "      Accuracy = (TP + TN) / (TP + TN + FP + FN)\n",
        "      \n",
        "*   Precision: Este indicador nos muestra que el modelo obtenido identifica el 84% de las veces a un cliente que pagaría el crédito otorgado. El 29% de las veces identificó a los clientes que podrían resultar morosos.\n",
        "*   Recall: Este indicador nos dice que el modelo identifica de forma correcta el 92% de las veces al cliente que pagaría el crédito y un 20% al cliente moroso.\n",
        "*   F1:\n",
        "\n",
        "###Interpretación de la matriz de confusión para el conjunto de entrenamiento\n",
        "\n",
        "\n",
        "*   TP (True Positive):\n",
        "*   TN (True Negative):\n",
        "*   FP (False Positive):\n",
        "*   FN (False Negative)\n",
        "\n",
        "\n",
        "\n"
      ],
      "metadata": {
        "id": "wU1egCPDG_eR"
      }
    },
    {
      "cell_type": "markdown",
      "metadata": {
        "id": "9yiAJvSKXDht"
      },
      "source": [
        "## Ejercicio 3: Árboles de Decisión\n",
        "\n",
        "En este ejercicio se entrenarán árboles de decisión para predecir la variable objetivo.\n",
        "\n",
        "Para ello, deberán utilizar la clase DecisionTreeClassifier de scikit-learn.\n",
        "\n",
        "Documentación:\n",
        "- https://scikit-learn.org/stable/modules/tree.html\n",
        "  - https://scikit-learn.org/stable/modules/tree.html#tips-on-practical-use\n",
        "- https://scikit-learn.org/stable/modules/generated/sklearn.tree.DecisionTreeClassifier.html\n",
        "- https://scikit-learn.org/stable/auto_examples/tree/plot_unveil_tree_structure.html"
      ]
    },
    {
      "cell_type": "markdown",
      "metadata": {
        "id": "bw6TZA_vXDhu"
      },
      "source": [
        "### Ejercicio 3.1: DecisionTreeClassifier con hiperparámetros por defecto\n",
        "\n",
        "Entrenar y evaluar el clasificador DecisionTreeClassifier usando los valores por omisión de scikit-learn para todos los parámetros. Únicamente **fijar la semilla aleatoria** para hacer repetible el experimento.\n",
        "\n",
        "Evaluar sobre el conjunto de **entrenamiento** y sobre el conjunto de **evaluación**, reportando:\n",
        "- Accuracy\n",
        "- Precision\n",
        "- Recall\n",
        "- F1\n",
        "- matriz de confusión\n"
      ]
    },
    {
      "cell_type": "code",
      "source": [
        "clasift = tree.DecisionTreeClassifier(random_state=22)\n",
        "clasift.fit(X_train, y_train)"
      ],
      "metadata": {
        "colab": {
          "base_uri": "https://localhost:8080/"
        },
        "id": "2MWJ3C6e0pDC",
        "outputId": "52ff2ccf-1cad-40ff-9132-48738b776d20"
      },
      "execution_count": 109,
      "outputs": [
        {
          "output_type": "execute_result",
          "data": {
            "text/plain": [
              "DecisionTreeClassifier(random_state=22)"
            ]
          },
          "metadata": {},
          "execution_count": 109
        }
      ]
    },
    {
      "cell_type": "code",
      "source": [
        "y_train_predt = clasift.predict(X_train)\n",
        "y_test_predt = clasift.predict(X_test)"
      ],
      "metadata": {
        "id": "nMi52LJy7tnP"
      },
      "execution_count": 110,
      "outputs": []
    },
    {
      "cell_type": "code",
      "source": [
        "print(\"****Reporte de clasificación sobre conjunto de entrenamiento*****\") \n",
        "print(classification_report(y_train, y_train_predt))\n",
        "plot_confusion_matrix(y_train, y_train_predt, classes=dataset.TARGET.unique(),\n",
        "                         title=\"Matriz de confusión para conjunto de entrenamiento\");"
      ],
      "metadata": {
        "colab": {
          "base_uri": "https://localhost:8080/",
          "height": 465
        },
        "id": "BlZreZo28XHm",
        "outputId": "cf17753d-c366-455b-97b4-4b25d8ffec77"
      },
      "execution_count": 112,
      "outputs": [
        {
          "output_type": "stream",
          "name": "stdout",
          "text": [
            "****Reporte de clasificación sobre conjunto de entrenamiento*****\n",
            "              precision    recall  f1-score   support\n",
            "\n",
            "           0       1.00      1.00      1.00      1232\n",
            "           1       1.00      1.00      1.00       251\n",
            "\n",
            "    accuracy                           1.00      1483\n",
            "   macro avg       1.00      1.00      1.00      1483\n",
            "weighted avg       1.00      1.00      1.00      1483\n",
            "\n"
          ]
        },
        {
          "output_type": "display_data",
          "data": {
            "text/plain": [
              "<Figure size 432x288 with 2 Axes>"
            ],
            "image/png": "[encoded data removed]"
          },
          "metadata": {
            "needs_background": "light"
          }
        }
      ]
    },
    {
      "cell_type": "code",
      "source": [
        "print(\"****Reporte de clasificación sobre conjunto de evaluación*****\") \n",
        "print(classification_report(y_test, y_test_predt))\n",
        "plot_confusion_matrix(y_test, y_test_predt, classes=dataset.TARGET.unique(),\n",
        "                         title=\"Matriz de confusión para conjunto de evaluación\");"
      ],
      "metadata": {
        "colab": {
          "base_uri": "https://localhost:8080/",
          "height": 465
        },
        "id": "RZd_7k9M9dDF",
        "outputId": "9dcd2574-3791-4bad-c570-dbb51868af7f"
      },
      "execution_count": 114,
      "outputs": [
        {
          "output_type": "stream",
          "name": "stdout",
          "text": [
            "****Reporte de clasificación sobre conjunto de evaluación*****\n",
            "              precision    recall  f1-score   support\n",
            "\n",
            "           0       0.93      0.93      0.93       313\n",
            "           1       0.61      0.62      0.62        58\n",
            "\n",
            "    accuracy                           0.88       371\n",
            "   macro avg       0.77      0.77      0.77       371\n",
            "weighted avg       0.88      0.88      0.88       371\n",
            "\n"
          ]
        },
        {
          "output_type": "display_data",
          "data": {
            "text/plain": [
              "<Figure size 432x288 with 2 Axes>"
            ],
            "image/png": "[encoded data removed]"
          },
          "metadata": {
            "needs_background": "light"
          }
        }
      ]
    },
    {
      "cell_type": "code",
      "source": [
        "plt.figure(figsize=(16,10))\n",
        "tree.plot_tree(clasift, feature_names=dataset.columns[1:],  \n",
        "                      class_names=[\"0\",\"1\"],  \n",
        "                      filled=True)\n",
        "plt.show()"
      ],
      "metadata": {
        "colab": {
          "base_uri": "https://localhost:8080/",
          "height": 575
        },
        "id": "zJISOpD7ALk8",
        "outputId": "20953d78-ce21-4263-afa0-da2906081a83"
      },
      "execution_count": 149,
      "outputs": [
        {
          "output_type": "display_data",
          "data": {
            "text/plain": [
              "<Figure size 1152x720 with 1 Axes>"
            ],
            "image/png": "[encoded data removed]"
          },
          "metadata": {
            "needs_background": "light"
          }
        }
      ]
    },
    {
      "cell_type": "markdown",
      "metadata": {
        "id": "46yN0PXIXDhu"
      },
      "source": [
        "### Ejercicio 3.2: Ajuste de Hiperparámetros\n",
        "\n",
        "Seleccionar valores para los hiperparámetros principales del DecisionTreeClassifier. Como mínimo, probar diferentes criterios de partición (criterion), profundidad máxima del árbol (max_depth), y cantidad mínima de samples por hoja (min_samples_leaf).\n",
        "\n",
        "Para ello, usar grid-search y 5-fold cross-validation sobre el conjunto de entrenamiento para explorar muchas combinaciones posibles de valores.\n",
        "\n",
        "Reportar accuracy promedio y varianza para todas las configuraciones.\n",
        "\n",
        "Para la mejor configuración encontrada, evaluar sobre el conjunto de **entrenamiento** y sobre el conjunto de **evaluación**, reportando:\n",
        "- Accuracy\n",
        "- Precision\n",
        "- Recall\n",
        "- F1\n",
        "- matriz de confusión\n",
        "\n",
        "\n",
        "Documentación:\n",
        "- https://scikit-learn.org/stable/modules/grid_search.html\n",
        "- https://scikit-learn.org/stable/modules/generated/sklearn.model_selection.GridSearchCV.html"
      ]
    },
    {
      "cell_type": "markdown",
      "source": [
        "Obtenemos párametros por defecto de la clase DecisionTreeClassifier "
      ],
      "metadata": {
        "id": "UtphBVDLY7HS"
      }
    },
    {
      "cell_type": "code",
      "source": [
        "DecisionTreeClassifier().get_params()"
      ],
      "metadata": {
        "colab": {
          "base_uri": "https://localhost:8080/"
        },
        "id": "uSuDmBI2aQMK",
        "outputId": "4d025af3-9274-49c4-d75a-058acede4421"
      },
      "execution_count": 118,
      "outputs": [
        {
          "output_type": "execute_result",
          "data": {
            "text/plain": [
              "{'ccp_alpha': 0.0,\n",
              " 'class_weight': None,\n",
              " 'criterion': 'gini',\n",
              " 'max_depth': None,\n",
              " 'max_features': None,\n",
              " 'max_leaf_nodes': None,\n",
              " 'min_impurity_decrease': 0.0,\n",
              " 'min_samples_leaf': 1,\n",
              " 'min_samples_split': 2,\n",
              " 'min_weight_fraction_leaf': 0.0,\n",
              " 'random_state': None,\n",
              " 'splitter': 'best'}"
            ]
          },
          "metadata": {},
          "execution_count": 118
        }
      ]
    },
    {
      "cell_type": "code",
      "source": [
        "fig, ax2 = plt.subplots(1,2,figsize=(13, 4))\n",
        "for n, criterion in enumerate(('gini','entropy')):\n",
        "    param_grid2 = {\n",
        "     'max_depth': [10,11,12,13,14,15],  # Profundidad máxima del árbol\n",
        "        'min_samples_leaf': [1,2],  # Cantidad mínima de samples por hoja\n",
        "    }\n",
        "    modelt = tree.DecisionTreeClassifier(random_state=22,criterion=criterion)\n",
        "    cvt = GridSearchCV(modelt, param_grid2, scoring='accuracy',cv=5)\n",
        "    cvt.fit(X_train, y_train)\n",
        "\n",
        "    print(\"******************************************************************\")\n",
        "    print(\"*********Hiperparámetros para citerio de partición\",criterion,\"*********\")\n",
        "    print(\"Mejor conjunto de parámetros:\")\n",
        "    print(cvt.best_params_)\n",
        "    print(\"Best accuracy: %0.03f\" % cvt.score(X_train,y_train))\n",
        "\n",
        "    y_train_predtt = cvt.predict(X_train)\n",
        "    print(\"****Reporte de clasificación sobre conjunto de entrenamiento (métricas)*****\") \n",
        "    print(classification_report(y_train, y_train_predtt)) \n",
        "    plot_confusion_matrix(y_train, y_train_predtt, classes=dataset.TARGET.unique(),\n",
        "                         ax=ax2[n],title=\"Matriz de confusión para %s\" % criterion)\n",
        "    \n",
        "    meant = cvt.cv_results_['mean_test_score']\n",
        "    stdt = cvt.cv_results_['std_test_score']\n",
        "    for mean, std, params in zip(meant, stdt, cvt.cv_results_['params']):\n",
        "        print(\"Ac.promedio: %0.4f y var (+/-%0.04f) para los parámetros %r\" % (mean, std ** 2, params))"
      ],
      "metadata": {
        "colab": {
          "base_uri": "https://localhost:8080/",
          "height": 1000
        },
        "id": "uSXp-QwdY4gT",
        "outputId": "f79af6ad-9a73-4bb5-cb94-61321f5d3d96"
      },
      "execution_count": 161,
      "outputs": [
        {
          "output_type": "stream",
          "name": "stdout",
          "text": [
            "******************************************************************\n",
            "*********Hiperparámetros para citerio de partición gini *********\n",
            "Mejor conjunto de parámetros:\n",
            "{'max_depth': 10, 'min_samples_leaf': 2}\n",
            "Best accuracy: 0.951\n",
            "****Reporte de clasificación sobre conjunto de entrenamiento (métricas)*****\n",
            "              precision    recall  f1-score   support\n",
            "\n",
            "           0       0.95      1.00      0.97      1232\n",
            "           1       0.98      0.73      0.83       251\n",
            "\n",
            "    accuracy                           0.95      1483\n",
            "   macro avg       0.97      0.86      0.90      1483\n",
            "weighted avg       0.95      0.95      0.95      1483\n",
            "\n",
            "Ac.promedio: 0.8827 y var (+/-0.0004) para los parámetros {'max_depth': 10, 'min_samples_leaf': 1}\n",
            "Ac.promedio: 0.8874 y var (+/-0.0003) para los parámetros {'max_depth': 10, 'min_samples_leaf': 2}\n",
            "Ac.promedio: 0.8753 y var (+/-0.0009) para los parámetros {'max_depth': 11, 'min_samples_leaf': 1}\n",
            "Ac.promedio: 0.8807 y var (+/-0.0005) para los parámetros {'max_depth': 11, 'min_samples_leaf': 2}\n",
            "Ac.promedio: 0.8712 y var (+/-0.0006) para los parámetros {'max_depth': 12, 'min_samples_leaf': 1}\n",
            "Ac.promedio: 0.8726 y var (+/-0.0003) para los parámetros {'max_depth': 12, 'min_samples_leaf': 2}\n",
            "Ac.promedio: 0.8699 y var (+/-0.0006) para los parámetros {'max_depth': 13, 'min_samples_leaf': 1}\n",
            "Ac.promedio: 0.8732 y var (+/-0.0003) para los parámetros {'max_depth': 13, 'min_samples_leaf': 2}\n",
            "Ac.promedio: 0.8672 y var (+/-0.0005) para los parámetros {'max_depth': 14, 'min_samples_leaf': 1}\n",
            "Ac.promedio: 0.8732 y var (+/-0.0004) para los parámetros {'max_depth': 14, 'min_samples_leaf': 2}\n",
            "Ac.promedio: 0.8624 y var (+/-0.0006) para los parámetros {'max_depth': 15, 'min_samples_leaf': 1}\n",
            "Ac.promedio: 0.8732 y var (+/-0.0005) para los parámetros {'max_depth': 15, 'min_samples_leaf': 2}\n",
            "******************************************************************\n",
            "*********Hiperparámetros para citerio de partición entropy *********\n",
            "Mejor conjunto de parámetros:\n",
            "{'max_depth': 11, 'min_samples_leaf': 2}\n",
            "Best accuracy: 0.968\n",
            "****Reporte de clasificación sobre conjunto de entrenamiento (métricas)*****\n",
            "              precision    recall  f1-score   support\n",
            "\n",
            "           0       0.97      0.99      0.98      1232\n",
            "           1       0.96      0.85      0.90       251\n",
            "\n",
            "    accuracy                           0.97      1483\n",
            "   macro avg       0.96      0.92      0.94      1483\n",
            "weighted avg       0.97      0.97      0.97      1483\n",
            "\n",
            "Ac.promedio: 0.8679 y var (+/-0.0003) para los parámetros {'max_depth': 10, 'min_samples_leaf': 1}\n",
            "Ac.promedio: 0.8712 y var (+/-0.0004) para los parámetros {'max_depth': 10, 'min_samples_leaf': 2}\n",
            "Ac.promedio: 0.8678 y var (+/-0.0002) para los parámetros {'max_depth': 11, 'min_samples_leaf': 1}\n",
            "Ac.promedio: 0.8753 y var (+/-0.0002) para los parámetros {'max_depth': 11, 'min_samples_leaf': 2}\n",
            "Ac.promedio: 0.8665 y var (+/-0.0003) para los parámetros {'max_depth': 12, 'min_samples_leaf': 1}\n",
            "Ac.promedio: 0.8651 y var (+/-0.0002) para los parámetros {'max_depth': 12, 'min_samples_leaf': 2}\n",
            "Ac.promedio: 0.8712 y var (+/-0.0005) para los parámetros {'max_depth': 13, 'min_samples_leaf': 1}\n",
            "Ac.promedio: 0.8692 y var (+/-0.0004) para los parámetros {'max_depth': 13, 'min_samples_leaf': 2}\n",
            "Ac.promedio: 0.8678 y var (+/-0.0002) para los parámetros {'max_depth': 14, 'min_samples_leaf': 1}\n",
            "Ac.promedio: 0.8651 y var (+/-0.0005) para los parámetros {'max_depth': 14, 'min_samples_leaf': 2}\n",
            "Ac.promedio: 0.8611 y var (+/-0.0002) para los parámetros {'max_depth': 15, 'min_samples_leaf': 1}\n",
            "Ac.promedio: 0.8658 y var (+/-0.0005) para los parámetros {'max_depth': 15, 'min_samples_leaf': 2}\n"
          ]
        },
        {
          "output_type": "display_data",
          "data": {
            "text/plain": [
              "<Figure size 936x288 with 4 Axes>"
            ],
            "image/png": "[encoded data removed]"
          },
          "metadata": {
            "needs_background": "light"
          }
        }
      ]
    },
    {
      "cell_type": "markdown",
      "source": [
        "####Mejor conjunto de parámetros, función de coste entropy : 'max_depth': 11, 'min_samples_leaf': 2\n"
      ],
      "metadata": {
        "id": "JKcgURhPhkrc"
      }
    },
    {
      "cell_type": "code",
      "source": [
        "clasiftt = tree.DecisionTreeClassifier(random_state=22, criterion=\"entropy\",\n",
        "                                       max_depth=11, min_samples_leaf=2)\n",
        "clasiftt.fit(X_train, y_train)\n",
        "print(\"Best accuracy: %0.03f\" % clasiftt.score(X_train,y_train))"
      ],
      "metadata": {
        "colab": {
          "base_uri": "https://localhost:8080/"
        },
        "id": "U_b9urARk3rY",
        "outputId": "a323d73b-5efc-4c5d-f8d8-3e3707ab1877"
      },
      "execution_count": 145,
      "outputs": [
        {
          "output_type": "stream",
          "name": "stdout",
          "text": [
            "Best accuracy: 0.968\n"
          ]
        }
      ]
    },
    {
      "cell_type": "code",
      "source": [
        "y_test_predtt = clasiftt.predict(X_test)\n",
        "print(\"****Reporte de clasificación sobre conjunto de evaluación (métricas)*****\") \n",
        "print(classification_report(y_test, y_test_predtt)) \n",
        "plot_confusion_matrix(y_test, y_test_predtt, classes=dataset.TARGET.unique(),\n",
        "                        title=\"Matriz de confusión para función de coste entropy\");"
      ],
      "metadata": {
        "colab": {
          "base_uri": "https://localhost:8080/",
          "height": 465
        },
        "id": "g9BjStV6mA86",
        "outputId": "3a34e9f1-69d1-4e19-9703-aa41dcc72682"
      },
      "execution_count": 146,
      "outputs": [
        {
          "output_type": "stream",
          "name": "stdout",
          "text": [
            "****Reporte de clasificación sobre conjunto de evaluación (métricas)*****\n",
            "              precision    recall  f1-score   support\n",
            "\n",
            "           0       0.93      0.94      0.93       313\n",
            "           1       0.65      0.60      0.62        58\n",
            "\n",
            "    accuracy                           0.89       371\n",
            "   macro avg       0.79      0.77      0.78       371\n",
            "weighted avg       0.88      0.89      0.89       371\n",
            "\n"
          ]
        },
        {
          "output_type": "display_data",
          "data": {
            "text/plain": [
              "<Figure size 432x288 with 2 Axes>"
            ],
            "image/png": "[encoded data removed]"
          },
          "metadata": {
            "needs_background": "light"
          }
        }
      ]
    },
    {
      "cell_type": "code",
      "source": [
        "plt.figure(figsize=(16,10))\n",
        "tree.plot_tree(clasiftt, feature_names=dataset.columns[1:],  \n",
        "                      class_names=[\"0\",\"1\"],  \n",
        "                      filled=True)\n",
        "plt.show()"
      ],
      "metadata": {
        "colab": {
          "base_uri": "https://localhost:8080/",
          "height": 575
        },
        "id": "-ysTF-iBnCct",
        "outputId": "4ba0f737-ea9c-406d-c4a9-aedb28ab7593"
      },
      "execution_count": 148,
      "outputs": [
        {
          "output_type": "display_data",
          "data": {
            "text/plain": [
              "<Figure size 1152x720 with 1 Axes>"
            ],
            "image/png": "[encoded data removed]"
          },
          "metadata": {
            "needs_background": "light"
          }
        }
      ]
    }
  ],
  "metadata": {
    "kernelspec": {
      "display_name": "Python 3",
      "language": "python",
      "name": "python3"
    },
    "language_info": {
      "codemirror_mode": {
        "name": "ipython",
        "version": 3
      },
      "file_extension": ".py",
      "mimetype": "text/x-python",
      "name": "python",
      "nbconvert_exporter": "python",
      "pygments_lexer": "ipython3",
      "version": "3.8.10"
    },
    "colab": {
      "name": "Lab2_Garay_v2.ipynb",
      "provenance": [],
      "include_colab_link": true
    }
  },
  "nbformat": 4,
  "nbformat_minor": 0
}