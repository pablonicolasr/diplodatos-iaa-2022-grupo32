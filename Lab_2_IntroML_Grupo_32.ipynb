{
  "cells": [
    {
      "cell_type": "markdown",
      "metadata": {
        "id": "view-in-github",
        "colab_type": "text"
      },
      "source": [
        "<a href=\"https://colab.research.google.com/github/pablonicolasr/diplodatos-iaa-2022-grupo32/blob/Seba_IntroML/Lab_2_IntroML_Grupo_32.ipynb\" target=\"_parent\"><img src=\"https://colab.research.google.com/assets/colab-badge.svg\" alt=\"Open In Colab\"/></a>"
      ]
    },
    {
      "cell_type": "markdown",
      "source": [
        "#Laboratorio 2: Armado de un esquema de aprendizaje automático\n",
        "\n",
        "**Grupo 32**\n",
        "\n",
        "Integrantes:\n",
        "\n",
        "* Garay, Carolina del Valle\n",
        "* Ormaechea, Sebastián Gabriel\n",
        "* Ramos, Pablo Nicolás\n"
      ],
      "metadata": {
        "id": "xKgeot7EsJM3"
      }
    },
    {
      "cell_type": "markdown",
      "metadata": {
        "id": "-wQrp7y5XDhk"
      },
      "source": [
        "En el laboratorio final se espera que puedan poner en práctica los conocimientos adquiridos en el curso, trabajando con un conjunto de datos de clasificación.\n",
        "\n",
        "El objetivo es que se introduzcan en el desarrollo de un esquema para hacer tareas de aprendizaje automático: selección de un modelo, ajuste de hiperparámetros y evaluación.\n",
        "\n",
        "El conjunto de datos a utilizar está en `./data/loan_data.csv`. Si abren el archivo verán que al principio (las líneas que empiezan con `#`) describen el conjunto de datos y sus atributos (incluyendo el atributo de etiqueta o clase).\n",
        "\n",
        "Se espera que hagan uso de las herramientas vistas en el curso. Se espera que hagan uso especialmente de las herramientas brindadas por `scikit-learn`."
      ]
    },
    {
      "cell_type": "code",
      "execution_count": null,
      "metadata": {
        "id": "E6exW22lXDho"
      },
      "outputs": [],
      "source": [
        "import numpy as np\n",
        "import pandas as pd\n",
        "\n",
        "# TODO: Agregar las librerías que hagan falta\n",
        "from sklearn.model_selection import train_test_split\n",
        "from sklearn.metrics import classification_report\n",
        "from sklearn.metrics import confusion_matrix\n",
        "from sklearn.metrics import accuracy_score\n",
        "from sklearn.preprocessing import StandardScaler\n",
        "import warnings\n",
        "warnings.filterwarnings('ignore')\n",
        "\n",
        "\n",
        "from sklearn.model_selection import GridSearchCV\n",
        "from scipy import stats\n",
        "from sklearn import linear_model\n",
        "from sklearn.tree import DecisionTreeClassifier\n",
        "from sklearn import tree\n",
        "\n",
        "\n",
        "%matplotlib inline"
      ]
    },
    {
      "cell_type": "markdown",
      "metadata": {
        "id": "QYwZb_soXDhp"
      },
      "source": [
        "## Carga de datos y división en entrenamiento y evaluación\n",
        "\n",
        "La celda siguiente se encarga de la carga de datos (haciendo uso de pandas). Estos serán los que se trabajarán en el resto del laboratorio."
      ]
    },
    {
      "cell_type": "code",
      "source": [
        "# Descarga de base de datos\n",
        "!gdown https://drive.google.com/file/d/1JrWG6v8LOGtb983SoG5nPzx8RTxJTHOW/view?usp=sharing --fuzzy"
      ],
      "metadata": {
        "colab": {
          "base_uri": "https://localhost:8080/"
        },
        "id": "YbjP0aHz0vpn",
        "outputId": "6011dbb3-9cab-40b4-8033-ed45d64411d6"
      },
      "execution_count": null,
      "outputs": [
        {
          "output_type": "stream",
          "name": "stdout",
          "text": [
            "Downloading...\n",
            "From: https://drive.google.com/uc?id=1JrWG6v8LOGtb983SoG5nPzx8RTxJTHOW\n",
            "To: /content/loan_data.csv\n",
            "\r  0% 0.00/138k [00:00<?, ?B/s]\r100% 138k/138k [00:00<00:00, 60.3MB/s]\n"
          ]
        }
      ]
    },
    {
      "cell_type": "code",
      "source": [
        "dataset = pd.read_csv('/content/loan_data.csv', comment=\"#\")"
      ],
      "metadata": {
        "id": "EBuyr83S1V3k"
      },
      "execution_count": null,
      "outputs": []
    },
    {
      "cell_type": "code",
      "source": [
        "dataset"
      ],
      "metadata": {
        "colab": {
          "base_uri": "https://localhost:8080/",
          "height": 402
        },
        "id": "fI56CI8p1e2z",
        "outputId": "7b6661f5-c6c6-4da2-9432-54a7eb169582"
      },
      "execution_count": null,
      "outputs": [
        {
          "output_type": "execute_result",
          "data": {
            "text/plain": [
              "      TARGET   LOAN   MORTDUE     VALUE   YOJ  DEROG  DELINQ       CLAGE  \\\n",
              "0          0   4700   88026.0  115506.0   6.0    0.0     0.0  182.248332   \n",
              "1          0  19300   39926.0  101208.0   4.0    0.0     0.0  140.051638   \n",
              "2          0   5700   71556.0   79538.0   2.0    0.0     0.0   92.643085   \n",
              "3          0  13000   44875.0   57713.0   0.0    1.0     0.0  184.990324   \n",
              "4          0  19300   72752.0  106084.0  11.0    0.0     0.0  193.707100   \n",
              "...      ...    ...       ...       ...   ...    ...     ...         ...   \n",
              "1849       1  53400  228236.0  305514.0   6.0    0.0     0.0   11.148069   \n",
              "1850       1  53600  235895.0  299772.0   5.0    0.0     0.0  112.748282   \n",
              "1851       1  53600  208197.0  297280.0   4.0    1.0     1.0  160.485251   \n",
              "1852       1  65500  205156.0  290239.0   2.0    0.0     0.0   98.808206   \n",
              "1853       1  77400   87651.0  224630.0   9.0    0.0     2.0   73.469630   \n",
              "\n",
              "      NINQ  CLNO     DEBTINC  \n",
              "0      0.0  27.0   29.209023  \n",
              "1      0.0  14.0   31.545694  \n",
              "2      0.0  15.0   41.210012  \n",
              "3      1.0  12.0   28.602076  \n",
              "4      1.0  13.0   30.686106  \n",
              "...    ...   ...         ...  \n",
              "1849   0.0   2.0   34.558417  \n",
              "1850   7.0  22.0   44.945929  \n",
              "1851   2.0  29.0   41.646731  \n",
              "1852   1.0  21.0  144.189001  \n",
              "1853   3.0  13.0   40.929793  \n",
              "\n",
              "[1854 rows x 11 columns]"
            ],
            "text/html": [
              "\n",
              "  <div id=\"df-75e8a6ea-93af-4956-a976-65c34d50d46e\">\n",
              "    <div class=\"colab-df-container\">\n",
              "      <div>\n",
              "<style scoped>\n",
              "    .dataframe tbody tr th:only-of-type {\n",
              "        vertical-align: middle;\n",
              "    }\n",
              "\n",
              "    .dataframe tbody tr th {\n",
              "        vertical-align: top;\n",
              "    }\n",
              "\n",
              "    .dataframe thead th {\n",
              "        text-align: right;\n",
              "    }\n",
              "</style>\n",
              "<table border=\"1\" class=\"dataframe\">\n",
              "  <thead>\n",
              "    <tr style=\"text-align: right;\">\n",
              "      <th></th>\n",
              "      <th>TARGET</th>\n",
              "      <th>LOAN</th>\n",
              "      <th>MORTDUE</th>\n",
              "      <th>VALUE</th>\n",
              "      <th>YOJ</th>\n",
              "      <th>DEROG</th>\n",
              "      <th>DELINQ</th>\n",
              "      <th>CLAGE</th>\n",
              "      <th>NINQ</th>\n",
              "      <th>CLNO</th>\n",
              "      <th>DEBTINC</th>\n",
              "    </tr>\n",
              "  </thead>\n",
              "  <tbody>\n",
              "    <tr>\n",
              "      <th>0</th>\n",
              "      <td>0</td>\n",
              "      <td>4700</td>\n",
              "      <td>88026.0</td>\n",
              "      <td>115506.0</td>\n",
              "      <td>6.0</td>\n",
              "      <td>0.0</td>\n",
              "      <td>0.0</td>\n",
              "      <td>182.248332</td>\n",
              "      <td>0.0</td>\n",
              "      <td>27.0</td>\n",
              "      <td>29.209023</td>\n",
              "    </tr>\n",
              "    <tr>\n",
              "      <th>1</th>\n",
              "      <td>0</td>\n",
              "      <td>19300</td>\n",
              "      <td>39926.0</td>\n",
              "      <td>101208.0</td>\n",
              "      <td>4.0</td>\n",
              "      <td>0.0</td>\n",
              "      <td>0.0</td>\n",
              "      <td>140.051638</td>\n",
              "      <td>0.0</td>\n",
              "      <td>14.0</td>\n",
              "      <td>31.545694</td>\n",
              "    </tr>\n",
              "    <tr>\n",
              "      <th>2</th>\n",
              "      <td>0</td>\n",
              "      <td>5700</td>\n",
              "      <td>71556.0</td>\n",
              "      <td>79538.0</td>\n",
              "      <td>2.0</td>\n",
              "      <td>0.0</td>\n",
              "      <td>0.0</td>\n",
              "      <td>92.643085</td>\n",
              "      <td>0.0</td>\n",
              "      <td>15.0</td>\n",
              "      <td>41.210012</td>\n",
              "    </tr>\n",
              "    <tr>\n",
              "      <th>3</th>\n",
              "      <td>0</td>\n",
              "      <td>13000</td>\n",
              "      <td>44875.0</td>\n",
              "      <td>57713.0</td>\n",
              "      <td>0.0</td>\n",
              "      <td>1.0</td>\n",
              "      <td>0.0</td>\n",
              "      <td>184.990324</td>\n",
              "      <td>1.0</td>\n",
              "      <td>12.0</td>\n",
              "      <td>28.602076</td>\n",
              "    </tr>\n",
              "    <tr>\n",
              "      <th>4</th>\n",
              "      <td>0</td>\n",
              "      <td>19300</td>\n",
              "      <td>72752.0</td>\n",
              "      <td>106084.0</td>\n",
              "      <td>11.0</td>\n",
              "      <td>0.0</td>\n",
              "      <td>0.0</td>\n",
              "      <td>193.707100</td>\n",
              "      <td>1.0</td>\n",
              "      <td>13.0</td>\n",
              "      <td>30.686106</td>\n",
              "    </tr>\n",
              "    <tr>\n",
              "      <th>...</th>\n",
              "      <td>...</td>\n",
              "      <td>...</td>\n",
              "      <td>...</td>\n",
              "      <td>...</td>\n",
              "      <td>...</td>\n",
              "      <td>...</td>\n",
              "      <td>...</td>\n",
              "      <td>...</td>\n",
              "      <td>...</td>\n",
              "      <td>...</td>\n",
              "      <td>...</td>\n",
              "    </tr>\n",
              "    <tr>\n",
              "      <th>1849</th>\n",
              "      <td>1</td>\n",
              "      <td>53400</td>\n",
              "      <td>228236.0</td>\n",
              "      <td>305514.0</td>\n",
              "      <td>6.0</td>\n",
              "      <td>0.0</td>\n",
              "      <td>0.0</td>\n",
              "      <td>11.148069</td>\n",
              "      <td>0.0</td>\n",
              "      <td>2.0</td>\n",
              "      <td>34.558417</td>\n",
              "    </tr>\n",
              "    <tr>\n",
              "      <th>1850</th>\n",
              "      <td>1</td>\n",
              "      <td>53600</td>\n",
              "      <td>235895.0</td>\n",
              "      <td>299772.0</td>\n",
              "      <td>5.0</td>\n",
              "      <td>0.0</td>\n",
              "      <td>0.0</td>\n",
              "      <td>112.748282</td>\n",
              "      <td>7.0</td>\n",
              "      <td>22.0</td>\n",
              "      <td>44.945929</td>\n",
              "    </tr>\n",
              "    <tr>\n",
              "      <th>1851</th>\n",
              "      <td>1</td>\n",
              "      <td>53600</td>\n",
              "      <td>208197.0</td>\n",
              "      <td>297280.0</td>\n",
              "      <td>4.0</td>\n",
              "      <td>1.0</td>\n",
              "      <td>1.0</td>\n",
              "      <td>160.485251</td>\n",
              "      <td>2.0</td>\n",
              "      <td>29.0</td>\n",
              "      <td>41.646731</td>\n",
              "    </tr>\n",
              "    <tr>\n",
              "      <th>1852</th>\n",
              "      <td>1</td>\n",
              "      <td>65500</td>\n",
              "      <td>205156.0</td>\n",
              "      <td>290239.0</td>\n",
              "      <td>2.0</td>\n",
              "      <td>0.0</td>\n",
              "      <td>0.0</td>\n",
              "      <td>98.808206</td>\n",
              "      <td>1.0</td>\n",
              "      <td>21.0</td>\n",
              "      <td>144.189001</td>\n",
              "    </tr>\n",
              "    <tr>\n",
              "      <th>1853</th>\n",
              "      <td>1</td>\n",
              "      <td>77400</td>\n",
              "      <td>87651.0</td>\n",
              "      <td>224630.0</td>\n",
              "      <td>9.0</td>\n",
              "      <td>0.0</td>\n",
              "      <td>2.0</td>\n",
              "      <td>73.469630</td>\n",
              "      <td>3.0</td>\n",
              "      <td>13.0</td>\n",
              "      <td>40.929793</td>\n",
              "    </tr>\n",
              "  </tbody>\n",
              "</table>\n",
              "<p>1854 rows × 11 columns</p>\n",
              "</div>\n",
              "      <button class=\"colab-df-convert\" onclick=\"convertToInteractive('df-75e8a6ea-93af-4956-a976-65c34d50d46e')\"\n",
              "              title=\"Convert this dataframe to an interactive table.\"\n",
              "              style=\"display:none;\">\n",
              "        \n",
              "  <svg xmlns=\"http://www.w3.org/2000/svg\" height=\"24px\"viewBox=\"0 0 24 24\"\n",
              "       width=\"24px\">\n",
              "    <path d=\"M0 0h24v24H0V0z\" fill=\"none\"/>\n",
              "    <path d=\"M18.56 5.44l.94 2.06.94-2.06 2.06-.94-2.06-.94-.94-2.06-.94 2.06-2.06.94zm-11 1L8.5 8.5l.94-2.06 2.06-.94-2.06-.94L8.5 2.5l-.94 2.06-2.06.94zm10 10l.94 2.06.94-2.06 2.06-.94-2.06-.94-.94-2.06-.94 2.06-2.06.94z\"/><path d=\"M17.41 7.96l-1.37-1.37c-.4-.4-.92-.59-1.43-.59-.52 0-1.04.2-1.43.59L10.3 9.45l-7.72 7.72c-.78.78-.78 2.05 0 2.83L4 21.41c.39.39.9.59 1.41.59.51 0 1.02-.2 1.41-.59l7.78-7.78 2.81-2.81c.8-.78.8-2.07 0-2.86zM5.41 20L4 18.59l7.72-7.72 1.47 1.35L5.41 20z\"/>\n",
              "  </svg>\n",
              "      </button>\n",
              "      \n",
              "  <style>\n",
              "    .colab-df-container {\n",
              "      display:flex;\n",
              "      flex-wrap:wrap;\n",
              "      gap: 12px;\n",
              "    }\n",
              "\n",
              "    .colab-df-convert {\n",
              "      background-color: #E8F0FE;\n",
              "      border: none;\n",
              "      border-radius: 50%;\n",
              "      cursor: pointer;\n",
              "      display: none;\n",
              "      fill: #1967D2;\n",
              "      height: 32px;\n",
              "      padding: 0 0 0 0;\n",
              "      width: 32px;\n",
              "    }\n",
              "\n",
              "    .colab-df-convert:hover {\n",
              "      background-color: #E2EBFA;\n",
              "      box-shadow: 0px 1px 2px rgba(60, 64, 67, 0.3), 0px 1px 3px 1px rgba(60, 64, 67, 0.15);\n",
              "      fill: #174EA6;\n",
              "    }\n",
              "\n",
              "    [theme=dark] .colab-df-convert {\n",
              "      background-color: #3B4455;\n",
              "      fill: #D2E3FC;\n",
              "    }\n",
              "\n",
              "    [theme=dark] .colab-df-convert:hover {\n",
              "      background-color: #434B5C;\n",
              "      box-shadow: 0px 1px 3px 1px rgba(0, 0, 0, 0.15);\n",
              "      filter: drop-shadow(0px 1px 2px rgba(0, 0, 0, 0.3));\n",
              "      fill: #FFFFFF;\n",
              "    }\n",
              "  </style>\n",
              "\n",
              "      <script>\n",
              "        const buttonEl =\n",
              "          document.querySelector('#df-75e8a6ea-93af-4956-a976-65c34d50d46e button.colab-df-convert');\n",
              "        buttonEl.style.display =\n",
              "          google.colab.kernel.accessAllowed ? 'block' : 'none';\n",
              "\n",
              "        async function convertToInteractive(key) {\n",
              "          const element = document.querySelector('#df-75e8a6ea-93af-4956-a976-65c34d50d46e');\n",
              "          const dataTable =\n",
              "            await google.colab.kernel.invokeFunction('convertToInteractive',\n",
              "                                                     [key], {});\n",
              "          if (!dataTable) return;\n",
              "\n",
              "          const docLinkHtml = 'Like what you see? Visit the ' +\n",
              "            '<a target=\"_blank\" href=https://colab.research.google.com/notebooks/data_table.ipynb>data table notebook</a>'\n",
              "            + ' to learn more about interactive tables.';\n",
              "          element.innerHTML = '';\n",
              "          dataTable['output_type'] = 'display_data';\n",
              "          await google.colab.output.renderOutput(dataTable, element);\n",
              "          const docLink = document.createElement('div');\n",
              "          docLink.innerHTML = docLinkHtml;\n",
              "          element.appendChild(docLink);\n",
              "        }\n",
              "      </script>\n",
              "    </div>\n",
              "  </div>\n",
              "  "
            ]
          },
          "metadata": {},
          "execution_count": 4
        }
      ]
    },
    {
      "cell_type": "code",
      "execution_count": null,
      "metadata": {
        "id": "J9Bjnd94XDhq",
        "colab": {
          "base_uri": "https://localhost:8080/"
        },
        "outputId": "9ec321d7-1cd0-45b3-e017-5d6c119dccf4"
      },
      "outputs": [
        {
          "output_type": "stream",
          "name": "stdout",
          "text": [
            "(1483, 10)\n",
            "(1483,)\n",
            "(371, 10)\n"
          ]
        }
      ],
      "source": [
        "# División entre instancias y etiquetas\n",
        "X, y = dataset.iloc[:, 1:], dataset.TARGET\n",
        "\n",
        "# división entre entrenamiento y evaluación\n",
        "X_train, X_test, y_train, y_test = train_test_split(X, y, test_size=0.2, random_state=0)\n",
        "print(X_train.shape)\n",
        "print(y_train.shape)\n",
        "print(X_test.shape)\n"
      ]
    },
    {
      "cell_type": "code",
      "source": [
        "X_train"
      ],
      "metadata": {
        "colab": {
          "base_uri": "https://localhost:8080/",
          "height": 402
        },
        "id": "YeuHbgYMJxno",
        "outputId": "6e19a59e-5656-438b-fe4d-7aaef776aba8"
      },
      "execution_count": null,
      "outputs": [
        {
          "output_type": "execute_result",
          "data": {
            "text/plain": [
              "       LOAN   MORTDUE     VALUE   YOJ  DEROG  DELINQ       CLAGE  NINQ  CLNO  \\\n",
              "1240   9400   92340.0  125451.0   7.0    0.0     0.0  129.113725   1.0  22.0   \n",
              "1183  14800   43983.0   60826.0   4.0    1.0     1.0  113.897967   1.0   9.0   \n",
              "692   20100   59726.0   79982.0   8.0    1.0     0.0   74.210759   2.0  28.0   \n",
              "871   25200   73168.0   93608.0   9.0    0.0     0.0  151.121480   0.0  21.0   \n",
              "1353  17000   70039.0  100993.0   7.0    0.0     0.0  261.911317   1.0  11.0   \n",
              "...     ...       ...       ...   ...    ...     ...         ...   ...   ...   \n",
              "835   15900   48563.0   64679.0   4.0    0.0     0.0  156.101381   2.0  12.0   \n",
              "1216  27500  150666.0  192346.0   3.0    0.0     0.0  177.871473   0.0  17.0   \n",
              "1653  12800   54151.0   83828.0  13.0    0.0     0.0  132.160270   0.0  16.0   \n",
              "559   21300   63263.0   94180.0   1.0    0.0     0.0  138.348455   1.0  22.0   \n",
              "684    7800   69662.0   80498.0   4.0    0.0     0.0  100.428331   0.0  14.0   \n",
              "\n",
              "        DEBTINC  \n",
              "1240  36.349975  \n",
              "1183  27.108082  \n",
              "692   36.846922  \n",
              "871   35.590327  \n",
              "1353  36.564330  \n",
              "...         ...  \n",
              "835   27.808547  \n",
              "1216  39.978650  \n",
              "1653  23.477426  \n",
              "559   35.549295  \n",
              "684   42.807342  \n",
              "\n",
              "[1483 rows x 10 columns]"
            ],
            "text/html": [
              "\n",
              "  <div id=\"df-0fe96535-9e4c-48fb-bee1-2be6904ecc91\">\n",
              "    <div class=\"colab-df-container\">\n",
              "      <div>\n",
              "<style scoped>\n",
              "    .dataframe tbody tr th:only-of-type {\n",
              "        vertical-align: middle;\n",
              "    }\n",
              "\n",
              "    .dataframe tbody tr th {\n",
              "        vertical-align: top;\n",
              "    }\n",
              "\n",
              "    .dataframe thead th {\n",
              "        text-align: right;\n",
              "    }\n",
              "</style>\n",
              "<table border=\"1\" class=\"dataframe\">\n",
              "  <thead>\n",
              "    <tr style=\"text-align: right;\">\n",
              "      <th></th>\n",
              "      <th>LOAN</th>\n",
              "      <th>MORTDUE</th>\n",
              "      <th>VALUE</th>\n",
              "      <th>YOJ</th>\n",
              "      <th>DEROG</th>\n",
              "      <th>DELINQ</th>\n",
              "      <th>CLAGE</th>\n",
              "      <th>NINQ</th>\n",
              "      <th>CLNO</th>\n",
              "      <th>DEBTINC</th>\n",
              "    </tr>\n",
              "  </thead>\n",
              "  <tbody>\n",
              "    <tr>\n",
              "      <th>1240</th>\n",
              "      <td>9400</td>\n",
              "      <td>92340.0</td>\n",
              "      <td>125451.0</td>\n",
              "      <td>7.0</td>\n",
              "      <td>0.0</td>\n",
              "      <td>0.0</td>\n",
              "      <td>129.113725</td>\n",
              "      <td>1.0</td>\n",
              "      <td>22.0</td>\n",
              "      <td>36.349975</td>\n",
              "    </tr>\n",
              "    <tr>\n",
              "      <th>1183</th>\n",
              "      <td>14800</td>\n",
              "      <td>43983.0</td>\n",
              "      <td>60826.0</td>\n",
              "      <td>4.0</td>\n",
              "      <td>1.0</td>\n",
              "      <td>1.0</td>\n",
              "      <td>113.897967</td>\n",
              "      <td>1.0</td>\n",
              "      <td>9.0</td>\n",
              "      <td>27.108082</td>\n",
              "    </tr>\n",
              "    <tr>\n",
              "      <th>692</th>\n",
              "      <td>20100</td>\n",
              "      <td>59726.0</td>\n",
              "      <td>79982.0</td>\n",
              "      <td>8.0</td>\n",
              "      <td>1.0</td>\n",
              "      <td>0.0</td>\n",
              "      <td>74.210759</td>\n",
              "      <td>2.0</td>\n",
              "      <td>28.0</td>\n",
              "      <td>36.846922</td>\n",
              "    </tr>\n",
              "    <tr>\n",
              "      <th>871</th>\n",
              "      <td>25200</td>\n",
              "      <td>73168.0</td>\n",
              "      <td>93608.0</td>\n",
              "      <td>9.0</td>\n",
              "      <td>0.0</td>\n",
              "      <td>0.0</td>\n",
              "      <td>151.121480</td>\n",
              "      <td>0.0</td>\n",
              "      <td>21.0</td>\n",
              "      <td>35.590327</td>\n",
              "    </tr>\n",
              "    <tr>\n",
              "      <th>1353</th>\n",
              "      <td>17000</td>\n",
              "      <td>70039.0</td>\n",
              "      <td>100993.0</td>\n",
              "      <td>7.0</td>\n",
              "      <td>0.0</td>\n",
              "      <td>0.0</td>\n",
              "      <td>261.911317</td>\n",
              "      <td>1.0</td>\n",
              "      <td>11.0</td>\n",
              "      <td>36.564330</td>\n",
              "    </tr>\n",
              "    <tr>\n",
              "      <th>...</th>\n",
              "      <td>...</td>\n",
              "      <td>...</td>\n",
              "      <td>...</td>\n",
              "      <td>...</td>\n",
              "      <td>...</td>\n",
              "      <td>...</td>\n",
              "      <td>...</td>\n",
              "      <td>...</td>\n",
              "      <td>...</td>\n",
              "      <td>...</td>\n",
              "    </tr>\n",
              "    <tr>\n",
              "      <th>835</th>\n",
              "      <td>15900</td>\n",
              "      <td>48563.0</td>\n",
              "      <td>64679.0</td>\n",
              "      <td>4.0</td>\n",
              "      <td>0.0</td>\n",
              "      <td>0.0</td>\n",
              "      <td>156.101381</td>\n",
              "      <td>2.0</td>\n",
              "      <td>12.0</td>\n",
              "      <td>27.808547</td>\n",
              "    </tr>\n",
              "    <tr>\n",
              "      <th>1216</th>\n",
              "      <td>27500</td>\n",
              "      <td>150666.0</td>\n",
              "      <td>192346.0</td>\n",
              "      <td>3.0</td>\n",
              "      <td>0.0</td>\n",
              "      <td>0.0</td>\n",
              "      <td>177.871473</td>\n",
              "      <td>0.0</td>\n",
              "      <td>17.0</td>\n",
              "      <td>39.978650</td>\n",
              "    </tr>\n",
              "    <tr>\n",
              "      <th>1653</th>\n",
              "      <td>12800</td>\n",
              "      <td>54151.0</td>\n",
              "      <td>83828.0</td>\n",
              "      <td>13.0</td>\n",
              "      <td>0.0</td>\n",
              "      <td>0.0</td>\n",
              "      <td>132.160270</td>\n",
              "      <td>0.0</td>\n",
              "      <td>16.0</td>\n",
              "      <td>23.477426</td>\n",
              "    </tr>\n",
              "    <tr>\n",
              "      <th>559</th>\n",
              "      <td>21300</td>\n",
              "      <td>63263.0</td>\n",
              "      <td>94180.0</td>\n",
              "      <td>1.0</td>\n",
              "      <td>0.0</td>\n",
              "      <td>0.0</td>\n",
              "      <td>138.348455</td>\n",
              "      <td>1.0</td>\n",
              "      <td>22.0</td>\n",
              "      <td>35.549295</td>\n",
              "    </tr>\n",
              "    <tr>\n",
              "      <th>684</th>\n",
              "      <td>7800</td>\n",
              "      <td>69662.0</td>\n",
              "      <td>80498.0</td>\n",
              "      <td>4.0</td>\n",
              "      <td>0.0</td>\n",
              "      <td>0.0</td>\n",
              "      <td>100.428331</td>\n",
              "      <td>0.0</td>\n",
              "      <td>14.0</td>\n",
              "      <td>42.807342</td>\n",
              "    </tr>\n",
              "  </tbody>\n",
              "</table>\n",
              "<p>1483 rows × 10 columns</p>\n",
              "</div>\n",
              "      <button class=\"colab-df-convert\" onclick=\"convertToInteractive('df-0fe96535-9e4c-48fb-bee1-2be6904ecc91')\"\n",
              "              title=\"Convert this dataframe to an interactive table.\"\n",
              "              style=\"display:none;\">\n",
              "        \n",
              "  <svg xmlns=\"http://www.w3.org/2000/svg\" height=\"24px\"viewBox=\"0 0 24 24\"\n",
              "       width=\"24px\">\n",
              "    <path d=\"M0 0h24v24H0V0z\" fill=\"none\"/>\n",
              "    <path d=\"M18.56 5.44l.94 2.06.94-2.06 2.06-.94-2.06-.94-.94-2.06-.94 2.06-2.06.94zm-11 1L8.5 8.5l.94-2.06 2.06-.94-2.06-.94L8.5 2.5l-.94 2.06-2.06.94zm10 10l.94 2.06.94-2.06 2.06-.94-2.06-.94-.94-2.06-.94 2.06-2.06.94z\"/><path d=\"M17.41 7.96l-1.37-1.37c-.4-.4-.92-.59-1.43-.59-.52 0-1.04.2-1.43.59L10.3 9.45l-7.72 7.72c-.78.78-.78 2.05 0 2.83L4 21.41c.39.39.9.59 1.41.59.51 0 1.02-.2 1.41-.59l7.78-7.78 2.81-2.81c.8-.78.8-2.07 0-2.86zM5.41 20L4 18.59l7.72-7.72 1.47 1.35L5.41 20z\"/>\n",
              "  </svg>\n",
              "      </button>\n",
              "      \n",
              "  <style>\n",
              "    .colab-df-container {\n",
              "      display:flex;\n",
              "      flex-wrap:wrap;\n",
              "      gap: 12px;\n",
              "    }\n",
              "\n",
              "    .colab-df-convert {\n",
              "      background-color: #E8F0FE;\n",
              "      border: none;\n",
              "      border-radius: 50%;\n",
              "      cursor: pointer;\n",
              "      display: none;\n",
              "      fill: #1967D2;\n",
              "      height: 32px;\n",
              "      padding: 0 0 0 0;\n",
              "      width: 32px;\n",
              "    }\n",
              "\n",
              "    .colab-df-convert:hover {\n",
              "      background-color: #E2EBFA;\n",
              "      box-shadow: 0px 1px 2px rgba(60, 64, 67, 0.3), 0px 1px 3px 1px rgba(60, 64, 67, 0.15);\n",
              "      fill: #174EA6;\n",
              "    }\n",
              "\n",
              "    [theme=dark] .colab-df-convert {\n",
              "      background-color: #3B4455;\n",
              "      fill: #D2E3FC;\n",
              "    }\n",
              "\n",
              "    [theme=dark] .colab-df-convert:hover {\n",
              "      background-color: #434B5C;\n",
              "      box-shadow: 0px 1px 3px 1px rgba(0, 0, 0, 0.15);\n",
              "      filter: drop-shadow(0px 1px 2px rgba(0, 0, 0, 0.3));\n",
              "      fill: #FFFFFF;\n",
              "    }\n",
              "  </style>\n",
              "\n",
              "      <script>\n",
              "        const buttonEl =\n",
              "          document.querySelector('#df-0fe96535-9e4c-48fb-bee1-2be6904ecc91 button.colab-df-convert');\n",
              "        buttonEl.style.display =\n",
              "          google.colab.kernel.accessAllowed ? 'block' : 'none';\n",
              "\n",
              "        async function convertToInteractive(key) {\n",
              "          const element = document.querySelector('#df-0fe96535-9e4c-48fb-bee1-2be6904ecc91');\n",
              "          const dataTable =\n",
              "            await google.colab.kernel.invokeFunction('convertToInteractive',\n",
              "                                                     [key], {});\n",
              "          if (!dataTable) return;\n",
              "\n",
              "          const docLinkHtml = 'Like what you see? Visit the ' +\n",
              "            '<a target=\"_blank\" href=https://colab.research.google.com/notebooks/data_table.ipynb>data table notebook</a>'\n",
              "            + ' to learn more about interactive tables.';\n",
              "          element.innerHTML = '';\n",
              "          dataTable['output_type'] = 'display_data';\n",
              "          await google.colab.output.renderOutput(dataTable, element);\n",
              "          const docLink = document.createElement('div');\n",
              "          docLink.innerHTML = docLinkHtml;\n",
              "          element.appendChild(docLink);\n",
              "        }\n",
              "      </script>\n",
              "    </div>\n",
              "  </div>\n",
              "  "
            ]
          },
          "metadata": {},
          "execution_count": 6
        }
      ]
    },
    {
      "cell_type": "code",
      "source": [
        "y_train"
      ],
      "metadata": {
        "colab": {
          "base_uri": "https://localhost:8080/"
        },
        "id": "fqX6_SoNiJvq",
        "outputId": "5cd5a6b3-7b6a-40d4-bb7f-c726171071af"
      },
      "execution_count": null,
      "outputs": [
        {
          "output_type": "execute_result",
          "data": {
            "text/plain": [
              "1240    0\n",
              "1183    0\n",
              "692     0\n",
              "871     0\n",
              "1353    0\n",
              "       ..\n",
              "835     0\n",
              "1216    0\n",
              "1653    1\n",
              "559     0\n",
              "684     0\n",
              "Name: TARGET, Length: 1483, dtype: int64"
            ]
          },
          "metadata": {},
          "execution_count": 7
        }
      ]
    },
    {
      "cell_type": "code",
      "source": [
        "X_test"
      ],
      "metadata": {
        "colab": {
          "base_uri": "https://localhost:8080/",
          "height": 402
        },
        "id": "B46nVqCMiJh2",
        "outputId": "194811e0-7b99-40cd-f485-ab8e843e821d"
      },
      "execution_count": null,
      "outputs": [
        {
          "output_type": "execute_result",
          "data": {
            "text/plain": [
              "       LOAN  MORTDUE     VALUE   YOJ  DEROG  DELINQ       CLAGE  NINQ  CLNO  \\\n",
              "724    4200  50216.0   58541.0  19.0    0.0     0.0  209.871302   0.0  19.0   \n",
              "652   19300  50554.0   76140.0   9.0    2.0     0.0   78.276625   3.0  27.0   \n",
              "825   13000  78766.0  106450.0   6.0    0.0     0.0  107.951312   0.0  26.0   \n",
              "1636  11800  67678.0  108092.0  13.0    0.0     7.0  126.658232   0.0  36.0   \n",
              "18    87500  55938.0   86794.0  15.0    0.0     0.0  223.881040   0.0  16.0   \n",
              "...     ...      ...       ...   ...    ...     ...         ...   ...   ...   \n",
              "485   79100  23553.0  103807.0  25.0    0.0     1.0  142.193458   0.0  13.0   \n",
              "1702  16300  79087.0  102921.0  23.0    0.0     0.0  256.253084   0.0  45.0   \n",
              "511   26900  72848.0  101736.0  10.0    0.0     0.0  131.409634   0.0  21.0   \n",
              "1406  13000  80587.0  110064.0   6.0    0.0     0.0   85.009197   1.0  13.0   \n",
              "1670  14100  52302.0   63589.0   6.0    0.0     0.0  130.342467   4.0   8.0   \n",
              "\n",
              "        DEBTINC  \n",
              "724   20.208033  \n",
              "652   36.026904  \n",
              "825   24.870994  \n",
              "1636  37.162690  \n",
              "18    36.753653  \n",
              "...         ...  \n",
              "485   31.469937  \n",
              "1702  36.987086  \n",
              "511   36.369027  \n",
              "1406  33.990040  \n",
              "1670  34.792832  \n",
              "\n",
              "[371 rows x 10 columns]"
            ],
            "text/html": [
              "\n",
              "  <div id=\"df-edf05c12-1c1a-4700-843a-e8e919286ed2\">\n",
              "    <div class=\"colab-df-container\">\n",
              "      <div>\n",
              "<style scoped>\n",
              "    .dataframe tbody tr th:only-of-type {\n",
              "        vertical-align: middle;\n",
              "    }\n",
              "\n",
              "    .dataframe tbody tr th {\n",
              "        vertical-align: top;\n",
              "    }\n",
              "\n",
              "    .dataframe thead th {\n",
              "        text-align: right;\n",
              "    }\n",
              "</style>\n",
              "<table border=\"1\" class=\"dataframe\">\n",
              "  <thead>\n",
              "    <tr style=\"text-align: right;\">\n",
              "      <th></th>\n",
              "      <th>LOAN</th>\n",
              "      <th>MORTDUE</th>\n",
              "      <th>VALUE</th>\n",
              "      <th>YOJ</th>\n",
              "      <th>DEROG</th>\n",
              "      <th>DELINQ</th>\n",
              "      <th>CLAGE</th>\n",
              "      <th>NINQ</th>\n",
              "      <th>CLNO</th>\n",
              "      <th>DEBTINC</th>\n",
              "    </tr>\n",
              "  </thead>\n",
              "  <tbody>\n",
              "    <tr>\n",
              "      <th>724</th>\n",
              "      <td>4200</td>\n",
              "      <td>50216.0</td>\n",
              "      <td>58541.0</td>\n",
              "      <td>19.0</td>\n",
              "      <td>0.0</td>\n",
              "      <td>0.0</td>\n",
              "      <td>209.871302</td>\n",
              "      <td>0.0</td>\n",
              "      <td>19.0</td>\n",
              "      <td>20.208033</td>\n",
              "    </tr>\n",
              "    <tr>\n",
              "      <th>652</th>\n",
              "      <td>19300</td>\n",
              "      <td>50554.0</td>\n",
              "      <td>76140.0</td>\n",
              "      <td>9.0</td>\n",
              "      <td>2.0</td>\n",
              "      <td>0.0</td>\n",
              "      <td>78.276625</td>\n",
              "      <td>3.0</td>\n",
              "      <td>27.0</td>\n",
              "      <td>36.026904</td>\n",
              "    </tr>\n",
              "    <tr>\n",
              "      <th>825</th>\n",
              "      <td>13000</td>\n",
              "      <td>78766.0</td>\n",
              "      <td>106450.0</td>\n",
              "      <td>6.0</td>\n",
              "      <td>0.0</td>\n",
              "      <td>0.0</td>\n",
              "      <td>107.951312</td>\n",
              "      <td>0.0</td>\n",
              "      <td>26.0</td>\n",
              "      <td>24.870994</td>\n",
              "    </tr>\n",
              "    <tr>\n",
              "      <th>1636</th>\n",
              "      <td>11800</td>\n",
              "      <td>67678.0</td>\n",
              "      <td>108092.0</td>\n",
              "      <td>13.0</td>\n",
              "      <td>0.0</td>\n",
              "      <td>7.0</td>\n",
              "      <td>126.658232</td>\n",
              "      <td>0.0</td>\n",
              "      <td>36.0</td>\n",
              "      <td>37.162690</td>\n",
              "    </tr>\n",
              "    <tr>\n",
              "      <th>18</th>\n",
              "      <td>87500</td>\n",
              "      <td>55938.0</td>\n",
              "      <td>86794.0</td>\n",
              "      <td>15.0</td>\n",
              "      <td>0.0</td>\n",
              "      <td>0.0</td>\n",
              "      <td>223.881040</td>\n",
              "      <td>0.0</td>\n",
              "      <td>16.0</td>\n",
              "      <td>36.753653</td>\n",
              "    </tr>\n",
              "    <tr>\n",
              "      <th>...</th>\n",
              "      <td>...</td>\n",
              "      <td>...</td>\n",
              "      <td>...</td>\n",
              "      <td>...</td>\n",
              "      <td>...</td>\n",
              "      <td>...</td>\n",
              "      <td>...</td>\n",
              "      <td>...</td>\n",
              "      <td>...</td>\n",
              "      <td>...</td>\n",
              "    </tr>\n",
              "    <tr>\n",
              "      <th>485</th>\n",
              "      <td>79100</td>\n",
              "      <td>23553.0</td>\n",
              "      <td>103807.0</td>\n",
              "      <td>25.0</td>\n",
              "      <td>0.0</td>\n",
              "      <td>1.0</td>\n",
              "      <td>142.193458</td>\n",
              "      <td>0.0</td>\n",
              "      <td>13.0</td>\n",
              "      <td>31.469937</td>\n",
              "    </tr>\n",
              "    <tr>\n",
              "      <th>1702</th>\n",
              "      <td>16300</td>\n",
              "      <td>79087.0</td>\n",
              "      <td>102921.0</td>\n",
              "      <td>23.0</td>\n",
              "      <td>0.0</td>\n",
              "      <td>0.0</td>\n",
              "      <td>256.253084</td>\n",
              "      <td>0.0</td>\n",
              "      <td>45.0</td>\n",
              "      <td>36.987086</td>\n",
              "    </tr>\n",
              "    <tr>\n",
              "      <th>511</th>\n",
              "      <td>26900</td>\n",
              "      <td>72848.0</td>\n",
              "      <td>101736.0</td>\n",
              "      <td>10.0</td>\n",
              "      <td>0.0</td>\n",
              "      <td>0.0</td>\n",
              "      <td>131.409634</td>\n",
              "      <td>0.0</td>\n",
              "      <td>21.0</td>\n",
              "      <td>36.369027</td>\n",
              "    </tr>\n",
              "    <tr>\n",
              "      <th>1406</th>\n",
              "      <td>13000</td>\n",
              "      <td>80587.0</td>\n",
              "      <td>110064.0</td>\n",
              "      <td>6.0</td>\n",
              "      <td>0.0</td>\n",
              "      <td>0.0</td>\n",
              "      <td>85.009197</td>\n",
              "      <td>1.0</td>\n",
              "      <td>13.0</td>\n",
              "      <td>33.990040</td>\n",
              "    </tr>\n",
              "    <tr>\n",
              "      <th>1670</th>\n",
              "      <td>14100</td>\n",
              "      <td>52302.0</td>\n",
              "      <td>63589.0</td>\n",
              "      <td>6.0</td>\n",
              "      <td>0.0</td>\n",
              "      <td>0.0</td>\n",
              "      <td>130.342467</td>\n",
              "      <td>4.0</td>\n",
              "      <td>8.0</td>\n",
              "      <td>34.792832</td>\n",
              "    </tr>\n",
              "  </tbody>\n",
              "</table>\n",
              "<p>371 rows × 10 columns</p>\n",
              "</div>\n",
              "      <button class=\"colab-df-convert\" onclick=\"convertToInteractive('df-edf05c12-1c1a-4700-843a-e8e919286ed2')\"\n",
              "              title=\"Convert this dataframe to an interactive table.\"\n",
              "              style=\"display:none;\">\n",
              "        \n",
              "  <svg xmlns=\"http://www.w3.org/2000/svg\" height=\"24px\"viewBox=\"0 0 24 24\"\n",
              "       width=\"24px\">\n",
              "    <path d=\"M0 0h24v24H0V0z\" fill=\"none\"/>\n",
              "    <path d=\"M18.56 5.44l.94 2.06.94-2.06 2.06-.94-2.06-.94-.94-2.06-.94 2.06-2.06.94zm-11 1L8.5 8.5l.94-2.06 2.06-.94-2.06-.94L8.5 2.5l-.94 2.06-2.06.94zm10 10l.94 2.06.94-2.06 2.06-.94-2.06-.94-.94-2.06-.94 2.06-2.06.94z\"/><path d=\"M17.41 7.96l-1.37-1.37c-.4-.4-.92-.59-1.43-.59-.52 0-1.04.2-1.43.59L10.3 9.45l-7.72 7.72c-.78.78-.78 2.05 0 2.83L4 21.41c.39.39.9.59 1.41.59.51 0 1.02-.2 1.41-.59l7.78-7.78 2.81-2.81c.8-.78.8-2.07 0-2.86zM5.41 20L4 18.59l7.72-7.72 1.47 1.35L5.41 20z\"/>\n",
              "  </svg>\n",
              "      </button>\n",
              "      \n",
              "  <style>\n",
              "    .colab-df-container {\n",
              "      display:flex;\n",
              "      flex-wrap:wrap;\n",
              "      gap: 12px;\n",
              "    }\n",
              "\n",
              "    .colab-df-convert {\n",
              "      background-color: #E8F0FE;\n",
              "      border: none;\n",
              "      border-radius: 50%;\n",
              "      cursor: pointer;\n",
              "      display: none;\n",
              "      fill: #1967D2;\n",
              "      height: 32px;\n",
              "      padding: 0 0 0 0;\n",
              "      width: 32px;\n",
              "    }\n",
              "\n",
              "    .colab-df-convert:hover {\n",
              "      background-color: #E2EBFA;\n",
              "      box-shadow: 0px 1px 2px rgba(60, 64, 67, 0.3), 0px 1px 3px 1px rgba(60, 64, 67, 0.15);\n",
              "      fill: #174EA6;\n",
              "    }\n",
              "\n",
              "    [theme=dark] .colab-df-convert {\n",
              "      background-color: #3B4455;\n",
              "      fill: #D2E3FC;\n",
              "    }\n",
              "\n",
              "    [theme=dark] .colab-df-convert:hover {\n",
              "      background-color: #434B5C;\n",
              "      box-shadow: 0px 1px 3px 1px rgba(0, 0, 0, 0.15);\n",
              "      filter: drop-shadow(0px 1px 2px rgba(0, 0, 0, 0.3));\n",
              "      fill: #FFFFFF;\n",
              "    }\n",
              "  </style>\n",
              "\n",
              "      <script>\n",
              "        const buttonEl =\n",
              "          document.querySelector('#df-edf05c12-1c1a-4700-843a-e8e919286ed2 button.colab-df-convert');\n",
              "        buttonEl.style.display =\n",
              "          google.colab.kernel.accessAllowed ? 'block' : 'none';\n",
              "\n",
              "        async function convertToInteractive(key) {\n",
              "          const element = document.querySelector('#df-edf05c12-1c1a-4700-843a-e8e919286ed2');\n",
              "          const dataTable =\n",
              "            await google.colab.kernel.invokeFunction('convertToInteractive',\n",
              "                                                     [key], {});\n",
              "          if (!dataTable) return;\n",
              "\n",
              "          const docLinkHtml = 'Like what you see? Visit the ' +\n",
              "            '<a target=\"_blank\" href=https://colab.research.google.com/notebooks/data_table.ipynb>data table notebook</a>'\n",
              "            + ' to learn more about interactive tables.';\n",
              "          element.innerHTML = '';\n",
              "          dataTable['output_type'] = 'display_data';\n",
              "          await google.colab.output.renderOutput(dataTable, element);\n",
              "          const docLink = document.createElement('div');\n",
              "          docLink.innerHTML = docLinkHtml;\n",
              "          element.appendChild(docLink);\n",
              "        }\n",
              "      </script>\n",
              "    </div>\n",
              "  </div>\n",
              "  "
            ]
          },
          "metadata": {},
          "execution_count": 8
        }
      ]
    },
    {
      "cell_type": "markdown",
      "metadata": {
        "id": "fcaW3F3pXDhq"
      },
      "source": [
        "\n",
        "Documentación:\n",
        "\n",
        "- https://scikit-learn.org/stable/modules/generated/sklearn.model_selection.train_test_split.html"
      ]
    },
    {
      "cell_type": "markdown",
      "metadata": {
        "id": "tAsALhvhXDhq"
      },
      "source": [
        "## Ejercicio 1: Descripción de los Datos y la Tarea\n",
        "\n",
        "Responder las siguientes preguntas:\n",
        "\n",
        "1. ¿De qué se trata el conjunto de datos?\n",
        "2. ¿Cuál es la variable objetivo que hay que predecir? ¿Qué significado tiene?\n",
        "3. ¿Qué información (atributos) hay disponible para hacer la predicción?\n",
        "4. ¿Qué atributos imagina ud. que son los más determinantes para la predicción?\n",
        "\n",
        "**No hace falta escribir código para responder estas preguntas.**"
      ]
    },
    {
      "cell_type": "markdown",
      "source": [
        "1 - El conjunto de datos contiene información de línea de base y rendimiento de préstamos de un banco, para 5960 solicitantes. El departamento de crédito al consumo, pretende automatizar la toma de decisiones para la aprobación de líneas de crédito con garantía hipotecaria. Para ello, buscan seguir las recomendaciones de la Ley de Igualdad de Oportunidades de Crédito para crear un modelo de calificación crediticia empíricamente derivado y estadísticamente sólido. El modelo se basará en datos recopilados de los solicitantes recientes a los que se les otorgó crédito a través de el proceso actual de suscripción de préstamos. El modelo se construirá a partir de herramientas de modelado predictivo, pero el modelo creado debe ser lo suficientemente interpretable para proporcionar una razón para cualquier acción adversa (rechazos).\n",
        "\n",
        "2 - La variable objetivo (TARGET) es una variable binaria que indica si un solicitante finalmente incumplió o estuvo gravemente en mora. Este resultado adverso ocurrió en 1.189 casos (20%).\n",
        "\n",
        "* TARGET: 1 = cliente incumplió con el préstamo - 0 = préstamo reembolsado\n",
        "\n",
        "3 - A continuación se detallan los atributos para elaborar la predicción.\n",
        "\n",
        "* LOAN Importe de la solicitud de préstamo\n",
        "* MORTDUE Monto adeudado sobre la hipoteca existente\n",
        "* VALUE Valor de la propiedad actual\n",
        "* YOJ Años en el trabajo actual\n",
        "* DEROG Número de informes despectivos importantes\n",
        "* DELINQ Número de líneas de crédito morosas\n",
        "* CLAGE Antigüedad de la línea comercial más antigua en meses\n",
        "* NINQ Número de líneas de crédito recientes\n",
        "* CLNO Número de líneas de crédito\n",
        "* DEBTINC Relación deuda-ingresos\n",
        "\n",
        "4 - Es posible que las variables DELINQ y DEBTINC sean determinantes ya que demuestran directamente el perfil de cumplimiento del deudor (DELINQ) y sus posibilidades financieras para el pago de sus obligaciones (DEBTINC) "
      ],
      "metadata": {
        "id": "pPSCV7zuwvqB"
      }
    },
    {
      "cell_type": "markdown",
      "metadata": {
        "id": "s_AYFz77XDhr"
      },
      "source": [
        "## Ejercicio 2: Predicción con Modelos Lineales\n",
        "\n",
        "En este ejercicio se entrenarán modelos lineales de clasificación para predecir la variable objetivo.\n",
        "\n",
        "Para ello, deberán utilizar la clase SGDClassifier de scikit-learn.\n",
        "\n",
        "Documentación:\n",
        "- https://scikit-learn.org/stable/modules/sgd.html\n",
        "- https://scikit-learn.org/stable/modules/generated/sklearn.linear_model.SGDClassifier.html\n"
      ]
    },
    {
      "cell_type": "markdown",
      "metadata": {
        "id": "CLGIf5-2XDhs"
      },
      "source": [
        "### Ejercicio 2.1: SGDClassifier con hiperparámetros por defecto\n",
        "\n",
        "Entrenar y evaluar el clasificador SGDClassifier usando los valores por omisión de scikit-learn para todos los parámetros. Únicamente **fijar la semilla aleatoria** para hacer repetible el experimento.\n",
        "\n",
        "Evaluar sobre el conjunto de **entrenamiento** y sobre el conjunto de **evaluación**, reportando:\n",
        "- Accuracy\n",
        "- Precision\n",
        "- Recall\n",
        "- F1\n",
        "- matriz de confusión"
      ]
    },
    {
      "cell_type": "code",
      "source": [
        "X_train"
      ],
      "metadata": {
        "colab": {
          "base_uri": "https://localhost:8080/",
          "height": 402
        },
        "id": "kUF75mkQTORf",
        "outputId": "3386cdd2-728c-4737-92f3-9facad6ec4a0"
      },
      "execution_count": null,
      "outputs": [
        {
          "output_type": "execute_result",
          "data": {
            "text/plain": [
              "       LOAN   MORTDUE     VALUE   YOJ  DEROG  DELINQ       CLAGE  NINQ  CLNO  \\\n",
              "1240   9400   92340.0  125451.0   7.0    0.0     0.0  129.113725   1.0  22.0   \n",
              "1183  14800   43983.0   60826.0   4.0    1.0     1.0  113.897967   1.0   9.0   \n",
              "692   20100   59726.0   79982.0   8.0    1.0     0.0   74.210759   2.0  28.0   \n",
              "871   25200   73168.0   93608.0   9.0    0.0     0.0  151.121480   0.0  21.0   \n",
              "1353  17000   70039.0  100993.0   7.0    0.0     0.0  261.911317   1.0  11.0   \n",
              "...     ...       ...       ...   ...    ...     ...         ...   ...   ...   \n",
              "835   15900   48563.0   64679.0   4.0    0.0     0.0  156.101381   2.0  12.0   \n",
              "1216  27500  150666.0  192346.0   3.0    0.0     0.0  177.871473   0.0  17.0   \n",
              "1653  12800   54151.0   83828.0  13.0    0.0     0.0  132.160270   0.0  16.0   \n",
              "559   21300   63263.0   94180.0   1.0    0.0     0.0  138.348455   1.0  22.0   \n",
              "684    7800   69662.0   80498.0   4.0    0.0     0.0  100.428331   0.0  14.0   \n",
              "\n",
              "        DEBTINC  \n",
              "1240  36.349975  \n",
              "1183  27.108082  \n",
              "692   36.846922  \n",
              "871   35.590327  \n",
              "1353  36.564330  \n",
              "...         ...  \n",
              "835   27.808547  \n",
              "1216  39.978650  \n",
              "1653  23.477426  \n",
              "559   35.549295  \n",
              "684   42.807342  \n",
              "\n",
              "[1483 rows x 10 columns]"
            ],
            "text/html": [
              "\n",
              "  <div id=\"df-f0d2dfa7-6bbf-4945-b05c-a8a76e0ac03b\">\n",
              "    <div class=\"colab-df-container\">\n",
              "      <div>\n",
              "<style scoped>\n",
              "    .dataframe tbody tr th:only-of-type {\n",
              "        vertical-align: middle;\n",
              "    }\n",
              "\n",
              "    .dataframe tbody tr th {\n",
              "        vertical-align: top;\n",
              "    }\n",
              "\n",
              "    .dataframe thead th {\n",
              "        text-align: right;\n",
              "    }\n",
              "</style>\n",
              "<table border=\"1\" class=\"dataframe\">\n",
              "  <thead>\n",
              "    <tr style=\"text-align: right;\">\n",
              "      <th></th>\n",
              "      <th>LOAN</th>\n",
              "      <th>MORTDUE</th>\n",
              "      <th>VALUE</th>\n",
              "      <th>YOJ</th>\n",
              "      <th>DEROG</th>\n",
              "      <th>DELINQ</th>\n",
              "      <th>CLAGE</th>\n",
              "      <th>NINQ</th>\n",
              "      <th>CLNO</th>\n",
              "      <th>DEBTINC</th>\n",
              "    </tr>\n",
              "  </thead>\n",
              "  <tbody>\n",
              "    <tr>\n",
              "      <th>1240</th>\n",
              "      <td>9400</td>\n",
              "      <td>92340.0</td>\n",
              "      <td>125451.0</td>\n",
              "      <td>7.0</td>\n",
              "      <td>0.0</td>\n",
              "      <td>0.0</td>\n",
              "      <td>129.113725</td>\n",
              "      <td>1.0</td>\n",
              "      <td>22.0</td>\n",
              "      <td>36.349975</td>\n",
              "    </tr>\n",
              "    <tr>\n",
              "      <th>1183</th>\n",
              "      <td>14800</td>\n",
              "      <td>43983.0</td>\n",
              "      <td>60826.0</td>\n",
              "      <td>4.0</td>\n",
              "      <td>1.0</td>\n",
              "      <td>1.0</td>\n",
              "      <td>113.897967</td>\n",
              "      <td>1.0</td>\n",
              "      <td>9.0</td>\n",
              "      <td>27.108082</td>\n",
              "    </tr>\n",
              "    <tr>\n",
              "      <th>692</th>\n",
              "      <td>20100</td>\n",
              "      <td>59726.0</td>\n",
              "      <td>79982.0</td>\n",
              "      <td>8.0</td>\n",
              "      <td>1.0</td>\n",
              "      <td>0.0</td>\n",
              "      <td>74.210759</td>\n",
              "      <td>2.0</td>\n",
              "      <td>28.0</td>\n",
              "      <td>36.846922</td>\n",
              "    </tr>\n",
              "    <tr>\n",
              "      <th>871</th>\n",
              "      <td>25200</td>\n",
              "      <td>73168.0</td>\n",
              "      <td>93608.0</td>\n",
              "      <td>9.0</td>\n",
              "      <td>0.0</td>\n",
              "      <td>0.0</td>\n",
              "      <td>151.121480</td>\n",
              "      <td>0.0</td>\n",
              "      <td>21.0</td>\n",
              "      <td>35.590327</td>\n",
              "    </tr>\n",
              "    <tr>\n",
              "      <th>1353</th>\n",
              "      <td>17000</td>\n",
              "      <td>70039.0</td>\n",
              "      <td>100993.0</td>\n",
              "      <td>7.0</td>\n",
              "      <td>0.0</td>\n",
              "      <td>0.0</td>\n",
              "      <td>261.911317</td>\n",
              "      <td>1.0</td>\n",
              "      <td>11.0</td>\n",
              "      <td>36.564330</td>\n",
              "    </tr>\n",
              "    <tr>\n",
              "      <th>...</th>\n",
              "      <td>...</td>\n",
              "      <td>...</td>\n",
              "      <td>...</td>\n",
              "      <td>...</td>\n",
              "      <td>...</td>\n",
              "      <td>...</td>\n",
              "      <td>...</td>\n",
              "      <td>...</td>\n",
              "      <td>...</td>\n",
              "      <td>...</td>\n",
              "    </tr>\n",
              "    <tr>\n",
              "      <th>835</th>\n",
              "      <td>15900</td>\n",
              "      <td>48563.0</td>\n",
              "      <td>64679.0</td>\n",
              "      <td>4.0</td>\n",
              "      <td>0.0</td>\n",
              "      <td>0.0</td>\n",
              "      <td>156.101381</td>\n",
              "      <td>2.0</td>\n",
              "      <td>12.0</td>\n",
              "      <td>27.808547</td>\n",
              "    </tr>\n",
              "    <tr>\n",
              "      <th>1216</th>\n",
              "      <td>27500</td>\n",
              "      <td>150666.0</td>\n",
              "      <td>192346.0</td>\n",
              "      <td>3.0</td>\n",
              "      <td>0.0</td>\n",
              "      <td>0.0</td>\n",
              "      <td>177.871473</td>\n",
              "      <td>0.0</td>\n",
              "      <td>17.0</td>\n",
              "      <td>39.978650</td>\n",
              "    </tr>\n",
              "    <tr>\n",
              "      <th>1653</th>\n",
              "      <td>12800</td>\n",
              "      <td>54151.0</td>\n",
              "      <td>83828.0</td>\n",
              "      <td>13.0</td>\n",
              "      <td>0.0</td>\n",
              "      <td>0.0</td>\n",
              "      <td>132.160270</td>\n",
              "      <td>0.0</td>\n",
              "      <td>16.0</td>\n",
              "      <td>23.477426</td>\n",
              "    </tr>\n",
              "    <tr>\n",
              "      <th>559</th>\n",
              "      <td>21300</td>\n",
              "      <td>63263.0</td>\n",
              "      <td>94180.0</td>\n",
              "      <td>1.0</td>\n",
              "      <td>0.0</td>\n",
              "      <td>0.0</td>\n",
              "      <td>138.348455</td>\n",
              "      <td>1.0</td>\n",
              "      <td>22.0</td>\n",
              "      <td>35.549295</td>\n",
              "    </tr>\n",
              "    <tr>\n",
              "      <th>684</th>\n",
              "      <td>7800</td>\n",
              "      <td>69662.0</td>\n",
              "      <td>80498.0</td>\n",
              "      <td>4.0</td>\n",
              "      <td>0.0</td>\n",
              "      <td>0.0</td>\n",
              "      <td>100.428331</td>\n",
              "      <td>0.0</td>\n",
              "      <td>14.0</td>\n",
              "      <td>42.807342</td>\n",
              "    </tr>\n",
              "  </tbody>\n",
              "</table>\n",
              "<p>1483 rows × 10 columns</p>\n",
              "</div>\n",
              "      <button class=\"colab-df-convert\" onclick=\"convertToInteractive('df-f0d2dfa7-6bbf-4945-b05c-a8a76e0ac03b')\"\n",
              "              title=\"Convert this dataframe to an interactive table.\"\n",
              "              style=\"display:none;\">\n",
              "        \n",
              "  <svg xmlns=\"http://www.w3.org/2000/svg\" height=\"24px\"viewBox=\"0 0 24 24\"\n",
              "       width=\"24px\">\n",
              "    <path d=\"M0 0h24v24H0V0z\" fill=\"none\"/>\n",
              "    <path d=\"M18.56 5.44l.94 2.06.94-2.06 2.06-.94-2.06-.94-.94-2.06-.94 2.06-2.06.94zm-11 1L8.5 8.5l.94-2.06 2.06-.94-2.06-.94L8.5 2.5l-.94 2.06-2.06.94zm10 10l.94 2.06.94-2.06 2.06-.94-2.06-.94-.94-2.06-.94 2.06-2.06.94z\"/><path d=\"M17.41 7.96l-1.37-1.37c-.4-.4-.92-.59-1.43-.59-.52 0-1.04.2-1.43.59L10.3 9.45l-7.72 7.72c-.78.78-.78 2.05 0 2.83L4 21.41c.39.39.9.59 1.41.59.51 0 1.02-.2 1.41-.59l7.78-7.78 2.81-2.81c.8-.78.8-2.07 0-2.86zM5.41 20L4 18.59l7.72-7.72 1.47 1.35L5.41 20z\"/>\n",
              "  </svg>\n",
              "      </button>\n",
              "      \n",
              "  <style>\n",
              "    .colab-df-container {\n",
              "      display:flex;\n",
              "      flex-wrap:wrap;\n",
              "      gap: 12px;\n",
              "    }\n",
              "\n",
              "    .colab-df-convert {\n",
              "      background-color: #E8F0FE;\n",
              "      border: none;\n",
              "      border-radius: 50%;\n",
              "      cursor: pointer;\n",
              "      display: none;\n",
              "      fill: #1967D2;\n",
              "      height: 32px;\n",
              "      padding: 0 0 0 0;\n",
              "      width: 32px;\n",
              "    }\n",
              "\n",
              "    .colab-df-convert:hover {\n",
              "      background-color: #E2EBFA;\n",
              "      box-shadow: 0px 1px 2px rgba(60, 64, 67, 0.3), 0px 1px 3px 1px rgba(60, 64, 67, 0.15);\n",
              "      fill: #174EA6;\n",
              "    }\n",
              "\n",
              "    [theme=dark] .colab-df-convert {\n",
              "      background-color: #3B4455;\n",
              "      fill: #D2E3FC;\n",
              "    }\n",
              "\n",
              "    [theme=dark] .colab-df-convert:hover {\n",
              "      background-color: #434B5C;\n",
              "      box-shadow: 0px 1px 3px 1px rgba(0, 0, 0, 0.15);\n",
              "      filter: drop-shadow(0px 1px 2px rgba(0, 0, 0, 0.3));\n",
              "      fill: #FFFFFF;\n",
              "    }\n",
              "  </style>\n",
              "\n",
              "      <script>\n",
              "        const buttonEl =\n",
              "          document.querySelector('#df-f0d2dfa7-6bbf-4945-b05c-a8a76e0ac03b button.colab-df-convert');\n",
              "        buttonEl.style.display =\n",
              "          google.colab.kernel.accessAllowed ? 'block' : 'none';\n",
              "\n",
              "        async function convertToInteractive(key) {\n",
              "          const element = document.querySelector('#df-f0d2dfa7-6bbf-4945-b05c-a8a76e0ac03b');\n",
              "          const dataTable =\n",
              "            await google.colab.kernel.invokeFunction('convertToInteractive',\n",
              "                                                     [key], {});\n",
              "          if (!dataTable) return;\n",
              "\n",
              "          const docLinkHtml = 'Like what you see? Visit the ' +\n",
              "            '<a target=\"_blank\" href=https://colab.research.google.com/notebooks/data_table.ipynb>data table notebook</a>'\n",
              "            + ' to learn more about interactive tables.';\n",
              "          element.innerHTML = '';\n",
              "          dataTable['output_type'] = 'display_data';\n",
              "          await google.colab.output.renderOutput(dataTable, element);\n",
              "          const docLink = document.createElement('div');\n",
              "          docLink.innerHTML = docLinkHtml;\n",
              "          element.appendChild(docLink);\n",
              "        }\n",
              "      </script>\n",
              "    </div>\n",
              "  </div>\n",
              "  "
            ]
          },
          "metadata": {},
          "execution_count": 9
        }
      ]
    },
    {
      "cell_type": "markdown",
      "source": [
        "Escalamos el conjunto de datos para asegurarnos de trabajar con las mismas unidades"
      ],
      "metadata": {
        "id": "ns0F48ddqCTq"
      }
    },
    {
      "cell_type": "code",
      "source": [
        "scaler = StandardScaler()\n",
        "scaler.fit(X_train)  # Conjunto de entrenamiento\n",
        "X_strain = scaler.transform(X_train)\n",
        "X_stest = scaler.transform(X_test)  # Conjunto de evaluación"
      ],
      "metadata": {
        "id": "6RVec7LR-JWl"
      },
      "execution_count": null,
      "outputs": []
    },
    {
      "cell_type": "code",
      "source": [
        "X_strain[:5]"
      ],
      "metadata": {
        "colab": {
          "base_uri": "https://localhost:8080/"
        },
        "id": "oaC8xY-xLjab",
        "outputId": "53b5c78e-0f63-4ff9-b2f0-0a1a635a8089"
      },
      "execution_count": null,
      "outputs": [
        {
          "output_type": "execute_result",
          "data": {
            "text/plain": [
              "array([[-0.89464329,  0.34675153,  0.32803449, -0.25726917, -0.26735276,\n",
              "        -0.35294616, -0.5906536 , -0.08372809,  0.01491453,  0.18943088],\n",
              "       [-0.39242591, -0.70494363, -0.84180806, -0.65332125,  1.16918399,\n",
              "         0.72849838, -0.76881445, -0.08372809, -1.36086145, -0.77692918],\n",
              "       [ 0.10049114, -0.36255603, -0.49504591, -0.1252518 ,  1.16918399,\n",
              "        -0.35294616, -1.23351075,  0.51038079,  0.64988805,  0.24139317],\n",
              "       [ 0.57480754, -0.07021188, -0.24838789,  0.00676556, -0.26735276,\n",
              "        -0.35294616, -0.33296547, -0.67783696, -0.09091439,  0.10999982],\n",
              "       [-0.18781884, -0.13826313, -0.11470453, -0.25726917, -0.26735276,\n",
              "        -0.35294616,  0.96426935, -0.08372809, -1.1492036 ,  0.21184456]])"
            ]
          },
          "metadata": {},
          "execution_count": 11
        }
      ]
    },
    {
      "cell_type": "code",
      "source": [
        "import itertools\n",
        "import matplotlib.pyplot as plt\n",
        "from sklearn.utils.multiclass import unique_labels\n",
        "\n",
        "def plot_confusion_matrix(y_verd, y_pred, classes,\n",
        "                          normalize=False,\n",
        "                          title=None,\n",
        "                          cmap=plt.cm.Blues,\n",
        "                          ax=None):\n",
        "    \"\"\"\n",
        "    This function prints and plots the confusion matrix.\n",
        "    Normalization can be applied by setting `normalize=True`.\n",
        "    \"\"\"\n",
        "    cm = confusion_matrix(y_verd, y_pred)\n",
        "    classes = classes[unique_labels(y_verd, y_pred)]\n",
        "    if normalize:\n",
        "        cm = cm.astype('float') / cm.sum(axis=1)[:, np.newaxis]\n",
        "    \n",
        "    if ax == None:\n",
        "        fig, ax = plt.subplots()    \n",
        "\n",
        "\n",
        "    am = ax.imshow(cm, interpolation='nearest', cmap=cmap)\n",
        "    ax.figure.colorbar(am, ax=ax)\n",
        "    ax.set(xticks=np.arange(cm.shape[1]),\n",
        "           yticks=np.arange(cm.shape[0]),\n",
        "           xticklabels=classes, yticklabels=classes,\n",
        "           ylabel='Etiqueta correcta',\n",
        "           xlabel='Etiqueta predicha',\n",
        "           title=title,)\n",
        "\n",
        "    \n",
        "\n",
        "    fmt = '.2f' if normalize else 'd'\n",
        "    thresh = cm.max() / 2.\n",
        "    for i, j in itertools.product(range(cm.shape[0]), range(cm.shape[1])):\n",
        "        ax.text(j, i, format(cm[i, j], fmt),\n",
        "                 horizontalalignment=\"center\",\n",
        "                 color=\"white\" if cm[i, j] > thresh else \"black\")\n",
        "    \n",
        "    plt.setp(ax.get_xticklabels(), rotation=45, ha=\"right\",\n",
        "             rotation_mode=\"anchor\")\n",
        "    return ax"
      ],
      "metadata": {
        "id": "ZPtfrkExWquO"
      },
      "execution_count": null,
      "outputs": []
    },
    {
      "cell_type": "code",
      "source": [
        "from sklearn.linear_model import SGDClassifier\n",
        "model = SGDClassifier(random_state=22)\n",
        "model.fit(X_strain, y_train)\n",
        "y_train_pred = model.predict(X_strain)\n",
        "y_test_pred = model.predict(X_stest)"
      ],
      "metadata": {
        "id": "IrZkYWMgW0fw"
      },
      "execution_count": null,
      "outputs": []
    },
    {
      "cell_type": "code",
      "source": [
        "train_acc = accuracy_score(y_train, y_train_pred)\n",
        "test_acc = accuracy_score(y_test, y_test_pred)\n",
        "print(f'Train accuracy: {train_acc:0.3}')\n",
        "print(f'Test accuracy: {test_acc:0.3}')"
      ],
      "metadata": {
        "colab": {
          "base_uri": "https://localhost:8080/"
        },
        "id": "KDuIK3GOguca",
        "outputId": "6545a5ee-3ca9-447e-defb-ce2c68376f7e"
      },
      "execution_count": null,
      "outputs": [
        {
          "output_type": "stream",
          "name": "stdout",
          "text": [
            "Train accuracy: 0.861\n",
            "Test accuracy: 0.857\n"
          ]
        }
      ]
    },
    {
      "cell_type": "code",
      "source": [
        "print(classification_report(y_train, y_train_pred))"
      ],
      "metadata": {
        "colab": {
          "base_uri": "https://localhost:8080/"
        },
        "id": "zYWhJEy1g8ra",
        "outputId": "4e94b003-9135-4483-cbab-7b60aa515a9c"
      },
      "execution_count": null,
      "outputs": [
        {
          "output_type": "stream",
          "name": "stdout",
          "text": [
            "              precision    recall  f1-score   support\n",
            "\n",
            "           0       0.87      0.98      0.92      1232\n",
            "           1       0.71      0.30      0.42       251\n",
            "\n",
            "    accuracy                           0.86      1483\n",
            "   macro avg       0.79      0.64      0.67      1483\n",
            "weighted avg       0.85      0.86      0.84      1483\n",
            "\n"
          ]
        }
      ]
    },
    {
      "cell_type": "code",
      "source": [
        "print(classification_report(y_test, y_test_pred))"
      ],
      "metadata": {
        "colab": {
          "base_uri": "https://localhost:8080/"
        },
        "id": "xsro3nGoj7pl",
        "outputId": "2faea605-69ac-4ea1-e30e-f0c1237287e7"
      },
      "execution_count": null,
      "outputs": [
        {
          "output_type": "stream",
          "name": "stdout",
          "text": [
            "              precision    recall  f1-score   support\n",
            "\n",
            "           0       0.87      0.97      0.92       313\n",
            "           1       0.62      0.22      0.33        58\n",
            "\n",
            "    accuracy                           0.86       371\n",
            "   macro avg       0.75      0.60      0.62       371\n",
            "weighted avg       0.83      0.86      0.83       371\n",
            "\n"
          ]
        }
      ]
    },
    {
      "cell_type": "code",
      "source": [
        "plot_confusion_matrix(y_train, y_train_pred,\n",
        "                      classes=dataset.TARGET.unique(), title=\"Conjunto de Entrenamiento\")\n",
        "print(\"     \")\n",
        "plot_confusion_matrix(y_test, y_test_pred,\n",
        "                      classes=dataset.TARGET.unique(), title=\"Conjunto de Evaluación\");\n",
        "#plt.tight_layout(h_pad=5, w_pad=5)"
      ],
      "metadata": {
        "colab": {
          "base_uri": "https://localhost:8080/",
          "height": 594
        },
        "id": "JmhE6V2UQs9s",
        "outputId": "56455aa5-33db-4323-a736-939149556a30"
      },
      "execution_count": null,
      "outputs": [
        {
          "output_type": "stream",
          "name": "stdout",
          "text": [
            "     \n"
          ]
        },
        {
          "output_type": "display_data",
          "data": {
            "text/plain": [
              "<Figure size 432x288 with 2 Axes>"
            ],
            "image/png": "[encoded data removed]"
          },
          "metadata": {
            "needs_background": "light"
          }
        },
        {
          "output_type": "display_data",
          "data": {
            "text/plain": [
              "<Figure size 432x288 with 2 Axes>"
            ],
            "image/png": "[encoded data removed]"
          },
          "metadata": {
            "needs_background": "light"
          }
        }
      ]
    },
    {
      "cell_type": "markdown",
      "source": [
        "## Conclusiones Ejercicio 2.1\n",
        "\n",
        "&nbsp;&nbsp;&nbsp;&nbsp;&nbsp;&nbsp;&nbsp;&nbsp;Para el presente trabajo, es importante detectar los solicitantes que posiblemente no pagarán sus obligaciones crediticias. Tanto el indicador Recall como Precision mostraron valores muy bajos para la predicción de futuros morosos. Sin embargo, el indicador **Recall es más relevante que el indicador Precision**, ya que Recall me indica la capacidad del modelo para predecir solicitantes que no pagarán el préstamo, sobre la totalidad de los que realmente no pagarán. Precision en cambio, me indica la capacidad del modelo de predecir solicitantes que no pagarán, sobre la totalidad de los que predije que no pagarán. En este último caso, el problema está en negarles el préstamo a quienes realmente lo pagarían.\n",
        "\n",
        "&nbsp;&nbsp;&nbsp;&nbsp;&nbsp;&nbsp;&nbsp;&nbsp;Otro indicador importante que normalmente se usa es **Accuracy**. Sin embargo, este indicador no es recomendable en casos donde el conjunto de datos tiene desbalanceados los registros entre etiquetas, como es el caso del presente dataset. Justamente aquí se da el caso que Accuracy es relativamente alto (0.8) y sin embargo el modelo es muy malo para predecir los solicitantes que no pagarán sus préstamos.\n",
        "\n",
        "&nbsp;&nbsp;&nbsp;&nbsp;&nbsp;&nbsp;&nbsp;&nbsp;Finalmente, podemos nombrar a **F1-Score** como un indicador interesante por su balance entre Precision y Recall, sin verse afectado por el desbalance en las etiquetas reales del conjunto de datos. No obstante, para el caso específico de este dataset, Recall es el indicador más efectivo para evaluar la calidad del modelo en función de los objetivos del banco.  "
      ],
      "metadata": {
        "id": "u3reuFoSTUxe"
      }
    },
    {
      "cell_type": "markdown",
      "source": [
        "![image.png](data:image/png;base64,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) Fte:https://steemit.com/spanish/@waster/explicacion-alternativa-para-accuracy-precision-recall-y-f1-score"
      ],
      "metadata": {
        "id": "ngvU0vwzFZu0"
      }
    },
    {
      "cell_type": "markdown",
      "metadata": {
        "id": "lTBJbaTDXDhs"
      },
      "source": [
        "### Ejercicio 2.2: Ajuste de Hiperparámetros\n",
        "\n",
        "Seleccionar valores para los hiperparámetros principales del SGDClassifier. Como mínimo, probar diferentes funciones de loss, tasas de entrenamiento y tasas de regularización.\n",
        "\n",
        "Para ello, usar grid-search y 5-fold cross-validation sobre el conjunto de entrenamiento para explorar muchas combinaciones posibles de valores.\n",
        "\n",
        "Reportar accuracy promedio y varianza para todas las configuraciones.\n",
        "\n",
        "Para la mejor configuración encontrada, evaluar sobre el conjunto de **entrenamiento** y sobre el conjunto de **evaluación**, reportando:\n",
        "- Accuracy\n",
        "- Precision\n",
        "- Recall\n",
        "- F1\n",
        "- matriz de confusión\n",
        "\n",
        "Documentación:\n",
        "- https://scikit-learn.org/stable/modules/grid_search.html\n",
        "- https://scikit-learn.org/stable/modules/generated/sklearn.model_selection.GridSearchCV.html"
      ]
    },
    {
      "cell_type": "markdown",
      "source": [
        "Obtenemos párametros por defecto de la clase SGDClassifier"
      ],
      "metadata": {
        "id": "A9ZahXHCe4wJ"
      }
    },
    {
      "cell_type": "code",
      "source": [
        "SGDClassifier().get_params()"
      ],
      "metadata": {
        "id": "ux2e_6-2etU3",
        "outputId": "e4526203-09e7-4fc2-d272-87eabd9ada3f",
        "colab": {
          "base_uri": "https://localhost:8080/"
        }
      },
      "execution_count": null,
      "outputs": [
        {
          "output_type": "execute_result",
          "data": {
            "text/plain": [
              "{'alpha': 0.0001,\n",
              " 'average': False,\n",
              " 'class_weight': None,\n",
              " 'early_stopping': False,\n",
              " 'epsilon': 0.1,\n",
              " 'eta0': 0.0,\n",
              " 'fit_intercept': True,\n",
              " 'l1_ratio': 0.15,\n",
              " 'learning_rate': 'optimal',\n",
              " 'loss': 'hinge',\n",
              " 'max_iter': 1000,\n",
              " 'n_iter_no_change': 5,\n",
              " 'n_jobs': None,\n",
              " 'penalty': 'l2',\n",
              " 'power_t': 0.5,\n",
              " 'random_state': None,\n",
              " 'shuffle': True,\n",
              " 'tol': 0.001,\n",
              " 'validation_fraction': 0.1,\n",
              " 'verbose': 0,\n",
              " 'warm_start': False}"
            ]
          },
          "metadata": {},
          "execution_count": 18
        }
      ]
    },
    {
      "cell_type": "markdown",
      "source": [
        "Trabajamos con las siguientes funciones de coste:\n",
        "\n",
        "\n",
        "*   hinge = regresión lineal\n",
        "*   log = regresión logística\n",
        "*   perceptron = algoritmo perceptron\n",
        "\n",
        "\n",
        "\n"
      ],
      "metadata": {
        "id": "yBDgxNzihi49"
      }
    },
    {
      "cell_type": "markdown",
      "source": [
        "En el siguiente código utilizamos distintos parámetros para obtener las mejores combinaciones para las tres funciones de coste detalladas en la parte superior."
      ],
      "metadata": {
        "id": "W7WRSQ0joCP-"
      }
    },
    {
      "cell_type": "code",
      "source": [
        "fig, ax1 = plt.subplots(1,3,figsize=(16, 4))\n",
        "for i, loss in enumerate(('hinge','log','perceptron')):\n",
        "    param_grid1 = {\n",
        "     'learning_rate': ['adaptive'],\n",
        "      'penalty':['l1','l2'],\n",
        "        'eta0': [1.e-05, 1.e-04, 1.e-03, 1.e-02, 1.e-01, 1.e+00, 1.e+01, 1.e+02],  \n",
        "        'alpha': [1.e-05, 1.e-04, 1.e-03, 1.e-02, 1.e-01, 1.e+00, 1.e+01, 1.e+02]\n",
        "    }\n",
        "    modelx = linear_model.SGDClassifier(random_state=22,loss=loss)\n",
        "    cvx = GridSearchCV(modelx, param_grid1, cv=5, scoring='accuracy')\n",
        "    cvx.fit(X_strain, y_train)\n",
        "    \n",
        "    print(\"*********************************************************\")\n",
        "    print(\"****Hiperparámetros para función de coste\",loss,\"*********\")\n",
        "    print(\"Mejor conjunto de parámetros:\")\n",
        "    print(cvx.best_params_)\n",
        "    print(\"Train dataset accuracy: %0.03f\" % cvx.score(X_strain,y_train))\n",
        "\n",
        "#Predecimos valores \"y\" del conj de entrenamiento\n",
        "    y_train_predx = cvx.predict(X_strain)\n",
        "\n",
        " #Predecimos valores \"y\" del conj de evaluación \n",
        "    y_test_predx = cvx.predict(X_stest)\n",
        "\n",
        "    print(\"****Reporte de clasificación sobre conjunto de entrenamiento (métricas)*****\") \n",
        "    print(classification_report(y_train, y_train_predx)) \n",
        "\n",
        "    \n",
        "    plot_confusion_matrix(y_train, y_train_predx, classes=dataset.TARGET.unique(),\n",
        "                         ax=ax1[i],title=\"Matriz de confusión para %s\" % loss)\n",
        "     "
      ],
      "metadata": {
        "colab": {
          "base_uri": "https://localhost:8080/",
          "height": 1000
        },
        "id": "sMrcKkfjnvFE",
        "outputId": "7a322fc1-767e-4c7d-9a42-81c55bd5d65d"
      },
      "execution_count": null,
      "outputs": [
        {
          "output_type": "stream",
          "name": "stdout",
          "text": [
            "*********************************************************\n",
            "****Hiperparámetros para función de coste hinge *********\n",
            "Mejor conjunto de parámetros:\n",
            "{'alpha': 0.01, 'eta0': 0.1, 'learning_rate': 'adaptive', 'penalty': 'l2'}\n",
            "Train dataset accuracy: 0.873\n",
            "****Reporte de clasificación sobre conjunto de entrenamiento (métricas)*****\n",
            "              precision    recall  f1-score   support\n",
            "\n",
            "           0       0.87      1.00      0.93      1232\n",
            "           1       0.92      0.27      0.42       251\n",
            "\n",
            "    accuracy                           0.87      1483\n",
            "   macro avg       0.90      0.64      0.68      1483\n",
            "weighted avg       0.88      0.87      0.84      1483\n",
            "\n",
            "*********************************************************\n",
            "****Hiperparámetros para función de coste log *********\n",
            "Mejor conjunto de parámetros:\n",
            "{'alpha': 1e-05, 'eta0': 10.0, 'learning_rate': 'adaptive', 'penalty': 'l1'}\n",
            "Train dataset accuracy: 0.873\n",
            "****Reporte de clasificación sobre conjunto de entrenamiento (métricas)*****\n",
            "              precision    recall  f1-score   support\n",
            "\n",
            "           0       0.88      0.98      0.93      1232\n",
            "           1       0.81      0.33      0.47       251\n",
            "\n",
            "    accuracy                           0.87      1483\n",
            "   macro avg       0.84      0.66      0.70      1483\n",
            "weighted avg       0.87      0.87      0.85      1483\n",
            "\n",
            "*********************************************************\n",
            "****Hiperparámetros para función de coste perceptron *********\n",
            "Mejor conjunto de parámetros:\n",
            "{'alpha': 0.0001, 'eta0': 0.1, 'learning_rate': 'adaptive', 'penalty': 'l1'}\n",
            "Train dataset accuracy: 0.831\n",
            "****Reporte de clasificación sobre conjunto de entrenamiento (métricas)*****\n",
            "              precision    recall  f1-score   support\n",
            "\n",
            "           0       0.86      0.95      0.90      1232\n",
            "           1       0.50      0.26      0.34       251\n",
            "\n",
            "    accuracy                           0.83      1483\n",
            "   macro avg       0.68      0.60      0.62      1483\n",
            "weighted avg       0.80      0.83      0.81      1483\n",
            "\n"
          ]
        },
        {
          "output_type": "display_data",
          "data": {
            "text/plain": [
              "<Figure size 1152x288 with 6 Axes>"
            ],
            "image/png": "[encoded data removed]"
          },
          "metadata": {
            "needs_background": "light"
          }
        }
      ]
    },
    {
      "cell_type": "markdown",
      "source": [
        "###Reportamos accuracy promedio y varianza para todas las configuraciones."
      ],
      "metadata": {
        "id": "sBoNx6mnbkhQ"
      }
    },
    {
      "cell_type": "code",
      "source": [
        "results = cvx.cv_results_\n",
        "df = pd.DataFrame(results)\n",
        "df2 = df[['param_alpha','param_eta0','param_learning_rate', 'mean_test_score', 'std_test_score', 'param_penalty', 'rank_test_score']]"
      ],
      "metadata": {
        "id": "5oDH2dDIYTQm"
      },
      "execution_count": null,
      "outputs": []
    },
    {
      "cell_type": "code",
      "source": [
        "df2.sort_values('rank_test_score').head(10)"
      ],
      "metadata": {
        "id": "jd-0kO8PKldQ",
        "colab": {
          "base_uri": "https://localhost:8080/",
          "height": 407
        },
        "outputId": "6cdbde01-ef72-4ca1-a49e-a7109e395e11"
      },
      "execution_count": null,
      "outputs": [
        {
          "output_type": "execute_result",
          "data": {
            "text/plain": [
              "   param_alpha param_eta0 param_learning_rate  mean_test_score  \\\n",
              "24      0.0001        0.1            adaptive         0.863796   \n",
              "65         0.1    0.00001            adaptive         0.851003   \n",
              "12     0.00001       10.0            adaptive         0.848289   \n",
              "83         1.0     0.0001            adaptive         0.848273   \n",
              "58        0.01        1.0            adaptive         0.847623   \n",
              "42       0.001        1.0            adaptive         0.846251   \n",
              "20      0.0001      0.001            adaptive         0.844884   \n",
              "51        0.01     0.0001            adaptive         0.843564   \n",
              "16      0.0001    0.00001            adaptive         0.842891   \n",
              "54        0.01       0.01            adaptive         0.842204   \n",
              "\n",
              "    std_test_score param_penalty  rank_test_score  \n",
              "24        0.007148            l1                1  \n",
              "65        0.016760            l2                2  \n",
              "12        0.035473            l1                3  \n",
              "83        0.011580            l2                4  \n",
              "58        0.026693            l1                5  \n",
              "42        0.008281            l1                6  \n",
              "20        0.018919            l1                7  \n",
              "51        0.020750            l2                8  \n",
              "16        0.011935            l1                9  \n",
              "54        0.012067            l1               10  "
            ],
            "text/html": [
              "\n",
              "  <div id=\"df-aa97dafa-c1ee-4873-8255-0d06f1f5e3bb\">\n",
              "    <div class=\"colab-df-container\">\n",
              "      <div>\n",
              "<style scoped>\n",
              "    .dataframe tbody tr th:only-of-type {\n",
              "        vertical-align: middle;\n",
              "    }\n",
              "\n",
              "    .dataframe tbody tr th {\n",
              "        vertical-align: top;\n",
              "    }\n",
              "\n",
              "    .dataframe thead th {\n",
              "        text-align: right;\n",
              "    }\n",
              "</style>\n",
              "<table border=\"1\" class=\"dataframe\">\n",
              "  <thead>\n",
              "    <tr style=\"text-align: right;\">\n",
              "      <th></th>\n",
              "      <th>param_alpha</th>\n",
              "      <th>param_eta0</th>\n",
              "      <th>param_learning_rate</th>\n",
              "      <th>mean_test_score</th>\n",
              "      <th>std_test_score</th>\n",
              "      <th>param_penalty</th>\n",
              "      <th>rank_test_score</th>\n",
              "    </tr>\n",
              "  </thead>\n",
              "  <tbody>\n",
              "    <tr>\n",
              "      <th>24</th>\n",
              "      <td>0.0001</td>\n",
              "      <td>0.1</td>\n",
              "      <td>adaptive</td>\n",
              "      <td>0.863796</td>\n",
              "      <td>0.007148</td>\n",
              "      <td>l1</td>\n",
              "      <td>1</td>\n",
              "    </tr>\n",
              "    <tr>\n",
              "      <th>65</th>\n",
              "      <td>0.1</td>\n",
              "      <td>0.00001</td>\n",
              "      <td>adaptive</td>\n",
              "      <td>0.851003</td>\n",
              "      <td>0.016760</td>\n",
              "      <td>l2</td>\n",
              "      <td>2</td>\n",
              "    </tr>\n",
              "    <tr>\n",
              "      <th>12</th>\n",
              "      <td>0.00001</td>\n",
              "      <td>10.0</td>\n",
              "      <td>adaptive</td>\n",
              "      <td>0.848289</td>\n",
              "      <td>0.035473</td>\n",
              "      <td>l1</td>\n",
              "      <td>3</td>\n",
              "    </tr>\n",
              "    <tr>\n",
              "      <th>83</th>\n",
              "      <td>1.0</td>\n",
              "      <td>0.0001</td>\n",
              "      <td>adaptive</td>\n",
              "      <td>0.848273</td>\n",
              "      <td>0.011580</td>\n",
              "      <td>l2</td>\n",
              "      <td>4</td>\n",
              "    </tr>\n",
              "    <tr>\n",
              "      <th>58</th>\n",
              "      <td>0.01</td>\n",
              "      <td>1.0</td>\n",
              "      <td>adaptive</td>\n",
              "      <td>0.847623</td>\n",
              "      <td>0.026693</td>\n",
              "      <td>l1</td>\n",
              "      <td>5</td>\n",
              "    </tr>\n",
              "    <tr>\n",
              "      <th>42</th>\n",
              "      <td>0.001</td>\n",
              "      <td>1.0</td>\n",
              "      <td>adaptive</td>\n",
              "      <td>0.846251</td>\n",
              "      <td>0.008281</td>\n",
              "      <td>l1</td>\n",
              "      <td>6</td>\n",
              "    </tr>\n",
              "    <tr>\n",
              "      <th>20</th>\n",
              "      <td>0.0001</td>\n",
              "      <td>0.001</td>\n",
              "      <td>adaptive</td>\n",
              "      <td>0.844884</td>\n",
              "      <td>0.018919</td>\n",
              "      <td>l1</td>\n",
              "      <td>7</td>\n",
              "    </tr>\n",
              "    <tr>\n",
              "      <th>51</th>\n",
              "      <td>0.01</td>\n",
              "      <td>0.0001</td>\n",
              "      <td>adaptive</td>\n",
              "      <td>0.843564</td>\n",
              "      <td>0.020750</td>\n",
              "      <td>l2</td>\n",
              "      <td>8</td>\n",
              "    </tr>\n",
              "    <tr>\n",
              "      <th>16</th>\n",
              "      <td>0.0001</td>\n",
              "      <td>0.00001</td>\n",
              "      <td>adaptive</td>\n",
              "      <td>0.842891</td>\n",
              "      <td>0.011935</td>\n",
              "      <td>l1</td>\n",
              "      <td>9</td>\n",
              "    </tr>\n",
              "    <tr>\n",
              "      <th>54</th>\n",
              "      <td>0.01</td>\n",
              "      <td>0.01</td>\n",
              "      <td>adaptive</td>\n",
              "      <td>0.842204</td>\n",
              "      <td>0.012067</td>\n",
              "      <td>l1</td>\n",
              "      <td>10</td>\n",
              "    </tr>\n",
              "  </tbody>\n",
              "</table>\n",
              "</div>\n",
              "      <button class=\"colab-df-convert\" onclick=\"convertToInteractive('df-aa97dafa-c1ee-4873-8255-0d06f1f5e3bb')\"\n",
              "              title=\"Convert this dataframe to an interactive table.\"\n",
              "              style=\"display:none;\">\n",
              "        \n",
              "  <svg xmlns=\"http://www.w3.org/2000/svg\" height=\"24px\"viewBox=\"0 0 24 24\"\n",
              "       width=\"24px\">\n",
              "    <path d=\"M0 0h24v24H0V0z\" fill=\"none\"/>\n",
              "    <path d=\"M18.56 5.44l.94 2.06.94-2.06 2.06-.94-2.06-.94-.94-2.06-.94 2.06-2.06.94zm-11 1L8.5 8.5l.94-2.06 2.06-.94-2.06-.94L8.5 2.5l-.94 2.06-2.06.94zm10 10l.94 2.06.94-2.06 2.06-.94-2.06-.94-.94-2.06-.94 2.06-2.06.94z\"/><path d=\"M17.41 7.96l-1.37-1.37c-.4-.4-.92-.59-1.43-.59-.52 0-1.04.2-1.43.59L10.3 9.45l-7.72 7.72c-.78.78-.78 2.05 0 2.83L4 21.41c.39.39.9.59 1.41.59.51 0 1.02-.2 1.41-.59l7.78-7.78 2.81-2.81c.8-.78.8-2.07 0-2.86zM5.41 20L4 18.59l7.72-7.72 1.47 1.35L5.41 20z\"/>\n",
              "  </svg>\n",
              "      </button>\n",
              "      \n",
              "  <style>\n",
              "    .colab-df-container {\n",
              "      display:flex;\n",
              "      flex-wrap:wrap;\n",
              "      gap: 12px;\n",
              "    }\n",
              "\n",
              "    .colab-df-convert {\n",
              "      background-color: #E8F0FE;\n",
              "      border: none;\n",
              "      border-radius: 50%;\n",
              "      cursor: pointer;\n",
              "      display: none;\n",
              "      fill: #1967D2;\n",
              "      height: 32px;\n",
              "      padding: 0 0 0 0;\n",
              "      width: 32px;\n",
              "    }\n",
              "\n",
              "    .colab-df-convert:hover {\n",
              "      background-color: #E2EBFA;\n",
              "      box-shadow: 0px 1px 2px rgba(60, 64, 67, 0.3), 0px 1px 3px 1px rgba(60, 64, 67, 0.15);\n",
              "      fill: #174EA6;\n",
              "    }\n",
              "\n",
              "    [theme=dark] .colab-df-convert {\n",
              "      background-color: #3B4455;\n",
              "      fill: #D2E3FC;\n",
              "    }\n",
              "\n",
              "    [theme=dark] .colab-df-convert:hover {\n",
              "      background-color: #434B5C;\n",
              "      box-shadow: 0px 1px 3px 1px rgba(0, 0, 0, 0.15);\n",
              "      filter: drop-shadow(0px 1px 2px rgba(0, 0, 0, 0.3));\n",
              "      fill: #FFFFFF;\n",
              "    }\n",
              "  </style>\n",
              "\n",
              "      <script>\n",
              "        const buttonEl =\n",
              "          document.querySelector('#df-aa97dafa-c1ee-4873-8255-0d06f1f5e3bb button.colab-df-convert');\n",
              "        buttonEl.style.display =\n",
              "          google.colab.kernel.accessAllowed ? 'block' : 'none';\n",
              "\n",
              "        async function convertToInteractive(key) {\n",
              "          const element = document.querySelector('#df-aa97dafa-c1ee-4873-8255-0d06f1f5e3bb');\n",
              "          const dataTable =\n",
              "            await google.colab.kernel.invokeFunction('convertToInteractive',\n",
              "                                                     [key], {});\n",
              "          if (!dataTable) return;\n",
              "\n",
              "          const docLinkHtml = 'Like what you see? Visit the ' +\n",
              "            '<a target=\"_blank\" href=https://colab.research.google.com/notebooks/data_table.ipynb>data table notebook</a>'\n",
              "            + ' to learn more about interactive tables.';\n",
              "          element.innerHTML = '';\n",
              "          dataTable['output_type'] = 'display_data';\n",
              "          await google.colab.output.renderOutput(dataTable, element);\n",
              "          const docLink = document.createElement('div');\n",
              "          docLink.innerHTML = docLinkHtml;\n",
              "          element.appendChild(docLink);\n",
              "        }\n",
              "      </script>\n",
              "    </div>\n",
              "  </div>\n",
              "  "
            ]
          },
          "metadata": {},
          "execution_count": 21
        }
      ]
    },
    {
      "cell_type": "markdown",
      "source": [
        "####Con la mejor configuración encontrada (hinge,'alpha': 0.1, 'eta0': 10.0, 'learning_rate': 'adaptive', 'penalty': 'l2'), evaluamos sobre el conjunto de entrenamiento (X_train,y_train) y sobre el conjunto de evaluación (x_test,y_test)."
      ],
      "metadata": {
        "id": "uDYwCbzybB0E"
      }
    },
    {
      "cell_type": "code",
      "source": [
        "#Entrenamos el modelo\n",
        "modelb = linear_model.SGDClassifier(random_state=22, loss='hinge', alpha= 0.1, eta0=10.0, \n",
        "                                    learning_rate='adaptive', penalty='l2')\n",
        "modelb.fit(X_strain, y_train)\n",
        "print(\"Train dataset accuracy: %0.03f\" % modelb.score(X_strain,y_train))\n",
        "\n",
        "#Predecimos valores \"y\" del conj de entrenamiento\n",
        "y_train_predb = modelb.predict(X_strain)\n",
        "\n",
        "#Predecimos valores \"y\" del conj de evaluación\n",
        "y_test_predb = modelb.predict(X_stest)\n",
        "\n",
        "print(\"****Reporte de clasificación sobre conjunto de entrenamiento (métricas)*****\") \n",
        "print(classification_report(y_train, y_train_predb))\n",
        "print(\"-----------------------------------------------------------------\")\n",
        "print(\"Test dataset accuracy: %0.03f\" % modelb.score(X_stest,y_test))\n",
        "print(\"****Reporte de clasificación sobre conjunto de evaluación (métricas)*****\") \n",
        "print(classification_report(y_test, y_test_predb)) \n",
        "plot_confusion_matrix(y_train, y_train_predb, classes=dataset.TARGET.unique(),\n",
        "                         title=\"Matriz de confusión para conjunto de entrenamiento\");\n",
        " \n",
        "plot_confusion_matrix(y_test, y_test_predb, classes=dataset.TARGET.unique(),\n",
        "                         title=\"Matriz de confusión para conjunto de evaluación\");"
      ],
      "metadata": {
        "id": "qpYNsgijjpVJ",
        "outputId": "f6a7aa33-e3f3-41c1-ee69-f938ffe7d079",
        "colab": {
          "base_uri": "https://localhost:8080/",
          "height": 963
        }
      },
      "execution_count": null,
      "outputs": [
        {
          "output_type": "stream",
          "name": "stdout",
          "text": [
            "Train dataset accuracy: 0.852\n",
            "****Reporte de clasificación sobre conjunto de entrenamiento (métricas)*****\n",
            "              precision    recall  f1-score   support\n",
            "\n",
            "           0       0.85      1.00      0.92      1232\n",
            "           1       0.92      0.14      0.24       251\n",
            "\n",
            "    accuracy                           0.85      1483\n",
            "   macro avg       0.89      0.57      0.58      1483\n",
            "weighted avg       0.86      0.85      0.80      1483\n",
            "\n",
            "-----------------------------------------------------------------\n",
            "Test dataset accuracy: 0.871\n",
            "****Reporte de clasificación sobre conjunto de evaluación (métricas)*****\n",
            "              precision    recall  f1-score   support\n",
            "\n",
            "           0       0.87      1.00      0.93       313\n",
            "           1       1.00      0.17      0.29        58\n",
            "\n",
            "    accuracy                           0.87       371\n",
            "   macro avg       0.93      0.59      0.61       371\n",
            "weighted avg       0.89      0.87      0.83       371\n",
            "\n"
          ]
        },
        {
          "output_type": "display_data",
          "data": {
            "text/plain": [
              "<Figure size 432x288 with 2 Axes>"
            ],
            "image/png": "[encoded data removed]"
          },
          "metadata": {
            "needs_background": "light"
          }
        },
        {
          "output_type": "display_data",
          "data": {
            "text/plain": [
              "<Figure size 432x288 with 2 Axes>"
            ],
            "image/png": "[encoded data removed]"
          },
          "metadata": {
            "needs_background": "light"
          }
        }
      ]
    },
    {
      "cell_type": "markdown",
      "source": [
        "###Interpretación de las métricas para el conjunto de evaluación\n",
        "\n",
        "*   Accuracy: Esta métrica representa el porcentaje total de valores correctamente clasificados, tanto positivos como negativos. Para nuestro modelo obtuvimos un 87% de valores correctamente clasificados. Dado que este indicador se utiliza cuando los datos están balanceados, no sería un buen indicador para nuestro conjunto de datos ya que los mismos presentan un desbalance en la cantidad de registros por etiqueta.\n",
        "\n",
        "      Accuracy = (TP + TN) / (TP + TN + FP + FN)\n",
        "      \n",
        "*   Precision: Este indicador nos muestra que el modelo obtenido identifica correctamente el 87% de las veces a un cliente que pagaría el crédito otorgado, sobre el total de los que predijo que pagarían. Del mismo modo, el 100% de las veces identificó correctamente a los clientes morosos, sobre el total de los que predijo que serían morosos.\n",
        "\n",
        "*   Recall:  Este indicador nos dice que el modelo identifica de forma correcta el 100% de las veces a clientes que pagarán el crédito, sobre los que realmente pagarán. Del mismo modo, identifica de forma correcta el 17% de las veces a clientes morosos, sobre el total de los que realmente son morosos. \n",
        "\n",
        "*   F1: Este indicador es una medida de la precisión del modelo y para nuestro conjunto de datos obtuvimos una precisión del 93% para predecir a los clientes que pagarán y 29% para predecir a los clientes morosos.\n",
        "\n",
        "**Conclusión respecto del modelo lineal**: El modelo es bueno para identificar clientes que pagarán, pero es malo para identificar clientes morosos.\n",
        "\n",
        "\n",
        "\n"
      ],
      "metadata": {
        "id": "sQbougKbiMeW"
      }
    },
    {
      "cell_type": "markdown",
      "metadata": {
        "id": "9yiAJvSKXDht"
      },
      "source": [
        "## Ejercicio 3: Árboles de Decisión\n",
        "\n",
        "En este ejercicio se entrenarán árboles de decisión para predecir la variable objetivo.\n",
        "\n",
        "Para ello, deberán utilizar la clase DecisionTreeClassifier de scikit-learn.\n",
        "\n",
        "Documentación:\n",
        "- https://scikit-learn.org/stable/modules/tree.html\n",
        "  - https://scikit-learn.org/stable/modules/tree.html#tips-on-practical-use\n",
        "- https://scikit-learn.org/stable/modules/generated/sklearn.tree.DecisionTreeClassifier.html\n",
        "- https://scikit-learn.org/stable/auto_examples/tree/plot_unveil_tree_structure.html"
      ]
    },
    {
      "cell_type": "markdown",
      "metadata": {
        "id": "bw6TZA_vXDhu"
      },
      "source": [
        "### Ejercicio 3.1: DecisionTreeClassifier con hiperparámetros por defecto\n",
        "\n",
        "Entrenar y evaluar el clasificador DecisionTreeClassifier usando los valores por omisión de scikit-learn para todos los parámetros. Únicamente **fijar la semilla aleatoria** para hacer repetible el experimento.\n",
        "\n",
        "Evaluar sobre el conjunto de **entrenamiento** y sobre el conjunto de **evaluación**, reportando:\n",
        "- Accuracy\n",
        "- Precision\n",
        "- Recall\n",
        "- F1\n",
        "- matriz de confusión\n"
      ]
    },
    {
      "cell_type": "markdown",
      "source": [
        "**Entrenamos el modelo**"
      ],
      "metadata": {
        "id": "gAzJtjouplPX"
      }
    },
    {
      "cell_type": "code",
      "source": [
        "clasift = tree.DecisionTreeClassifier(random_state=22)\n",
        "clasift.fit(X_strain, y_train)"
      ],
      "metadata": {
        "colab": {
          "base_uri": "https://localhost:8080/"
        },
        "id": "2MWJ3C6e0pDC",
        "outputId": "c9c5f519-c16f-4aae-b71e-e23d98fed4c5"
      },
      "execution_count": null,
      "outputs": [
        {
          "output_type": "execute_result",
          "data": {
            "text/plain": [
              "DecisionTreeClassifier(random_state=22)"
            ]
          },
          "metadata": {},
          "execution_count": 23
        }
      ]
    },
    {
      "cell_type": "markdown",
      "source": [
        "**Predecimos valores \"y\" del conjunto de entrenamiento y del conjunto de evaluación**"
      ],
      "metadata": {
        "id": "zijK07HXpvj3"
      }
    },
    {
      "cell_type": "code",
      "source": [
        "y_train_predt = clasift.predict(X_strain)\n",
        "y_test_predt = clasift.predict(X_stest)"
      ],
      "metadata": {
        "id": "nMi52LJy7tnP"
      },
      "execution_count": null,
      "outputs": []
    },
    {
      "cell_type": "markdown",
      "source": [
        "**Evaluamos sobre el conjunto de entrenamiento y sobre el conjunto de evaluación, reportando las métricas**\n",
        "\n"
      ],
      "metadata": {
        "id": "GnZBl0MDp8fm"
      }
    },
    {
      "cell_type": "code",
      "source": [
        "print(\"Train dataset accuracy: %0.03f\" % clasift.score(X_strain,y_train))\n",
        "print(\"****Reporte de clasificación sobre conjunto de entrenamiento*****\") \n",
        "print(classification_report(y_train, y_train_predt))\n",
        "plot_confusion_matrix(y_train, y_train_predt, classes=dataset.TARGET.unique(),\n",
        "                         title=\"Matriz de confusión para conjunto de entrenamiento\");"
      ],
      "metadata": {
        "colab": {
          "base_uri": "https://localhost:8080/",
          "height": 482
        },
        "id": "BlZreZo28XHm",
        "outputId": "a2e16612-8343-43da-b674-fd4b553d13ea"
      },
      "execution_count": null,
      "outputs": [
        {
          "output_type": "stream",
          "name": "stdout",
          "text": [
            "Train dataset accuracy: 1.000\n",
            "****Reporte de clasificación sobre conjunto de entrenamiento*****\n",
            "              precision    recall  f1-score   support\n",
            "\n",
            "           0       1.00      1.00      1.00      1232\n",
            "           1       1.00      1.00      1.00       251\n",
            "\n",
            "    accuracy                           1.00      1483\n",
            "   macro avg       1.00      1.00      1.00      1483\n",
            "weighted avg       1.00      1.00      1.00      1483\n",
            "\n"
          ]
        },
        {
          "output_type": "display_data",
          "data": {
            "text/plain": [
              "<Figure size 432x288 with 2 Axes>"
            ],
            "image/png": "[encoded data removed]"
          },
          "metadata": {
            "needs_background": "light"
          }
        }
      ]
    },
    {
      "cell_type": "code",
      "source": [
        "print(\"Test dataset accuracy: %0.03f\" % clasift.score(X_stest,y_test))\n",
        "print(\"****Reporte de clasificación sobre conjunto de evaluación*****\") \n",
        "print(classification_report(y_test, y_test_predt))\n",
        "plot_confusion_matrix(y_test, y_test_predt, classes=dataset.TARGET.unique(),\n",
        "                         title=\"Matriz de confusión para conjunto de evaluación\");"
      ],
      "metadata": {
        "colab": {
          "base_uri": "https://localhost:8080/",
          "height": 482
        },
        "id": "RZd_7k9M9dDF",
        "outputId": "c4ecf052-a58e-46bb-b456-6aa7e2baaf25"
      },
      "execution_count": null,
      "outputs": [
        {
          "output_type": "stream",
          "name": "stdout",
          "text": [
            "Test dataset accuracy: 0.879\n",
            "****Reporte de clasificación sobre conjunto de evaluación*****\n",
            "              precision    recall  f1-score   support\n",
            "\n",
            "           0       0.93      0.93      0.93       313\n",
            "           1       0.61      0.62      0.62        58\n",
            "\n",
            "    accuracy                           0.88       371\n",
            "   macro avg       0.77      0.77      0.77       371\n",
            "weighted avg       0.88      0.88      0.88       371\n",
            "\n"
          ]
        },
        {
          "output_type": "display_data",
          "data": {
            "text/plain": [
              "<Figure size 432x288 with 2 Axes>"
            ],
            "image/png": "[encoded data removed]"
          },
          "metadata": {
            "needs_background": "light"
          }
        }
      ]
    },
    {
      "cell_type": "code",
      "source": [
        "plt.figure(figsize=(16,10))\n",
        "tree.plot_tree(clasift, feature_names=dataset.columns[1:],  \n",
        "                      class_names=[\"0\",\"1\"],  \n",
        "                      filled=True)\n",
        "plt.show()"
      ],
      "metadata": {
        "colab": {
          "base_uri": "https://localhost:8080/",
          "height": 575
        },
        "id": "zJISOpD7ALk8",
        "outputId": "35241d5c-2126-41a0-9c34-ed71a81b7e0d"
      },
      "execution_count": null,
      "outputs": [
        {
          "output_type": "display_data",
          "data": {
            "text/plain": [
              "<Figure size 1152x720 with 1 Axes>"
            ],
            "image/png": "[encoded data removed]"
          },
          "metadata": {
            "needs_background": "light"
          }
        }
      ]
    },
    {
      "cell_type": "markdown",
      "source": [
        "####**Observamos sobreajuste en el conjunto de datos cuando instanciamos el modelo con parámetros por defecto. Se espera solucionar este resultado al instanciar el modelo con  mejores valores para los parámetros *max_depth* y *min_samples_leaf*.**"
      ],
      "metadata": {
        "id": "uT0RUf_Jrcz6"
      }
    },
    {
      "cell_type": "markdown",
      "metadata": {
        "id": "46yN0PXIXDhu"
      },
      "source": [
        "### Ejercicio 3.2: Ajuste de Hiperparámetros\n",
        "\n",
        "Seleccionar valores para los hiperparámetros principales del DecisionTreeClassifier. Como mínimo, probar diferentes criterios de partición (criterion), profundidad máxima del árbol (max_depth), y cantidad mínima de samples por hoja (min_samples_leaf).\n",
        "\n",
        "Para ello, usar grid-search y 5-fold cross-validation sobre el conjunto de entrenamiento para explorar muchas combinaciones posibles de valores.\n",
        "\n",
        "Reportar accuracy promedio y varianza para todas las configuraciones.\n",
        "\n",
        "Para la mejor configuración encontrada, evaluar sobre el conjunto de **entrenamiento** y sobre el conjunto de **evaluación**, reportando:\n",
        "- Accuracy\n",
        "- Precision\n",
        "- Recall\n",
        "- F1\n",
        "- matriz de confusión\n",
        "\n",
        "\n",
        "Documentación:\n",
        "- https://scikit-learn.org/stable/modules/grid_search.html\n",
        "- https://scikit-learn.org/stable/modules/generated/sklearn.model_selection.GridSearchCV.html"
      ]
    },
    {
      "cell_type": "markdown",
      "source": [
        "Obtenemos párametros por defecto de la clase DecisionTreeClassifier "
      ],
      "metadata": {
        "id": "UtphBVDLY7HS"
      }
    },
    {
      "cell_type": "code",
      "source": [
        "DecisionTreeClassifier().get_params()"
      ],
      "metadata": {
        "colab": {
          "base_uri": "https://localhost:8080/"
        },
        "id": "uSuDmBI2aQMK",
        "outputId": "3edca1a4-083f-47e1-a09c-337c59bc9916"
      },
      "execution_count": null,
      "outputs": [
        {
          "output_type": "execute_result",
          "data": {
            "text/plain": [
              "{'ccp_alpha': 0.0,\n",
              " 'class_weight': None,\n",
              " 'criterion': 'gini',\n",
              " 'max_depth': None,\n",
              " 'max_features': None,\n",
              " 'max_leaf_nodes': None,\n",
              " 'min_impurity_decrease': 0.0,\n",
              " 'min_samples_leaf': 1,\n",
              " 'min_samples_split': 2,\n",
              " 'min_weight_fraction_leaf': 0.0,\n",
              " 'random_state': None,\n",
              " 'splitter': 'best'}"
            ]
          },
          "metadata": {},
          "execution_count": 28
        }
      ]
    },
    {
      "cell_type": "code",
      "source": [
        "fig, ax2 = plt.subplots(1,2,figsize=(13, 4))\n",
        "for n, criterion in enumerate(('gini','entropy')):\n",
        "    param_grid2 = {\n",
        "     'max_depth': [10,11,12,13,14,15],  # Profundidad máxima del árbol\n",
        "        'min_samples_leaf': [1,2],  # Cantidad mínima de samples por hoja\n",
        "    }\n",
        "    modelt = tree.DecisionTreeClassifier(random_state=22,criterion=criterion)\n",
        "    cvt = GridSearchCV(modelt, param_grid2, scoring='accuracy',cv=5)\n",
        "    cvt.fit(X_strain, y_train)\n",
        "\n",
        "    print(\"******************************************************************\")\n",
        "    print(\"*********Hiperparámetros para citerio de partición\",criterion,\"*********\")\n",
        "    print(\"Mejor conjunto de parámetros:\")\n",
        "    print(cvt.best_params_)\n",
        "    print(\"Best accuracy: %0.03f\" % cvt.score(X_strain,y_train))\n",
        "\n",
        "    y_train_predtt = cvt.predict(X_strain)\n",
        "    print(\"****Reporte de clasificación sobre conjunto de entrenamiento (métricas)*****\") \n",
        "    print(classification_report(y_train, y_train_predtt)) \n",
        "    plot_confusion_matrix(y_train, y_train_predtt, classes=dataset.TARGET.unique(),\n",
        "                         ax=ax2[n],title=\"Matriz de confusión para %s\" % criterion)\n",
        "    \n",
        "    meant = cvt.cv_results_['mean_test_score']\n",
        "    stdt = cvt.cv_results_['std_test_score']\n",
        "    for mean, std, params in zip(meant, stdt, cvt.cv_results_['params']):\n",
        "        print(\"Ac.promedio: %0.4f y var (+/-%0.04f) para los parámetros %r\" % (mean, std ** 2, params))"
      ],
      "metadata": {
        "colab": {
          "base_uri": "https://localhost:8080/",
          "height": 1000
        },
        "id": "uSXp-QwdY4gT",
        "outputId": "dc0704c2-0817-4fae-b322-8c1d6e0b11c3"
      },
      "execution_count": null,
      "outputs": [
        {
          "output_type": "stream",
          "name": "stdout",
          "text": [
            "******************************************************************\n",
            "*********Hiperparámetros para citerio de partición gini *********\n",
            "Mejor conjunto de parámetros:\n",
            "{'max_depth': 10, 'min_samples_leaf': 2}\n",
            "Best accuracy: 0.951\n",
            "****Reporte de clasificación sobre conjunto de entrenamiento (métricas)*****\n",
            "              precision    recall  f1-score   support\n",
            "\n",
            "           0       0.95      1.00      0.97      1232\n",
            "           1       0.98      0.73      0.83       251\n",
            "\n",
            "    accuracy                           0.95      1483\n",
            "   macro avg       0.97      0.86      0.90      1483\n",
            "weighted avg       0.95      0.95      0.95      1483\n",
            "\n",
            "Ac.promedio: 0.8834 y var (+/-0.0004) para los parámetros {'max_depth': 10, 'min_samples_leaf': 1}\n",
            "Ac.promedio: 0.8881 y var (+/-0.0003) para los parámetros {'max_depth': 10, 'min_samples_leaf': 2}\n",
            "Ac.promedio: 0.8753 y var (+/-0.0008) para los parámetros {'max_depth': 11, 'min_samples_leaf': 1}\n",
            "Ac.promedio: 0.8800 y var (+/-0.0004) para los parámetros {'max_depth': 11, 'min_samples_leaf': 2}\n",
            "Ac.promedio: 0.8719 y var (+/-0.0006) para los parámetros {'max_depth': 12, 'min_samples_leaf': 1}\n",
            "Ac.promedio: 0.8732 y var (+/-0.0002) para los parámetros {'max_depth': 12, 'min_samples_leaf': 2}\n",
            "Ac.promedio: 0.8712 y var (+/-0.0006) para los parámetros {'max_depth': 13, 'min_samples_leaf': 1}\n",
            "Ac.promedio: 0.8732 y var (+/-0.0003) para los parámetros {'max_depth': 13, 'min_samples_leaf': 2}\n",
            "Ac.promedio: 0.8678 y var (+/-0.0005) para los parámetros {'max_depth': 14, 'min_samples_leaf': 1}\n",
            "Ac.promedio: 0.8739 y var (+/-0.0004) para los parámetros {'max_depth': 14, 'min_samples_leaf': 2}\n",
            "Ac.promedio: 0.8638 y var (+/-0.0006) para los parámetros {'max_depth': 15, 'min_samples_leaf': 1}\n",
            "Ac.promedio: 0.8732 y var (+/-0.0005) para los parámetros {'max_depth': 15, 'min_samples_leaf': 2}\n",
            "******************************************************************\n",
            "*********Hiperparámetros para citerio de partición entropy *********\n",
            "Mejor conjunto de parámetros:\n",
            "{'max_depth': 11, 'min_samples_leaf': 2}\n",
            "Best accuracy: 0.968\n",
            "****Reporte de clasificación sobre conjunto de entrenamiento (métricas)*****\n",
            "              precision    recall  f1-score   support\n",
            "\n",
            "           0       0.97      0.99      0.98      1232\n",
            "           1       0.96      0.85      0.90       251\n",
            "\n",
            "    accuracy                           0.97      1483\n",
            "   macro avg       0.96      0.92      0.94      1483\n",
            "weighted avg       0.97      0.97      0.97      1483\n",
            "\n",
            "Ac.promedio: 0.8679 y var (+/-0.0003) para los parámetros {'max_depth': 10, 'min_samples_leaf': 1}\n",
            "Ac.promedio: 0.8712 y var (+/-0.0004) para los parámetros {'max_depth': 10, 'min_samples_leaf': 2}\n",
            "Ac.promedio: 0.8678 y var (+/-0.0002) para los parámetros {'max_depth': 11, 'min_samples_leaf': 1}\n",
            "Ac.promedio: 0.8753 y var (+/-0.0002) para los parámetros {'max_depth': 11, 'min_samples_leaf': 2}\n",
            "Ac.promedio: 0.8665 y var (+/-0.0003) para los parámetros {'max_depth': 12, 'min_samples_leaf': 1}\n",
            "Ac.promedio: 0.8651 y var (+/-0.0002) para los parámetros {'max_depth': 12, 'min_samples_leaf': 2}\n",
            "Ac.promedio: 0.8712 y var (+/-0.0005) para los parámetros {'max_depth': 13, 'min_samples_leaf': 1}\n",
            "Ac.promedio: 0.8692 y var (+/-0.0004) para los parámetros {'max_depth': 13, 'min_samples_leaf': 2}\n",
            "Ac.promedio: 0.8678 y var (+/-0.0002) para los parámetros {'max_depth': 14, 'min_samples_leaf': 1}\n",
            "Ac.promedio: 0.8651 y var (+/-0.0005) para los parámetros {'max_depth': 14, 'min_samples_leaf': 2}\n",
            "Ac.promedio: 0.8611 y var (+/-0.0002) para los parámetros {'max_depth': 15, 'min_samples_leaf': 1}\n",
            "Ac.promedio: 0.8658 y var (+/-0.0005) para los parámetros {'max_depth': 15, 'min_samples_leaf': 2}\n"
          ]
        },
        {
          "output_type": "display_data",
          "data": {
            "text/plain": [
              "<Figure size 936x288 with 4 Axes>"
            ],
            "image/png": "[encoded data removed]"
          },
          "metadata": {
            "needs_background": "light"
          }
        }
      ]
    },
    {
      "cell_type": "markdown",
      "source": [
        "####Mejor conjunto de parámetros, función de coste entropy : 'max_depth': 11, 'min_samples_leaf': 2\n"
      ],
      "metadata": {
        "id": "JKcgURhPhkrc"
      }
    },
    {
      "cell_type": "code",
      "source": [
        "clasiftt = tree.DecisionTreeClassifier(random_state=22, criterion=\"entropy\",\n",
        "                                       max_depth=11, min_samples_leaf=2)\n",
        "clasiftt.fit(X_strain, y_train)\n",
        "print(\"Train dataset accuracy: %0.03f\" % clasiftt.score(X_strain,y_train))"
      ],
      "metadata": {
        "colab": {
          "base_uri": "https://localhost:8080/"
        },
        "id": "U_b9urARk3rY",
        "outputId": "9b80b3c2-7332-4b03-d001-76efb8e84530"
      },
      "execution_count": null,
      "outputs": [
        {
          "output_type": "stream",
          "name": "stdout",
          "text": [
            "Train dataset accuracy: 0.968\n"
          ]
        }
      ]
    },
    {
      "cell_type": "code",
      "source": [
        "y_test_predtt = clasiftt.predict(X_stest)\n",
        "print(\"Test dataset accuracy: %0.03f\" % clasiftt.score(X_stest,y_test))\n",
        "print(\"****Reporte de clasificación sobre conjunto de evaluación (métricas)*****\") \n",
        "print(classification_report(y_test, y_test_predtt)) \n",
        "plot_confusion_matrix(y_test, y_test_predtt, classes=dataset.TARGET.unique(),\n",
        "                        title=\"Matriz de confusión para función de coste entropy\");"
      ],
      "metadata": {
        "colab": {
          "base_uri": "https://localhost:8080/",
          "height": 482
        },
        "id": "g9BjStV6mA86",
        "outputId": "582fd90d-5ebb-483a-be27-742fb75dfa55"
      },
      "execution_count": null,
      "outputs": [
        {
          "output_type": "stream",
          "name": "stdout",
          "text": [
            "Test dataset accuracy: 0.887\n",
            "****Reporte de clasificación sobre conjunto de evaluación (métricas)*****\n",
            "              precision    recall  f1-score   support\n",
            "\n",
            "           0       0.93      0.94      0.93       313\n",
            "           1       0.65      0.60      0.62        58\n",
            "\n",
            "    accuracy                           0.89       371\n",
            "   macro avg       0.79      0.77      0.78       371\n",
            "weighted avg       0.88      0.89      0.89       371\n",
            "\n"
          ]
        },
        {
          "output_type": "display_data",
          "data": {
            "text/plain": [
              "<Figure size 432x288 with 2 Axes>"
            ],
            "image/png": "[encoded data removed]"
          },
          "metadata": {
            "needs_background": "light"
          }
        }
      ]
    },
    {
      "cell_type": "code",
      "source": [
        "plt.figure(figsize=(16,10))\n",
        "tree.plot_tree(clasiftt, feature_names=dataset.columns[1:],  \n",
        "                      class_names=[\"0\",\"1\"],  \n",
        "                      filled=True)\n",
        "plt.show()"
      ],
      "metadata": {
        "colab": {
          "base_uri": "https://localhost:8080/",
          "height": 575
        },
        "id": "-ysTF-iBnCct",
        "outputId": "393ef68c-7384-44b6-8661-7524a2b662e5"
      },
      "execution_count": null,
      "outputs": [
        {
          "output_type": "display_data",
          "data": {
            "text/plain": [
              "<Figure size 1152x720 with 1 Axes>"
            ],
            "image/png": "[encoded data removed]"
          },
          "metadata": {
            "needs_background": "light"
          }
        }
      ]
    },
    {
      "cell_type": "markdown",
      "source": [
        "###Conclusiones Ejercicio 3.2 y comentarios finales\n",
        "\n",
        "El ajuste de hiperparámetros max_depth y min_samples_leaf en el presente ejercicio, evitó el sobreajuste del modelo observado en el ejercicio 3.1,  aumentando su capacidad de generalización. Por otra parte, el uso de Árboles de decisión como algoritmo de clasificación, logró mejoras en la performance del modelo predictor, respecto del clasificador SGD. Esto pudo observarse en la mejora del indicador F1, y particularmente para el indicador Recall que es importante para la identificación de clientes potencialmente morosos. Cabe destacar que, en el caso de datasets desbalanceados como en el presente trabajo, una buena alternativa de mejora podría ser la asignación de pesos específicos a las clases de acuerdo a la etiqueta más relevante; o simplemente asignar pesos balanceados por la proporción de etiquetas. Esto es posible mediante el parámetro class_weight, tanto en SGDclassifier como en DecisionTreeClassifier."
      ],
      "metadata": {
        "id": "PYXF10UT1Fkt"
      }
    }
  ],
  "metadata": {
    "kernelspec": {
      "display_name": "Python 3",
      "language": "python",
      "name": "python3"
    },
    "language_info": {
      "codemirror_mode": {
        "name": "ipython",
        "version": 3
      },
      "file_extension": ".py",
      "mimetype": "text/x-python",
      "name": "python",
      "nbconvert_exporter": "python",
      "pygments_lexer": "ipython3",
      "version": "3.8.10"
    },
    "colab": {
      "name": "Lab2_Garay_v2.ipynb",
      "provenance": [],
      "include_colab_link": true
    }
  },
  "nbformat": 4,
  "nbformat_minor": 0
}